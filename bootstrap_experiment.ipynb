{
 "cells": [
  {
   "cell_type": "code",
   "execution_count": null,
   "metadata": {
    "is_executing": true,
    "ExecuteTime": {
     "start_time": "2023-07-09T12:42:07.134255Z"
    }
   },
   "outputs": [],
   "source": [
    "import matplotlib.pyplot as plt\n",
    "import numpy as np\n",
    "import seaborn as sns\n",
    "import plotly\n",
    "import plotly.offline as pio\n",
    "from scipy.stats import mannwhitneyu\n",
    "from scipy.stats import ttest_ind\n",
    "from scipy.stats import ks_2samp\n",
    "from compare_functions import difference_of_median, percent_change_of_median, percent_change_of_mean, percent_change\n",
    "from utils import display_markdown_cell_by_significance\n",
    "from bootstrap import *\n",
    "\n",
    "pio.init_notebook_mode()\n",
    "plt.style.use('ggplot')"
   ]
  },
  {
   "cell_type": "markdown",
   "metadata": {},
   "source": [
    "[Bootstrapping](https://en.wikipedia.org/wiki/Bootstrapping_(statistics)) is any test or metric that uses random sampling with replacement (e.g. mimicking the sampling process), and falls under the\n",
    "broader class of resampling methods. Bootstrapping assigns measures of accuracy (bias, variance, confidence intervals, prediction error, etc.) to sample estimates. This technique allows estimation of the sampling distribution of almost any statistic using random sampling methods.\n",
    "\n",
    "Bootstrapping estimates the properties of an estimand (such as its variance) by measuring those properties when sampling from an approximating distribution. One standard choice for an approximating distribution is the empirical distribution function of the observed data. In the case where a set of observations can be assumed to be from an independent and identically distributed population, this can be implemented by constructing a number of resamples with replacement, of the observed data set (and of equal size to the observed data set).\n",
    "\n",
    "It may also be used for constructing hypothesis tests. It is often used as an alternative to statistical inference based on the assumption of a parametric model when that assumption is in doubt, or where parametric inference is impossible or requires complicated formulas for the calculation of standard errors."
   ]
  },
  {
   "cell_type": "markdown",
   "metadata": {},
   "source": [
    "# Experiment 1"
   ]
  },
  {
   "cell_type": "markdown",
   "metadata": {},
   "source": [
    "For example, let's generate two samples of the exponential distribution with similar $\\beta$ parameter"
   ]
  },
  {
   "cell_type": "code",
   "execution_count": null,
   "metadata": {
    "is_executing": true
   },
   "outputs": [],
   "source": [
    "n = 10000\n",
    "\n",
    "sample_1 = np.random.exponential(scale=1 / 0.001, size=n)\n",
    "sample_2 = np.random.exponential(scale=1 / 0.00101, size=n)\n",
    "data_df = pd.DataFrame({'sample_1': pd.Series(sample_1), 'sample_2': pd.Series(sample_2)})"
   ]
  },
  {
   "cell_type": "markdown",
   "metadata": {},
   "source": [
    "These samples have no significant difference in descriptive statistical parameters; let's check it in the experiment"
   ]
  },
  {
   "cell_type": "code",
   "execution_count": null,
   "metadata": {
    "is_executing": true
   },
   "outputs": [],
   "source": [
    "binwidth, bins = estimate_bin_params(sample_1)\n",
    "sns.histplot(data_df, binwidth=binwidth, bins=bins, kde=True)"
   ]
  },
  {
   "cell_type": "markdown",
   "metadata": {},
   "source": [
    "The essence of this experiment is to conduct several experiments in which we will take subsamples with replacements from our samples. We will calculate the difference between the mathematical expectation of the two subsamples($M[subsample_1]-M[subsample_2]$) in every case and then build a histogram with the result of our experiments"
   ]
  },
  {
   "cell_type": "code",
   "execution_count": null,
   "metadata": {
    "is_executing": true
   },
   "outputs": [
    {
     "data": {
      "text/plain": "<Figure size 640x480 with 1 Axes>",
      "image/png": "[encoded data removed]"
     },
     "metadata": {},
     "output_type": "display_data"
    },
    {
     "data": {
      "text/plain": "(0.8388, -3.008509700532977, array([-30.78332432,  24.74551985]))"
     },
     "execution_count": 4,
     "metadata": {},
     "output_type": "execute_result"
    }
   ],
   "source": [
    "p_value, bootstrap_difference_mean, bootstrap_confidence_interval, bootstrap_difference_distribution = bootstrap(\n",
    "    sample_1, sample_2, plot=True)\n",
    "p_value, bootstrap_difference_mean, bootstrap_confidence_interval"
   ]
  },
  {
   "cell_type": "markdown",
   "metadata": {},
   "source": [
    "CI(Confidence Interval) contains zero, which means we have no significant difference between the mean of the two samples\n",
    "\n",
    "We can rephrase this statement:  In our subsample experiments, the difference between the means of our subsamples is zero in many cases"
   ]
  },
  {
   "cell_type": "markdown",
   "metadata": {},
   "source": [
    "Estimated $p$_$value$ proves this statement:"
   ]
  },
  {
   "cell_type": "code",
   "execution_count": 5,
   "metadata": {
    "ExecuteTime": {
     "end_time": "2023-07-09T12:42:09.048710Z",
     "start_time": "2023-07-09T12:42:09.040552Z"
    }
   },
   "outputs": [
    {
     "data": {
      "text/plain": "<IPython.core.display.Markdown object>",
      "text/markdown": "<div class=\"alert alert-block alert-danger\">Difference are non-significant($p$_$value$ > 0.05)</div>"
     },
     "metadata": {},
     "output_type": "display_data"
    }
   ],
   "source": [
    "display_markdown_cell_by_significance(p_value)"
   ]
  },
  {
   "cell_type": "code",
   "execution_count": 6,
   "metadata": {
    "ExecuteTime": {
     "end_time": "2023-07-09T12:42:09.057119Z",
     "start_time": "2023-07-09T12:42:09.049275Z"
    }
   },
   "outputs": [
    {
     "data": {
      "text/plain": "0.8388"
     },
     "execution_count": 6,
     "metadata": {},
     "output_type": "execute_result"
    }
   ],
   "source": [
    "p_value"
   ]
  },
  {
   "cell_type": "markdown",
   "metadata": {},
   "source": [
    "Poisson Bootstrap $p$_$value$:"
   ]
  },
  {
   "cell_type": "code",
   "execution_count": 7,
   "metadata": {
    "ExecuteTime": {
     "end_time": "2023-07-09T12:42:14.575127Z",
     "start_time": "2023-07-09T12:42:09.051280Z"
    }
   },
   "outputs": [
    {
     "data": {
      "text/plain": "0.8198"
     },
     "execution_count": 7,
     "metadata": {},
     "output_type": "execute_result"
    }
   ],
   "source": [
    "poisson_bootstrap(sample_1, sample_2)"
   ]
  },
  {
   "cell_type": "markdown",
   "source": [
    "To compare the result we can use T-Test as Sanity Check function to simulate AA and AB test experiments"
   ],
   "metadata": {
    "collapsed": false
   }
  },
  {
   "cell_type": "code",
   "execution_count": 8,
   "outputs": [
    {
     "data": {
      "text/plain": "0.8389692590747004"
     },
     "execution_count": 8,
     "metadata": {},
     "output_type": "execute_result"
    }
   ],
   "source": [
    "statistic, p_value = ttest_ind(sample_1, sample_2)\n",
    "p_value"
   ],
   "metadata": {
    "collapsed": false,
    "ExecuteTime": {
     "end_time": "2023-07-09T12:42:14.597012Z",
     "start_time": "2023-07-09T12:42:14.376351Z"
    }
   }
  },
  {
   "cell_type": "code",
   "execution_count": 9,
   "outputs": [
    {
     "data": {
      "text/plain": "<IPython.core.display.Markdown object>",
      "text/markdown": "<div class=\"alert alert-block alert-danger\">Difference are non-significant($p$_$value$ > 0.05)</div>"
     },
     "metadata": {},
     "output_type": "display_data"
    }
   ],
   "source": [
    "display_markdown_cell_by_significance(p_value)"
   ],
   "metadata": {
    "collapsed": false,
    "ExecuteTime": {
     "end_time": "2023-07-09T12:42:14.597645Z",
     "start_time": "2023-07-09T12:42:14.396425Z"
    }
   }
  },
  {
   "cell_type": "code",
   "execution_count": 10,
   "outputs": [
    {
     "data": {
      "text/plain": "<Figure size 640x480 with 5 Axes>",
      "image/png": "[encoded data removed]"
     },
     "metadata": {},
     "output_type": "display_data"
    }
   ],
   "source": [
    "aa_p_values, power, auc_h0 = ab_test_simulation(sample_1, sample_1, stat_test=ttest_ind)\n",
    "ab_p_values, power, auc_h1 = ab_test_simulation(sample_1, sample_2, stat_test=ttest_ind)\n",
    "plot_summary(aa_p_values, ab_p_values)"
   ],
   "metadata": {
    "collapsed": false,
    "ExecuteTime": {
     "end_time": "2023-07-09T12:42:16.537940Z",
     "start_time": "2023-07-09T12:42:14.411881Z"
    }
   }
  },
  {
   "cell_type": "markdown",
   "metadata": {},
   "source": [
    "### Bootstrap recommendations:\n",
    "1. To estimate 90% CI, the number of bootstrap iterations should be between 1000-2000 (boot_it=2000)\n",
    "2. To estimate 95% CI, the number of bootstrap iterations should be greater or equal to 5000 (boot_it=5000)"
   ]
  },
  {
   "cell_type": "markdown",
   "metadata": {},
   "source": [
    "#### Experiment 1.1"
   ]
  },
  {
   "cell_type": "markdown",
   "metadata": {},
   "source": [
    "To estimate the difference in medians, we can use [Bootstrap created by the Spotify team](https://engineering.atspotify.com/2022/03/comparing-quantiles-at-scale-in-online-a-b-testing/), [Mårten Schultzberg](https://github.com/MSchultzberg), and [Sebastian Ankargren](https://github.com/ankargren)"
   ]
  },
  {
   "cell_type": "markdown",
   "metadata": {},
   "source": [
    "Mårten Schultzberg and Sebastian Ankargren. “Resampling-free bootstrap inference for quantiles.” arXiv e-prints, art. arXiv:2202.10992, (2022). [Article link](https://arxiv.org/abs/2202.10992)."
   ]
  },
  {
   "cell_type": "code",
   "execution_count": 11,
   "metadata": {
    "ExecuteTime": {
     "end_time": "2023-07-09T12:42:20.701232Z",
     "start_time": "2023-07-09T12:42:16.535698Z"
    }
   },
   "outputs": [
    {
     "data": {
      "text/plain": "<Figure size 640x480 with 1 Axes>",
      "image/png": "[encoded data removed]"
     },
     "metadata": {},
     "output_type": "display_data"
    },
    {
     "data": {
      "text/plain": "(0.507, 9.271012526486105, array([-17.769193  ,  35.94679361]))"
     },
     "execution_count": 11,
     "metadata": {},
     "output_type": "execute_result"
    }
   ],
   "source": [
    "p_value, bootstrap_difference_mean, bootstrap_confidence_interval, bootstrap_difference_distribution = bootstrap(\n",
    "    sample_1, sample_2, statistic=difference_of_median, plot=True)\n",
    "p_value, bootstrap_difference_mean, bootstrap_confidence_interval"
   ]
  },
  {
   "cell_type": "code",
   "execution_count": 12,
   "metadata": {
    "ExecuteTime": {
     "end_time": "2023-07-09T12:42:20.707904Z",
     "start_time": "2023-07-09T12:42:20.702757Z"
    }
   },
   "outputs": [
    {
     "data": {
      "text/plain": "<IPython.core.display.Markdown object>",
      "text/markdown": "<div class=\"alert alert-block alert-danger\">Difference are non-significant($p$_$value$ > 0.05)</div>"
     },
     "metadata": {},
     "output_type": "display_data"
    }
   ],
   "source": [
    "display_markdown_cell_by_significance(p_value)"
   ]
  },
  {
   "cell_type": "code",
   "execution_count": 13,
   "metadata": {
    "ExecuteTime": {
     "end_time": "2023-07-09T12:42:20.888313Z",
     "start_time": "2023-07-09T12:42:20.709726Z"
    }
   },
   "outputs": [
    {
     "data": {
      "text/plain": "<Figure size 640x480 with 1 Axes>",
      "image/png": "[encoded data removed]"
     },
     "metadata": {},
     "output_type": "display_data"
    },
    {
     "data": {
      "text/plain": "(0.5192, 9.271012526486105, array([-17.64891103,  35.87145262]))"
     },
     "execution_count": 13,
     "metadata": {},
     "output_type": "execute_result"
    }
   ],
   "source": [
    "p_value, bootstrap_mean, bootstrap_confidence_interval, bootstrap_difference_distribution = spotify_two_sample_bootstrap(\n",
    "    sample_1, sample_2, plot=True)\n",
    "p_value, bootstrap_difference_mean, bootstrap_confidence_interval"
   ]
  },
  {
   "cell_type": "code",
   "execution_count": 14,
   "metadata": {
    "ExecuteTime": {
     "end_time": "2023-07-09T12:42:20.892335Z",
     "start_time": "2023-07-09T12:42:20.887799Z"
    }
   },
   "outputs": [
    {
     "data": {
      "text/plain": "<IPython.core.display.Markdown object>",
      "text/markdown": "<div class=\"alert alert-block alert-danger\">Difference are non-significant($p$_$value$ > 0.05)</div>"
     },
     "metadata": {},
     "output_type": "display_data"
    }
   ],
   "source": [
    "display_markdown_cell_by_significance(p_value)"
   ]
  },
  {
   "cell_type": "code",
   "execution_count": 15,
   "metadata": {
    "ExecuteTime": {
     "end_time": "2023-07-09T12:42:26.599999Z",
     "start_time": "2023-07-09T12:42:20.891426Z"
    }
   },
   "outputs": [
    {
     "data": {
      "text/plain": "<Figure size 640x480 with 1 Axes>",
      "image/png": "[encoded data removed]"
     },
     "metadata": {},
     "output_type": "display_data"
    },
    {
     "data": {
      "text/plain": "(0.521, 1.2884858302479654, array([-2.53709172,  5.06666599]))"
     },
     "execution_count": 15,
     "metadata": {},
     "output_type": "execute_result"
    }
   ],
   "source": [
    "p_value, bootstrap_difference_mean, bootstrap_confidence_interval, bootstrap_difference_distribution = bootstrap(\n",
    "    sample_1, sample_2, statistic=percent_change_of_median, plot=True)\n",
    "p_value, bootstrap_difference_mean, bootstrap_confidence_interval"
   ]
  },
  {
   "cell_type": "code",
   "execution_count": 16,
   "metadata": {
    "ExecuteTime": {
     "end_time": "2023-07-09T12:42:26.605063Z",
     "start_time": "2023-07-09T12:42:26.602911Z"
    }
   },
   "outputs": [
    {
     "data": {
      "text/plain": "<IPython.core.display.Markdown object>",
      "text/markdown": "<div class=\"alert alert-block alert-danger\">Difference are non-significant($p$_$value$ > 0.05)</div>"
     },
     "metadata": {},
     "output_type": "display_data"
    }
   ],
   "source": [
    "display_markdown_cell_by_significance(p_value)"
   ]
  },
  {
   "cell_type": "code",
   "execution_count": 17,
   "metadata": {
    "ExecuteTime": {
     "end_time": "2023-07-09T12:42:26.776145Z",
     "start_time": "2023-07-09T12:42:26.605341Z"
    }
   },
   "outputs": [
    {
     "data": {
      "text/plain": "<Figure size 640x480 with 1 Axes>",
      "image/png": "[encoded data removed]"
     },
     "metadata": {},
     "output_type": "display_data"
    },
    {
     "data": {
      "text/plain": "(0.509, 1.2884858302479654, array([-2.62168428,  5.11102518]))"
     },
     "execution_count": 17,
     "metadata": {},
     "output_type": "execute_result"
    }
   ],
   "source": [
    "p_value, bootstrap_mean, bootstrap_confidence_interval, bootstrap_difference_distribution = spotify_two_sample_bootstrap(\n",
    "    sample_1, sample_2, statistic=percent_change, plot=True)\n",
    "p_value, bootstrap_difference_mean, bootstrap_confidence_interval"
   ]
  },
  {
   "cell_type": "code",
   "execution_count": 18,
   "metadata": {
    "ExecuteTime": {
     "end_time": "2023-07-09T12:42:26.776897Z",
     "start_time": "2023-07-09T12:42:26.740651Z"
    }
   },
   "outputs": [
    {
     "data": {
      "text/plain": "<IPython.core.display.Markdown object>",
      "text/markdown": "<div class=\"alert alert-block alert-danger\">Difference are non-significant($p$_$value$ > 0.05)</div>"
     },
     "metadata": {},
     "output_type": "display_data"
    }
   ],
   "source": [
    "display_markdown_cell_by_significance(p_value)"
   ]
  },
  {
   "cell_type": "markdown",
   "source": [
    "#### Experiment 1.2"
   ],
   "metadata": {
    "collapsed": false
   }
  },
  {
   "cell_type": "markdown",
   "source": [
    "QQ-Difference Estimation Plot"
   ],
   "metadata": {
    "collapsed": false
   }
  },
  {
   "cell_type": "code",
   "execution_count": 19,
   "outputs": [
    {
     "data": {
      "application/vnd.plotly.v1+json": {
       "data": [
        {
         "line": {
          "color": "red"
         },
         "mode": "lines",
         "name": "Quantile Information",
         "x": [
          0.01,
          0.0198989898989899,
          0.029797979797979796,
          0.039696969696969696,
          0.049595959595959596,
          0.059494949494949496,
          0.06939393939393938,
          0.07929292929292929,
          0.08919191919191918,
          0.09909090909090908,
          0.10898989898989898,
          0.11888888888888888,
          0.12878787878787878,
          0.1386868686868687,
          0.1485858585858586,
          0.15848484848484848,
          0.16838383838383839,
          0.1782828282828283,
          0.18818181818181817,
          0.19808080808080808,
          0.207979797979798,
          0.21787878787878787,
          0.22777777777777777,
          0.23767676767676768,
          0.24757575757575756,
          0.25747474747474747,
          0.2673737373737374,
          0.2772727272727273,
          0.2871717171717172,
          0.29707070707070704,
          0.30696969696969695,
          0.31686868686868686,
          0.32676767676767676,
          0.33666666666666667,
          0.3465656565656566,
          0.3564646464646465,
          0.36636363636363634,
          0.37626262626262624,
          0.38616161616161615,
          0.39606060606060606,
          0.40595959595959596,
          0.41585858585858587,
          0.4257575757575757,
          0.43565656565656563,
          0.44555555555555554,
          0.45545454545454545,
          0.46535353535353535,
          0.47525252525252526,
          0.4851515151515151,
          0.495050505050505,
          0.5049494949494949,
          0.5148484848484849,
          0.5247474747474747,
          0.5346464646464646,
          0.5445454545454546,
          0.5544444444444444,
          0.5643434343434344,
          0.5742424242424242,
          0.5841414141414141,
          0.594040404040404,
          0.6039393939393939,
          0.6138383838383838,
          0.6237373737373737,
          0.6336363636363637,
          0.6435353535353535,
          0.6534343434343434,
          0.6633333333333333,
          0.6732323232323232,
          0.6831313131313131,
          0.693030303030303,
          0.702929292929293,
          0.7128282828282828,
          0.7227272727272727,
          0.7326262626262626,
          0.7425252525252525,
          0.7524242424242424,
          0.7623232323232323,
          0.7722222222222221,
          0.7821212121212121,
          0.792020202020202,
          0.8019191919191919,
          0.8118181818181818,
          0.8217171717171717,
          0.8316161616161616,
          0.8415151515151514,
          0.8514141414141414,
          0.8613131313131313,
          0.8712121212121212,
          0.8811111111111111,
          0.891010101010101,
          0.9009090909090909,
          0.9108080808080807,
          0.9207070707070707,
          0.9306060606060605,
          0.9405050505050505,
          0.9504040404040404,
          0.9603030303030302,
          0.9702020202020202,
          0.98010101010101,
          0.99
         ],
         "y": [
          0.3944813533939051,
          0.3812064204780867,
          0.9034523325436155,
          0.9849228094549716,
          0.5749824438773459,
          2.3803257393108694,
          4.9921467870582745,
          4.3156113942656305,
          3.153127562001444,
          1.3784553588719035,
          2.0325182622985807,
          1.953673587025449,
          -0.4692131443219978,
          -3.010372025824978,
          0.3773949629239439,
          2.8848406583348094,
          3.216238101386722,
          1.8643578813954207,
          3.1908579045430656,
          0.5572485157838685,
          1.1788112421060362,
          0.956466017090122,
          2.6248696819509405,
          2.4978548952209394,
          3.945696640745382,
          3.9812901554428777,
          4.024694276195476,
          8.001019318964723,
          9.042242706200454,
          12.579443793485382,
          16.500084493931638,
          16.3116444382581,
          15.086679302380503,
          12.12549991536514,
          12.470966635585853,
          8.602739445484076,
          12.353995995072637,
          13.606640691765847,
          10.479615250878396,
          5.661621017570781,
          5.834813848156159,
          4.332735245245885,
          8.649242710704357,
          6.0594085415160635,
          7.903532651951082,
          8.145445152121965,
          5.991737347646904,
          4.913805854177099,
          11.464498931795333,
          10.247648583725095,
          8.220728853326477,
          6.215824607769605,
          7.406317027308887,
          4.449874667349036,
          3.6142381527092766,
          5.484285676096533,
          7.688096262833142,
          10.106708028950493,
          8.07130269186655,
          11.076528742410346,
          11.038194644786017,
          9.62266504851982,
          9.875705829771846,
          12.275550634266551,
          11.542918669789515,
          18.032744615571573,
          18.049051456922825,
          16.828247321580648,
          22.22426313662322,
          26.78647434546724,
          28.0012050872931,
          27.162053635248412,
          28.123408833755548,
          16.051209198341667,
          9.624987946221836,
          5.053802659637768,
          -5.0856819126097434,
          -6.900871497934077,
          -3.058689041547268,
          -12.783459525146782,
          -14.210150315541114,
          -8.284982350617156,
          -14.598760220332906,
          0.5137347602396858,
          -5.634771008580856,
          -21.506152597389246,
          -25.48448118927581,
          -16.749073244582178,
          -11.665777287588298,
          30.934452296270138,
          14.235928439081817,
          7.778232126627245,
          -9.604782676247396,
          -32.66780974914627,
          -30.53897630274787,
          -29.17252026884171,
          -72.28802549067359,
          -90.27673287323205,
          -51.491369144289365,
          -191.78858132001096
         ],
         "type": "scatter",
         "customdata": [
          [
           0.01,
           0.8164,
           0.3944813533939051,
           -1.841654592933203,
           3.0204876658350197,
           "False",
           2.6260063124411146,
           2.236135946327108
          ],
          [
           0.0198989898989899,
           0.9702,
           0.3812064204780867,
           -4.288667084842102,
           4.757086366329471,
           "False",
           4.375879945851384,
           4.669873505320188
          ],
          [
           0.029797979797979796,
           0.6968,
           0.9034523325436155,
           -3.981811932854036,
           5.324626929310428,
           "False",
           4.421174596766813,
           4.885264265397652
          ],
          [
           0.039696969696969696,
           0.7712,
           0.9849228094549716,
           -4.330238800043702,
           6.65729019048256,
           "False",
           5.6723673810275885,
           5.315161609498674
          ],
          [
           0.049595959595959596,
           0.811,
           0.5749824438773459,
           -5.705898543215149,
           8.384576135444174,
           "False",
           7.809593691566828,
           6.280880987092495
          ],
          [
           0.059494949494949496,
           0.4662,
           2.3803257393108694,
           -3.766806479142117,
           8.384219627826232,
           "False",
           6.003893888515362,
           6.147132218452986
          ],
          [
           0.06939393939393938,
           0.1914,
           4.9921467870582745,
           -2.4441526926980743,
           11.09182033799469,
           "False",
           6.099673550936416,
           7.436299479756348
          ],
          [
           0.07929292929292929,
           0.3946,
           4.3156113942656305,
           -4.587398635676,
           11.478506060651972,
           "False",
           7.162894666386341,
           8.90301002994163
          ],
          [
           0.08919191919191918,
           0.4168,
           3.153127562001444,
           -4.755665010086373,
           11.123086599044582,
           "False",
           7.969959037043138,
           7.908792572087817
          ],
          [
           0.09909090909090908,
           0.7292,
           1.3784553588719035,
           -7.849142993698556,
           12.743125331686477,
           "False",
           11.364669972814573,
           9.22759835257046
          ],
          [
           0.10898989898989898,
           0.6214,
           2.0325182622985807,
           -7.395854236774159,
           12.996059971353306,
           "False",
           10.963541709054725,
           9.42837249907274
          ],
          [
           0.11888888888888888,
           0.7554,
           1.953673587025449,
           -9.247661460724517,
           12.71628409826611,
           "False",
           10.762610511240661,
           11.201335047749966
          ],
          [
           0.12878787878787878,
           0.9256,
           -0.4692131443219978,
           -11.141263751121677,
           9.882456845827921,
           "False",
           10.351669990149919,
           10.67205060679968
          ],
          [
           0.1386868686868687,
           0.6744,
           -3.010372025824978,
           -13.083051159465239,
           10.220305401472016,
           "False",
           13.230677427296994,
           10.07267913364026
          ],
          [
           0.1485858585858586,
           0.9422,
           0.3773949629239439,
           -11.412207680245919,
           12.004710011155748,
           "False",
           11.627315048231804,
           11.789602643169863
          ],
          [
           0.15848484848484848,
           0.6152,
           2.8848406583348094,
           -8.113695687877524,
           13.501962705340375,
           "False",
           10.617122047005566,
           10.998536346212333
          ],
          [
           0.16838383838383839,
           0.5612,
           3.216238101386722,
           -9.300989732490349,
           15.16198720624737,
           "False",
           11.945749104860647,
           12.51722783387707
          ],
          [
           0.1782828282828283,
           0.779,
           1.8643578813954207,
           -11.002581345924279,
           15.826205713263164,
           "False",
           13.961847831867743,
           12.8669392273197
          ],
          [
           0.18818181818181817,
           0.7146,
           3.1908579045430656,
           -12.368736903567598,
           16.096522711874865,
           "False",
           12.9056648073318,
           15.559594808110663
          ],
          [
           0.19808080808080808,
           0.8964,
           0.5572485157838685,
           -14.011962311220774,
           16.187628483630203,
           "False",
           15.630379967846334,
           14.569210827004643
          ],
          [
           0.207979797979798,
           0.9208,
           1.1788112421060362,
           -14.28864106429218,
           15.229529950102624,
           "False",
           14.050718707996587,
           15.467452306398217
          ],
          [
           0.21787878787878787,
           0.9198,
           0.956466017090122,
           -13.01508848493939,
           15.343492492707679,
           "False",
           14.387026475617557,
           13.971554502029512
          ],
          [
           0.22777777777777777,
           0.8014,
           2.6248696819509405,
           -13.57893247944916,
           17.34296135327078,
           "False",
           14.71809167131984,
           16.203802161400098
          ],
          [
           0.23767676767676768,
           0.7742,
           2.4978548952209394,
           -12.688518533705803,
           17.762518445055825,
           "False",
           15.264663549834886,
           15.186373428926743
          ],
          [
           0.24757575757575756,
           0.6764,
           3.945696640745382,
           -13.680029793680028,
           19.925417673915835,
           "False",
           15.979721033170453,
           17.62572643442541
          ],
          [
           0.25747474747474747,
           0.6282,
           3.9812901554428777,
           -11.584016793714207,
           19.143563540246614,
           "False",
           15.162273384803736,
           15.565306949157085
          ],
          [
           0.2673737373737374,
           0.5768,
           4.024694276195476,
           -11.040435089187667,
           21.571564956695344,
           "False",
           17.546870680499868,
           15.065129365383143
          ],
          [
           0.2772727272727273,
           0.4042,
           8.001019318964723,
           -10.720002675673877,
           24.665709850188495,
           "False",
           16.664690531223773,
           18.721021994638598
          ],
          [
           0.2871717171717172,
           0.322,
           9.042242706200454,
           -8.392456056228092,
           26.44154291911992,
           "False",
           17.399300212919467,
           17.434698762428546
          ],
          [
           0.29707070707070704,
           0.233,
           12.579443793485382,
           -7.304638654670062,
           31.79746977796235,
           "False",
           19.218025984476967,
           19.884082448155443
          ],
          [
           0.30696969696969695,
           0.1092,
           16.500084493931638,
           -3.8645263786284185,
           34.427940210042806,
           "False",
           17.927855716111168,
           20.364610872560057
          ],
          [
           0.31686868686868686,
           0.082,
           16.3116444382581,
           -2.1415018172088454,
           34.14053573068421,
           "False",
           17.828891292426114,
           18.453146255466944
          ],
          [
           0.32676767676767676,
           0.1314,
           15.086679302380503,
           -4.205746726423476,
           33.70518723876641,
           "False",
           18.61850793638591,
           19.29242602880398
          ],
          [
           0.33666666666666667,
           0.2176,
           12.12549991536514,
           -7.007089944523998,
           33.464372306508665,
           "False",
           21.338872391143525,
           19.132589859889137
          ],
          [
           0.3465656565656566,
           0.2506,
           12.470966635585853,
           -9.469803175603367,
           32.92807946682802,
           "False",
           20.457112831242164,
           21.94076981118922
          ],
          [
           0.3564646464646465,
           0.3126,
           8.602739445484076,
           -9.46896912884609,
           32.479846827689066,
           "False",
           23.87710738220499,
           18.071708574330167
          ],
          [
           0.36636363636363634,
           0.3486,
           12.353995995072637,
           -10.689271124167286,
           34.26231235108649,
           "False",
           21.908316356013856,
           23.04326711923992
          ],
          [
           0.37626262626262624,
           0.2638,
           13.606640691765847,
           -10.687330246010353,
           34.0189091578095,
           "False",
           20.412268466043656,
           24.2939709377762
          ],
          [
           0.38616161616161615,
           0.3336,
           10.479615250878396,
           -10.851110267390538,
           31.379779076582874,
           "False",
           20.900163825704478,
           21.330725518268935
          ],
          [
           0.39606060606060606,
           0.5332,
           5.661621017570781,
           -13.477023552966614,
           28.29522149107594,
           "False",
           22.633600473505158,
           19.138644570537394
          ],
          [
           0.40595959595959596,
           0.663,
           5.834813848156159,
           -17.111657935309193,
           27.794033710809703,
           "False",
           21.959219862653544,
           22.946471783465352
          ],
          [
           0.41585858585858587,
           0.655,
           4.332735245245885,
           -17.983752045918827,
           28.899443260115827,
           "False",
           24.566708014869942,
           22.316487291164712
          ],
          [
           0.4257575757575757,
           0.5468,
           8.649242710704357,
           -17.752624001751812,
           30.028561102103417,
           "False",
           21.37931839139906,
           26.40186671245617
          ],
          [
           0.43565656565656563,
           0.5812,
           6.0594085415160635,
           -16.583265184388733,
           31.583884154249546,
           "False",
           25.524475612733482,
           22.642673725904796
          ],
          [
           0.44555555555555554,
           0.545,
           7.903532651951082,
           -17.056836943306326,
           31.21299288229055,
           "False",
           23.309460230339468,
           24.960369595257408
          ],
          [
           0.45545454545454545,
           0.5624,
           8.145445152121965,
           -18.28614974919779,
           32.634220135792845,
           "False",
           24.48877498367088,
           26.431594901319755
          ],
          [
           0.46535353535353535,
           0.666,
           5.991737347646904,
           -19.639665137752193,
           32.42060699468019,
           "False",
           26.428869647033288,
           25.631402485399096
          ],
          [
           0.47525252525252526,
           0.631,
           4.913805854177099,
           -19.23452784931148,
           35.57133495383653,
           "False",
           30.657529099659435,
           24.14833370348858
          ],
          [
           0.4851515151515151,
           0.4582,
           11.464498931795333,
           -17.707903506472245,
           35.66747865085772,
           "False",
           24.202979719062384,
           29.17240243826758
          ],
          [
           0.495050505050505,
           0.4468,
           10.247648583725095,
           -15.930696800599435,
           35.534298106251775,
           "False",
           25.28664952252668,
           26.17834538432453
          ],
          [
           0.5049494949494949,
           0.566,
           8.220728853326477,
           -20.218086019113255,
           36.98424491399724,
           "False",
           28.76351606067076,
           28.438814872439732
          ],
          [
           0.5148484848484849,
           0.6946,
           6.215824607769605,
           -24.722502783681776,
           38.414002483101385,
           "False",
           32.19817787533178,
           30.93832739145138
          ],
          [
           0.5247474747474747,
           0.6494,
           7.406317027308887,
           -22.017639336092383,
           33.793392690005476,
           "False",
           26.38707566269659,
           29.42395636340127
          ],
          [
           0.5346464646464646,
           0.7534,
           4.449874667349036,
           -25.16346748439474,
           34.585904129559744,
           "False",
           30.136029462210708,
           29.613342151743776
          ],
          [
           0.5445454545454546,
           0.7668,
           3.6142381527092766,
           -24.471374878308254,
           34.02182453765385,
           "False",
           30.407586384944572,
           28.08561303101753
          ],
          [
           0.5544444444444444,
           0.6814,
           5.484285676096533,
           -24.61923858932925,
           36.81434656394567,
           "False",
           31.330060887849136,
           30.103524265425783
          ],
          [
           0.5643434343434344,
           0.6622,
           7.688096262833142,
           -26.23429989531456,
           43.07802295865554,
           "False",
           35.389926695822396,
           33.922396158147706
          ],
          [
           0.5742424242424242,
           0.5524,
           10.106708028950493,
           -25.33036552209057,
           43.0419798833907,
           "False",
           32.93527185444021,
           35.43707355104107
          ],
          [
           0.5841414141414141,
           0.6032,
           8.07130269186655,
           -24.64297309253534,
           45.41438384364585,
           "False",
           37.3430811517793,
           32.71427578440189
          ],
          [
           0.594040404040404,
           0.557,
           11.076528742410346,
           -25.099040156426,
           46.38679963284494,
           "False",
           35.310270890434595,
           36.175568898836346
          ],
          [
           0.6039393939393939,
           0.561,
           11.038194644786017,
           -24.5310088944535,
           45.09906147206534,
           "False",
           34.06086682727932,
           35.56920353923952
          ],
          [
           0.6138383838383838,
           0.6248,
           9.62266504851982,
           -25.094107516591556,
           44.3950782260506,
           "False",
           34.77241317753078,
           34.71677256511138
          ],
          [
           0.6237373737373737,
           0.5194,
           9.875705829771846,
           -23.37618684472427,
           44.53078357232551,
           "False",
           34.655077742553665,
           33.25189267449612
          ],
          [
           0.6336363636363637,
           0.5066,
           12.275550634266551,
           -22.472623105600846,
           46.43857922295891,
           "False",
           34.163028588692356,
           34.7481737398674
          ],
          [
           0.6435353535353535,
           0.5236,
           11.542918669789515,
           -24.00533533799545,
           50.58408525720782,
           "False",
           39.0411665874183,
           35.54825400778496
          ],
          [
           0.6534343434343434,
           0.4392,
           18.032744615571573,
           -24.570869739196258,
           54.57751705331525,
           "False",
           36.544772437743674,
           42.60361435476783
          ],
          [
           0.6633333333333333,
           0.4142,
           18.049051456922825,
           -23.73252001702163,
           56.20962409165941,
           "False",
           38.16057263473658,
           41.78157147394445
          ],
          [
           0.6732323232323232,
           0.4082,
           16.828247321580648,
           -23.455578069332162,
           63.64361675234033,
           "False",
           46.81536943075968,
           40.28382539091281
          ],
          [
           0.6831313131313131,
           0.1892,
           22.22426313662322,
           -13.160528253213615,
           59.572027770647786,
           "False",
           37.347764634024564,
           35.384791389836835
          ],
          [
           0.693030303030303,
           0.2134,
           26.78647434546724,
           -14.428246625050338,
           65.18183249498168,
           "False",
           38.395358149514436,
           41.214720970517575
          ],
          [
           0.702929292929293,
           0.1636,
           28.0012050872931,
           -12.756093676937402,
           68.20958926261524,
           "False",
           40.20838417532214,
           40.757298764230505
          ],
          [
           0.7128282828282828,
           0.21,
           27.162053635248412,
           -16.127055590101357,
           72.1271601359158,
           "False",
           44.96510650066739,
           43.28910922534977
          ],
          [
           0.7227272727272727,
           0.3366,
           28.123408833755548,
           -26.00384057342907,
           73.28617735669559,
           "False",
           45.16276852294004,
           54.12724940718462
          ],
          [
           0.7326262626262626,
           0.4752,
           16.051209198341667,
           -27.406203772049864,
           61.02863624060064,
           "False",
           44.977427042258974,
           43.45741297039153
          ],
          [
           0.7425252525252525,
           0.6894,
           9.624987946221836,
           -36.345732607655535,
           54.841712968668475,
           "False",
           45.21672502244664,
           45.97072055387737
          ],
          [
           0.7524242424242424,
           0.8604,
           5.053802659637768,
           -39.9478698680051,
           46.005696050987986,
           "False",
           40.95189339135022,
           45.00167252764287
          ],
          [
           0.7623232323232323,
           0.9038,
           -5.0856819126097434,
           -50.69470626119702,
           47.795351878352974,
           "False",
           52.88103379096272,
           45.609024348587276
          ],
          [
           0.7722222222222221,
           0.9022,
           -6.900871497934077,
           -59.29292384912374,
           52.82467653519942,
           "False",
           59.7255480331335,
           52.39205235118966
          ],
          [
           0.7821212121212121,
           0.884,
           -3.058689041547268,
           -54.91961021384332,
           44.31900249630459,
           "False",
           47.37769153785186,
           51.86092117229605
          ],
          [
           0.792020202020202,
           0.663,
           -12.783459525146782,
           -63.98019549006216,
           42.040808223692224,
           "False",
           54.824267748839006,
           51.196735964915376
          ],
          [
           0.8019191919191919,
           0.5548,
           -14.210150315541114,
           -67.72164877891257,
           38.92000008897937,
           "False",
           53.130150404520485,
           53.51149846337145
          ],
          [
           0.8118181818181818,
           0.6242,
           -8.284982350617156,
           -68.08562182187549,
           37.57829906124883,
           "False",
           45.863281411865984,
           59.800639471258336
          ],
          [
           0.8217171717171717,
           0.6656,
           -14.598760220332906,
           -75.19017458069618,
           50.671526089471996,
           "False",
           65.2702863098049,
           60.591414360363274
          ],
          [
           0.8316161616161616,
           0.931,
           0.5137347602396858,
           -73.69383264682584,
           57.505312831157475,
           "False",
           56.99157807091779,
           74.20756740706553
          ],
          [
           0.8415151515151514,
           0.813,
           -5.634771008580856,
           -71.30843795648869,
           52.166857763047574,
           "False",
           57.80162877162843,
           65.67366694790783
          ],
          [
           0.8514141414141414,
           0.62,
           -21.506152597389246,
           -88.86735254205053,
           51.720887343990285,
           "False",
           73.22703994137953,
           67.36119994466128
          ],
          [
           0.8613131313131313,
           0.5046,
           -25.48448118927581,
           -96.4146733963853,
           49.35652051030167,
           "False",
           74.84100169957748,
           70.93019220710949
          ],
          [
           0.8712121212121212,
           0.6854,
           -16.749073244582178,
           -96.30736247664193,
           60.53449980539301,
           "False",
           77.28357304997519,
           79.55828923205975
          ],
          [
           0.8811111111111111,
           0.8018,
           -11.665777287588298,
           -76.70480648699046,
           72.42705472935995,
           "False",
           84.09283201694825,
           65.03902919940217
          ],
          [
           0.891010101010101,
           0.536,
           30.934452296270138,
           -62.290470102476974,
           99.68559641729117,
           "False",
           68.75114412102103,
           93.22492239874711
          ],
          [
           0.9009090909090909,
           0.7762,
           14.235928439081817,
           -76.60003738591116,
           107.15509212132737,
           "False",
           92.91916368224555,
           90.83596582499298
          ],
          [
           0.9108080808080807,
           0.7734,
           7.778232126627245,
           -84.95608073590381,
           106.57479819548493,
           "False",
           98.79656606885769,
           92.73431286253106
          ],
          [
           0.9207070707070707,
           0.891,
           -9.604782676247396,
           -113.54399617765444,
           98.36922535357408,
           "False",
           107.97400802982148,
           103.93921350140704
          ],
          [
           0.9306060606060605,
           0.5862,
           -32.66780974914627,
           -115.77005549950644,
           74.35428559516095,
           "False",
           107.02209534430722,
           83.10224575036017
          ],
          [
           0.9405050505050505,
           0.6692,
           -30.53897630274787,
           -128.97699089337087,
           91.97782064172654,
           "False",
           122.51679694447441,
           98.438014590623
          ],
          [
           0.9504040404040404,
           0.52,
           -29.17252026884171,
           -161.56483229654717,
           79.3418289164476,
           "False",
           108.5143491852893,
           132.39231202770546
          ],
          [
           0.9603030303030302,
           0.201,
           -72.28802549067359,
           -205.10926915914965,
           44.88767310979425,
           "False",
           117.17569860046784,
           132.82124366847606
          ],
          [
           0.9702020202020202,
           0.2482,
           -90.27673287323205,
           -239.84573973922406,
           67.22387465644132,
           "False",
           157.50060752967337,
           149.569006865992
          ],
          [
           0.98010101010101,
           0.3962,
           -51.491369144289365,
           -265.93888756537353,
           104.48835345979647,
           "False",
           155.97972260408585,
           214.44751842108417
          ],
          [
           0.99,
           0.1754,
           -191.78858132001096,
           -504.3090158419418,
           76.66531615838358,
           "False",
           268.45389747839454,
           312.52043452193084
          ]
         ],
         "hovertemplate": "Quantile: %{customdata[0]}<br>p_value: %{customdata[1]}<br>Significance: %{customdata[5]}<br>Difference: %{customdata[2]}<br>Lower Bound: %{customdata[3]}<br>Upper Bound: %{customdata[4]}"
        },
        {
         "line": {
          "width": 0
         },
         "marker": {
          "color": "black"
         },
         "mode": "lines",
         "name": "Quantile Information",
         "showlegend": false,
         "x": [
          0.01,
          0.0198989898989899,
          0.029797979797979796,
          0.039696969696969696,
          0.049595959595959596,
          0.059494949494949496,
          0.06939393939393938,
          0.07929292929292929,
          0.08919191919191918,
          0.09909090909090908,
          0.10898989898989898,
          0.11888888888888888,
          0.12878787878787878,
          0.1386868686868687,
          0.1485858585858586,
          0.15848484848484848,
          0.16838383838383839,
          0.1782828282828283,
          0.18818181818181817,
          0.19808080808080808,
          0.207979797979798,
          0.21787878787878787,
          0.22777777777777777,
          0.23767676767676768,
          0.24757575757575756,
          0.25747474747474747,
          0.2673737373737374,
          0.2772727272727273,
          0.2871717171717172,
          0.29707070707070704,
          0.30696969696969695,
          0.31686868686868686,
          0.32676767676767676,
          0.33666666666666667,
          0.3465656565656566,
          0.3564646464646465,
          0.36636363636363634,
          0.37626262626262624,
          0.38616161616161615,
          0.39606060606060606,
          0.40595959595959596,
          0.41585858585858587,
          0.4257575757575757,
          0.43565656565656563,
          0.44555555555555554,
          0.45545454545454545,
          0.46535353535353535,
          0.47525252525252526,
          0.4851515151515151,
          0.495050505050505,
          0.5049494949494949,
          0.5148484848484849,
          0.5247474747474747,
          0.5346464646464646,
          0.5445454545454546,
          0.5544444444444444,
          0.5643434343434344,
          0.5742424242424242,
          0.5841414141414141,
          0.594040404040404,
          0.6039393939393939,
          0.6138383838383838,
          0.6237373737373737,
          0.6336363636363637,
          0.6435353535353535,
          0.6534343434343434,
          0.6633333333333333,
          0.6732323232323232,
          0.6831313131313131,
          0.693030303030303,
          0.702929292929293,
          0.7128282828282828,
          0.7227272727272727,
          0.7326262626262626,
          0.7425252525252525,
          0.7524242424242424,
          0.7623232323232323,
          0.7722222222222221,
          0.7821212121212121,
          0.792020202020202,
          0.8019191919191919,
          0.8118181818181818,
          0.8217171717171717,
          0.8316161616161616,
          0.8415151515151514,
          0.8514141414141414,
          0.8613131313131313,
          0.8712121212121212,
          0.8811111111111111,
          0.891010101010101,
          0.9009090909090909,
          0.9108080808080807,
          0.9207070707070707,
          0.9306060606060605,
          0.9405050505050505,
          0.9504040404040404,
          0.9603030303030302,
          0.9702020202020202,
          0.98010101010101,
          0.99
         ],
         "y": [
          3.0204876658350197,
          4.757086366329471,
          5.324626929310428,
          6.65729019048256,
          8.384576135444174,
          8.384219627826232,
          11.09182033799469,
          11.478506060651972,
          11.123086599044582,
          12.743125331686477,
          12.996059971353306,
          12.71628409826611,
          9.882456845827921,
          10.220305401472016,
          12.004710011155748,
          13.501962705340375,
          15.16198720624737,
          15.826205713263164,
          16.096522711874865,
          16.187628483630203,
          15.229529950102624,
          15.343492492707679,
          17.34296135327078,
          17.762518445055825,
          19.925417673915835,
          19.143563540246614,
          21.571564956695344,
          24.665709850188495,
          26.44154291911992,
          31.79746977796235,
          34.427940210042806,
          34.14053573068421,
          33.70518723876641,
          33.464372306508665,
          32.92807946682802,
          32.479846827689066,
          34.26231235108649,
          34.0189091578095,
          31.379779076582874,
          28.29522149107594,
          27.794033710809703,
          28.899443260115827,
          30.028561102103417,
          31.583884154249546,
          31.21299288229055,
          32.634220135792845,
          32.42060699468019,
          35.57133495383653,
          35.66747865085772,
          35.534298106251775,
          36.98424491399724,
          38.414002483101385,
          33.793392690005476,
          34.585904129559744,
          34.02182453765385,
          36.81434656394567,
          43.07802295865554,
          43.0419798833907,
          45.41438384364585,
          46.38679963284494,
          45.09906147206534,
          44.3950782260506,
          44.53078357232551,
          46.43857922295891,
          50.58408525720782,
          54.57751705331525,
          56.20962409165941,
          63.64361675234033,
          59.572027770647786,
          65.18183249498168,
          68.20958926261524,
          72.1271601359158,
          73.28617735669559,
          61.02863624060064,
          54.841712968668475,
          46.005696050987986,
          47.795351878352974,
          52.82467653519942,
          44.31900249630459,
          42.040808223692224,
          38.92000008897937,
          37.57829906124883,
          50.671526089471996,
          57.505312831157475,
          52.166857763047574,
          51.720887343990285,
          49.35652051030167,
          60.53449980539301,
          72.42705472935995,
          99.68559641729117,
          107.15509212132737,
          106.57479819548493,
          98.36922535357408,
          74.35428559516095,
          91.97782064172654,
          79.3418289164476,
          44.88767310979425,
          67.22387465644132,
          104.48835345979647,
          76.66531615838358
         ],
         "type": "scatter",
         "customdata": [
          [
           0.01,
           0.8164,
           0.3944813533939051,
           -1.841654592933203,
           3.0204876658350197,
           "False",
           2.6260063124411146,
           2.236135946327108
          ],
          [
           0.0198989898989899,
           0.9702,
           0.3812064204780867,
           -4.288667084842102,
           4.757086366329471,
           "False",
           4.375879945851384,
           4.669873505320188
          ],
          [
           0.029797979797979796,
           0.6968,
           0.9034523325436155,
           -3.981811932854036,
           5.324626929310428,
           "False",
           4.421174596766813,
           4.885264265397652
          ],
          [
           0.039696969696969696,
           0.7712,
           0.9849228094549716,
           -4.330238800043702,
           6.65729019048256,
           "False",
           5.6723673810275885,
           5.315161609498674
          ],
          [
           0.049595959595959596,
           0.811,
           0.5749824438773459,
           -5.705898543215149,
           8.384576135444174,
           "False",
           7.809593691566828,
           6.280880987092495
          ],
          [
           0.059494949494949496,
           0.4662,
           2.3803257393108694,
           -3.766806479142117,
           8.384219627826232,
           "False",
           6.003893888515362,
           6.147132218452986
          ],
          [
           0.06939393939393938,
           0.1914,
           4.9921467870582745,
           -2.4441526926980743,
           11.09182033799469,
           "False",
           6.099673550936416,
           7.436299479756348
          ],
          [
           0.07929292929292929,
           0.3946,
           4.3156113942656305,
           -4.587398635676,
           11.478506060651972,
           "False",
           7.162894666386341,
           8.90301002994163
          ],
          [
           0.08919191919191918,
           0.4168,
           3.153127562001444,
           -4.755665010086373,
           11.123086599044582,
           "False",
           7.969959037043138,
           7.908792572087817
          ],
          [
           0.09909090909090908,
           0.7292,
           1.3784553588719035,
           -7.849142993698556,
           12.743125331686477,
           "False",
           11.364669972814573,
           9.22759835257046
          ],
          [
           0.10898989898989898,
           0.6214,
           2.0325182622985807,
           -7.395854236774159,
           12.996059971353306,
           "False",
           10.963541709054725,
           9.42837249907274
          ],
          [
           0.11888888888888888,
           0.7554,
           1.953673587025449,
           -9.247661460724517,
           12.71628409826611,
           "False",
           10.762610511240661,
           11.201335047749966
          ],
          [
           0.12878787878787878,
           0.9256,
           -0.4692131443219978,
           -11.141263751121677,
           9.882456845827921,
           "False",
           10.351669990149919,
           10.67205060679968
          ],
          [
           0.1386868686868687,
           0.6744,
           -3.010372025824978,
           -13.083051159465239,
           10.220305401472016,
           "False",
           13.230677427296994,
           10.07267913364026
          ],
          [
           0.1485858585858586,
           0.9422,
           0.3773949629239439,
           -11.412207680245919,
           12.004710011155748,
           "False",
           11.627315048231804,
           11.789602643169863
          ],
          [
           0.15848484848484848,
           0.6152,
           2.8848406583348094,
           -8.113695687877524,
           13.501962705340375,
           "False",
           10.617122047005566,
           10.998536346212333
          ],
          [
           0.16838383838383839,
           0.5612,
           3.216238101386722,
           -9.300989732490349,
           15.16198720624737,
           "False",
           11.945749104860647,
           12.51722783387707
          ],
          [
           0.1782828282828283,
           0.779,
           1.8643578813954207,
           -11.002581345924279,
           15.826205713263164,
           "False",
           13.961847831867743,
           12.8669392273197
          ],
          [
           0.18818181818181817,
           0.7146,
           3.1908579045430656,
           -12.368736903567598,
           16.096522711874865,
           "False",
           12.9056648073318,
           15.559594808110663
          ],
          [
           0.19808080808080808,
           0.8964,
           0.5572485157838685,
           -14.011962311220774,
           16.187628483630203,
           "False",
           15.630379967846334,
           14.569210827004643
          ],
          [
           0.207979797979798,
           0.9208,
           1.1788112421060362,
           -14.28864106429218,
           15.229529950102624,
           "False",
           14.050718707996587,
           15.467452306398217
          ],
          [
           0.21787878787878787,
           0.9198,
           0.956466017090122,
           -13.01508848493939,
           15.343492492707679,
           "False",
           14.387026475617557,
           13.971554502029512
          ],
          [
           0.22777777777777777,
           0.8014,
           2.6248696819509405,
           -13.57893247944916,
           17.34296135327078,
           "False",
           14.71809167131984,
           16.203802161400098
          ],
          [
           0.23767676767676768,
           0.7742,
           2.4978548952209394,
           -12.688518533705803,
           17.762518445055825,
           "False",
           15.264663549834886,
           15.186373428926743
          ],
          [
           0.24757575757575756,
           0.6764,
           3.945696640745382,
           -13.680029793680028,
           19.925417673915835,
           "False",
           15.979721033170453,
           17.62572643442541
          ],
          [
           0.25747474747474747,
           0.6282,
           3.9812901554428777,
           -11.584016793714207,
           19.143563540246614,
           "False",
           15.162273384803736,
           15.565306949157085
          ],
          [
           0.2673737373737374,
           0.5768,
           4.024694276195476,
           -11.040435089187667,
           21.571564956695344,
           "False",
           17.546870680499868,
           15.065129365383143
          ],
          [
           0.2772727272727273,
           0.4042,
           8.001019318964723,
           -10.720002675673877,
           24.665709850188495,
           "False",
           16.664690531223773,
           18.721021994638598
          ],
          [
           0.2871717171717172,
           0.322,
           9.042242706200454,
           -8.392456056228092,
           26.44154291911992,
           "False",
           17.399300212919467,
           17.434698762428546
          ],
          [
           0.29707070707070704,
           0.233,
           12.579443793485382,
           -7.304638654670062,
           31.79746977796235,
           "False",
           19.218025984476967,
           19.884082448155443
          ],
          [
           0.30696969696969695,
           0.1092,
           16.500084493931638,
           -3.8645263786284185,
           34.427940210042806,
           "False",
           17.927855716111168,
           20.364610872560057
          ],
          [
           0.31686868686868686,
           0.082,
           16.3116444382581,
           -2.1415018172088454,
           34.14053573068421,
           "False",
           17.828891292426114,
           18.453146255466944
          ],
          [
           0.32676767676767676,
           0.1314,
           15.086679302380503,
           -4.205746726423476,
           33.70518723876641,
           "False",
           18.61850793638591,
           19.29242602880398
          ],
          [
           0.33666666666666667,
           0.2176,
           12.12549991536514,
           -7.007089944523998,
           33.464372306508665,
           "False",
           21.338872391143525,
           19.132589859889137
          ],
          [
           0.3465656565656566,
           0.2506,
           12.470966635585853,
           -9.469803175603367,
           32.92807946682802,
           "False",
           20.457112831242164,
           21.94076981118922
          ],
          [
           0.3564646464646465,
           0.3126,
           8.602739445484076,
           -9.46896912884609,
           32.479846827689066,
           "False",
           23.87710738220499,
           18.071708574330167
          ],
          [
           0.36636363636363634,
           0.3486,
           12.353995995072637,
           -10.689271124167286,
           34.26231235108649,
           "False",
           21.908316356013856,
           23.04326711923992
          ],
          [
           0.37626262626262624,
           0.2638,
           13.606640691765847,
           -10.687330246010353,
           34.0189091578095,
           "False",
           20.412268466043656,
           24.2939709377762
          ],
          [
           0.38616161616161615,
           0.3336,
           10.479615250878396,
           -10.851110267390538,
           31.379779076582874,
           "False",
           20.900163825704478,
           21.330725518268935
          ],
          [
           0.39606060606060606,
           0.5332,
           5.661621017570781,
           -13.477023552966614,
           28.29522149107594,
           "False",
           22.633600473505158,
           19.138644570537394
          ],
          [
           0.40595959595959596,
           0.663,
           5.834813848156159,
           -17.111657935309193,
           27.794033710809703,
           "False",
           21.959219862653544,
           22.946471783465352
          ],
          [
           0.41585858585858587,
           0.655,
           4.332735245245885,
           -17.983752045918827,
           28.899443260115827,
           "False",
           24.566708014869942,
           22.316487291164712
          ],
          [
           0.4257575757575757,
           0.5468,
           8.649242710704357,
           -17.752624001751812,
           30.028561102103417,
           "False",
           21.37931839139906,
           26.40186671245617
          ],
          [
           0.43565656565656563,
           0.5812,
           6.0594085415160635,
           -16.583265184388733,
           31.583884154249546,
           "False",
           25.524475612733482,
           22.642673725904796
          ],
          [
           0.44555555555555554,
           0.545,
           7.903532651951082,
           -17.056836943306326,
           31.21299288229055,
           "False",
           23.309460230339468,
           24.960369595257408
          ],
          [
           0.45545454545454545,
           0.5624,
           8.145445152121965,
           -18.28614974919779,
           32.634220135792845,
           "False",
           24.48877498367088,
           26.431594901319755
          ],
          [
           0.46535353535353535,
           0.666,
           5.991737347646904,
           -19.639665137752193,
           32.42060699468019,
           "False",
           26.428869647033288,
           25.631402485399096
          ],
          [
           0.47525252525252526,
           0.631,
           4.913805854177099,
           -19.23452784931148,
           35.57133495383653,
           "False",
           30.657529099659435,
           24.14833370348858
          ],
          [
           0.4851515151515151,
           0.4582,
           11.464498931795333,
           -17.707903506472245,
           35.66747865085772,
           "False",
           24.202979719062384,
           29.17240243826758
          ],
          [
           0.495050505050505,
           0.4468,
           10.247648583725095,
           -15.930696800599435,
           35.534298106251775,
           "False",
           25.28664952252668,
           26.17834538432453
          ],
          [
           0.5049494949494949,
           0.566,
           8.220728853326477,
           -20.218086019113255,
           36.98424491399724,
           "False",
           28.76351606067076,
           28.438814872439732
          ],
          [
           0.5148484848484849,
           0.6946,
           6.215824607769605,
           -24.722502783681776,
           38.414002483101385,
           "False",
           32.19817787533178,
           30.93832739145138
          ],
          [
           0.5247474747474747,
           0.6494,
           7.406317027308887,
           -22.017639336092383,
           33.793392690005476,
           "False",
           26.38707566269659,
           29.42395636340127
          ],
          [
           0.5346464646464646,
           0.7534,
           4.449874667349036,
           -25.16346748439474,
           34.585904129559744,
           "False",
           30.136029462210708,
           29.613342151743776
          ],
          [
           0.5445454545454546,
           0.7668,
           3.6142381527092766,
           -24.471374878308254,
           34.02182453765385,
           "False",
           30.407586384944572,
           28.08561303101753
          ],
          [
           0.5544444444444444,
           0.6814,
           5.484285676096533,
           -24.61923858932925,
           36.81434656394567,
           "False",
           31.330060887849136,
           30.103524265425783
          ],
          [
           0.5643434343434344,
           0.6622,
           7.688096262833142,
           -26.23429989531456,
           43.07802295865554,
           "False",
           35.389926695822396,
           33.922396158147706
          ],
          [
           0.5742424242424242,
           0.5524,
           10.106708028950493,
           -25.33036552209057,
           43.0419798833907,
           "False",
           32.93527185444021,
           35.43707355104107
          ],
          [
           0.5841414141414141,
           0.6032,
           8.07130269186655,
           -24.64297309253534,
           45.41438384364585,
           "False",
           37.3430811517793,
           32.71427578440189
          ],
          [
           0.594040404040404,
           0.557,
           11.076528742410346,
           -25.099040156426,
           46.38679963284494,
           "False",
           35.310270890434595,
           36.175568898836346
          ],
          [
           0.6039393939393939,
           0.561,
           11.038194644786017,
           -24.5310088944535,
           45.09906147206534,
           "False",
           34.06086682727932,
           35.56920353923952
          ],
          [
           0.6138383838383838,
           0.6248,
           9.62266504851982,
           -25.094107516591556,
           44.3950782260506,
           "False",
           34.77241317753078,
           34.71677256511138
          ],
          [
           0.6237373737373737,
           0.5194,
           9.875705829771846,
           -23.37618684472427,
           44.53078357232551,
           "False",
           34.655077742553665,
           33.25189267449612
          ],
          [
           0.6336363636363637,
           0.5066,
           12.275550634266551,
           -22.472623105600846,
           46.43857922295891,
           "False",
           34.163028588692356,
           34.7481737398674
          ],
          [
           0.6435353535353535,
           0.5236,
           11.542918669789515,
           -24.00533533799545,
           50.58408525720782,
           "False",
           39.0411665874183,
           35.54825400778496
          ],
          [
           0.6534343434343434,
           0.4392,
           18.032744615571573,
           -24.570869739196258,
           54.57751705331525,
           "False",
           36.544772437743674,
           42.60361435476783
          ],
          [
           0.6633333333333333,
           0.4142,
           18.049051456922825,
           -23.73252001702163,
           56.20962409165941,
           "False",
           38.16057263473658,
           41.78157147394445
          ],
          [
           0.6732323232323232,
           0.4082,
           16.828247321580648,
           -23.455578069332162,
           63.64361675234033,
           "False",
           46.81536943075968,
           40.28382539091281
          ],
          [
           0.6831313131313131,
           0.1892,
           22.22426313662322,
           -13.160528253213615,
           59.572027770647786,
           "False",
           37.347764634024564,
           35.384791389836835
          ],
          [
           0.693030303030303,
           0.2134,
           26.78647434546724,
           -14.428246625050338,
           65.18183249498168,
           "False",
           38.395358149514436,
           41.214720970517575
          ],
          [
           0.702929292929293,
           0.1636,
           28.0012050872931,
           -12.756093676937402,
           68.20958926261524,
           "False",
           40.20838417532214,
           40.757298764230505
          ],
          [
           0.7128282828282828,
           0.21,
           27.162053635248412,
           -16.127055590101357,
           72.1271601359158,
           "False",
           44.96510650066739,
           43.28910922534977
          ],
          [
           0.7227272727272727,
           0.3366,
           28.123408833755548,
           -26.00384057342907,
           73.28617735669559,
           "False",
           45.16276852294004,
           54.12724940718462
          ],
          [
           0.7326262626262626,
           0.4752,
           16.051209198341667,
           -27.406203772049864,
           61.02863624060064,
           "False",
           44.977427042258974,
           43.45741297039153
          ],
          [
           0.7425252525252525,
           0.6894,
           9.624987946221836,
           -36.345732607655535,
           54.841712968668475,
           "False",
           45.21672502244664,
           45.97072055387737
          ],
          [
           0.7524242424242424,
           0.8604,
           5.053802659637768,
           -39.9478698680051,
           46.005696050987986,
           "False",
           40.95189339135022,
           45.00167252764287
          ],
          [
           0.7623232323232323,
           0.9038,
           -5.0856819126097434,
           -50.69470626119702,
           47.795351878352974,
           "False",
           52.88103379096272,
           45.609024348587276
          ],
          [
           0.7722222222222221,
           0.9022,
           -6.900871497934077,
           -59.29292384912374,
           52.82467653519942,
           "False",
           59.7255480331335,
           52.39205235118966
          ],
          [
           0.7821212121212121,
           0.884,
           -3.058689041547268,
           -54.91961021384332,
           44.31900249630459,
           "False",
           47.37769153785186,
           51.86092117229605
          ],
          [
           0.792020202020202,
           0.663,
           -12.783459525146782,
           -63.98019549006216,
           42.040808223692224,
           "False",
           54.824267748839006,
           51.196735964915376
          ],
          [
           0.8019191919191919,
           0.5548,
           -14.210150315541114,
           -67.72164877891257,
           38.92000008897937,
           "False",
           53.130150404520485,
           53.51149846337145
          ],
          [
           0.8118181818181818,
           0.6242,
           -8.284982350617156,
           -68.08562182187549,
           37.57829906124883,
           "False",
           45.863281411865984,
           59.800639471258336
          ],
          [
           0.8217171717171717,
           0.6656,
           -14.598760220332906,
           -75.19017458069618,
           50.671526089471996,
           "False",
           65.2702863098049,
           60.591414360363274
          ],
          [
           0.8316161616161616,
           0.931,
           0.5137347602396858,
           -73.69383264682584,
           57.505312831157475,
           "False",
           56.99157807091779,
           74.20756740706553
          ],
          [
           0.8415151515151514,
           0.813,
           -5.634771008580856,
           -71.30843795648869,
           52.166857763047574,
           "False",
           57.80162877162843,
           65.67366694790783
          ],
          [
           0.8514141414141414,
           0.62,
           -21.506152597389246,
           -88.86735254205053,
           51.720887343990285,
           "False",
           73.22703994137953,
           67.36119994466128
          ],
          [
           0.8613131313131313,
           0.5046,
           -25.48448118927581,
           -96.4146733963853,
           49.35652051030167,
           "False",
           74.84100169957748,
           70.93019220710949
          ],
          [
           0.8712121212121212,
           0.6854,
           -16.749073244582178,
           -96.30736247664193,
           60.53449980539301,
           "False",
           77.28357304997519,
           79.55828923205975
          ],
          [
           0.8811111111111111,
           0.8018,
           -11.665777287588298,
           -76.70480648699046,
           72.42705472935995,
           "False",
           84.09283201694825,
           65.03902919940217
          ],
          [
           0.891010101010101,
           0.536,
           30.934452296270138,
           -62.290470102476974,
           99.68559641729117,
           "False",
           68.75114412102103,
           93.22492239874711
          ],
          [
           0.9009090909090909,
           0.7762,
           14.235928439081817,
           -76.60003738591116,
           107.15509212132737,
           "False",
           92.91916368224555,
           90.83596582499298
          ],
          [
           0.9108080808080807,
           0.7734,
           7.778232126627245,
           -84.95608073590381,
           106.57479819548493,
           "False",
           98.79656606885769,
           92.73431286253106
          ],
          [
           0.9207070707070707,
           0.891,
           -9.604782676247396,
           -113.54399617765444,
           98.36922535357408,
           "False",
           107.97400802982148,
           103.93921350140704
          ],
          [
           0.9306060606060605,
           0.5862,
           -32.66780974914627,
           -115.77005549950644,
           74.35428559516095,
           "False",
           107.02209534430722,
           83.10224575036017
          ],
          [
           0.9405050505050505,
           0.6692,
           -30.53897630274787,
           -128.97699089337087,
           91.97782064172654,
           "False",
           122.51679694447441,
           98.438014590623
          ],
          [
           0.9504040404040404,
           0.52,
           -29.17252026884171,
           -161.56483229654717,
           79.3418289164476,
           "False",
           108.5143491852893,
           132.39231202770546
          ],
          [
           0.9603030303030302,
           0.201,
           -72.28802549067359,
           -205.10926915914965,
           44.88767310979425,
           "False",
           117.17569860046784,
           132.82124366847606
          ],
          [
           0.9702020202020202,
           0.2482,
           -90.27673287323205,
           -239.84573973922406,
           67.22387465644132,
           "False",
           157.50060752967337,
           149.569006865992
          ],
          [
           0.98010101010101,
           0.3962,
           -51.491369144289365,
           -265.93888756537353,
           104.48835345979647,
           "False",
           155.97972260408585,
           214.44751842108417
          ],
          [
           0.99,
           0.1754,
           -191.78858132001096,
           -504.3090158419418,
           76.66531615838358,
           "False",
           268.45389747839454,
           312.52043452193084
          ]
         ],
         "hovertemplate": "Quantile: %{customdata[0]}<br>p_value: %{customdata[1]}<br>Significance: %{customdata[5]}<br>Difference: %{customdata[2]}<br>Lower Bound: %{customdata[3]}<br>Upper Bound: %{customdata[4]}"
        },
        {
         "fill": "tonexty",
         "fillcolor": "rgba(68, 68, 68, 0.3)",
         "line": {
          "width": 0
         },
         "marker": {
          "color": "black"
         },
         "mode": "lines",
         "name": "Quantile Information",
         "showlegend": false,
         "x": [
          0.01,
          0.0198989898989899,
          0.029797979797979796,
          0.039696969696969696,
          0.049595959595959596,
          0.059494949494949496,
          0.06939393939393938,
          0.07929292929292929,
          0.08919191919191918,
          0.09909090909090908,
          0.10898989898989898,
          0.11888888888888888,
          0.12878787878787878,
          0.1386868686868687,
          0.1485858585858586,
          0.15848484848484848,
          0.16838383838383839,
          0.1782828282828283,
          0.18818181818181817,
          0.19808080808080808,
          0.207979797979798,
          0.21787878787878787,
          0.22777777777777777,
          0.23767676767676768,
          0.24757575757575756,
          0.25747474747474747,
          0.2673737373737374,
          0.2772727272727273,
          0.2871717171717172,
          0.29707070707070704,
          0.30696969696969695,
          0.31686868686868686,
          0.32676767676767676,
          0.33666666666666667,
          0.3465656565656566,
          0.3564646464646465,
          0.36636363636363634,
          0.37626262626262624,
          0.38616161616161615,
          0.39606060606060606,
          0.40595959595959596,
          0.41585858585858587,
          0.4257575757575757,
          0.43565656565656563,
          0.44555555555555554,
          0.45545454545454545,
          0.46535353535353535,
          0.47525252525252526,
          0.4851515151515151,
          0.495050505050505,
          0.5049494949494949,
          0.5148484848484849,
          0.5247474747474747,
          0.5346464646464646,
          0.5445454545454546,
          0.5544444444444444,
          0.5643434343434344,
          0.5742424242424242,
          0.5841414141414141,
          0.594040404040404,
          0.6039393939393939,
          0.6138383838383838,
          0.6237373737373737,
          0.6336363636363637,
          0.6435353535353535,
          0.6534343434343434,
          0.6633333333333333,
          0.6732323232323232,
          0.6831313131313131,
          0.693030303030303,
          0.702929292929293,
          0.7128282828282828,
          0.7227272727272727,
          0.7326262626262626,
          0.7425252525252525,
          0.7524242424242424,
          0.7623232323232323,
          0.7722222222222221,
          0.7821212121212121,
          0.792020202020202,
          0.8019191919191919,
          0.8118181818181818,
          0.8217171717171717,
          0.8316161616161616,
          0.8415151515151514,
          0.8514141414141414,
          0.8613131313131313,
          0.8712121212121212,
          0.8811111111111111,
          0.891010101010101,
          0.9009090909090909,
          0.9108080808080807,
          0.9207070707070707,
          0.9306060606060605,
          0.9405050505050505,
          0.9504040404040404,
          0.9603030303030302,
          0.9702020202020202,
          0.98010101010101,
          0.99
         ],
         "y": [
          -1.841654592933203,
          -4.288667084842102,
          -3.981811932854036,
          -4.330238800043702,
          -5.705898543215149,
          -3.766806479142117,
          -2.4441526926980743,
          -4.587398635676,
          -4.755665010086373,
          -7.849142993698556,
          -7.395854236774159,
          -9.247661460724517,
          -11.141263751121677,
          -13.083051159465239,
          -11.412207680245919,
          -8.113695687877524,
          -9.300989732490349,
          -11.002581345924279,
          -12.368736903567598,
          -14.011962311220774,
          -14.28864106429218,
          -13.01508848493939,
          -13.57893247944916,
          -12.688518533705803,
          -13.680029793680028,
          -11.584016793714207,
          -11.040435089187667,
          -10.720002675673877,
          -8.392456056228092,
          -7.304638654670062,
          -3.8645263786284185,
          -2.1415018172088454,
          -4.205746726423476,
          -7.007089944523998,
          -9.469803175603367,
          -9.46896912884609,
          -10.689271124167286,
          -10.687330246010353,
          -10.851110267390538,
          -13.477023552966614,
          -17.111657935309193,
          -17.983752045918827,
          -17.752624001751812,
          -16.583265184388733,
          -17.056836943306326,
          -18.28614974919779,
          -19.639665137752193,
          -19.23452784931148,
          -17.707903506472245,
          -15.930696800599435,
          -20.218086019113255,
          -24.722502783681776,
          -22.017639336092383,
          -25.16346748439474,
          -24.471374878308254,
          -24.61923858932925,
          -26.23429989531456,
          -25.33036552209057,
          -24.64297309253534,
          -25.099040156426,
          -24.5310088944535,
          -25.094107516591556,
          -23.37618684472427,
          -22.472623105600846,
          -24.00533533799545,
          -24.570869739196258,
          -23.73252001702163,
          -23.455578069332162,
          -13.160528253213615,
          -14.428246625050338,
          -12.756093676937402,
          -16.127055590101357,
          -26.00384057342907,
          -27.406203772049864,
          -36.345732607655535,
          -39.9478698680051,
          -50.69470626119702,
          -59.29292384912374,
          -54.91961021384332,
          -63.98019549006216,
          -67.72164877891257,
          -68.08562182187549,
          -75.19017458069618,
          -73.69383264682584,
          -71.30843795648869,
          -88.86735254205053,
          -96.4146733963853,
          -96.30736247664193,
          -76.70480648699046,
          -62.290470102476974,
          -76.60003738591116,
          -84.95608073590381,
          -113.54399617765444,
          -115.77005549950644,
          -128.97699089337087,
          -161.56483229654717,
          -205.10926915914965,
          -239.84573973922406,
          -265.93888756537353,
          -504.3090158419418
         ],
         "type": "scatter",
         "customdata": [
          [
           0.01,
           0.8164,
           0.3944813533939051,
           -1.841654592933203,
           3.0204876658350197,
           "False",
           2.6260063124411146,
           2.236135946327108
          ],
          [
           0.0198989898989899,
           0.9702,
           0.3812064204780867,
           -4.288667084842102,
           4.757086366329471,
           "False",
           4.375879945851384,
           4.669873505320188
          ],
          [
           0.029797979797979796,
           0.6968,
           0.9034523325436155,
           -3.981811932854036,
           5.324626929310428,
           "False",
           4.421174596766813,
           4.885264265397652
          ],
          [
           0.039696969696969696,
           0.7712,
           0.9849228094549716,
           -4.330238800043702,
           6.65729019048256,
           "False",
           5.6723673810275885,
           5.315161609498674
          ],
          [
           0.049595959595959596,
           0.811,
           0.5749824438773459,
           -5.705898543215149,
           8.384576135444174,
           "False",
           7.809593691566828,
           6.280880987092495
          ],
          [
           0.059494949494949496,
           0.4662,
           2.3803257393108694,
           -3.766806479142117,
           8.384219627826232,
           "False",
           6.003893888515362,
           6.147132218452986
          ],
          [
           0.06939393939393938,
           0.1914,
           4.9921467870582745,
           -2.4441526926980743,
           11.09182033799469,
           "False",
           6.099673550936416,
           7.436299479756348
          ],
          [
           0.07929292929292929,
           0.3946,
           4.3156113942656305,
           -4.587398635676,
           11.478506060651972,
           "False",
           7.162894666386341,
           8.90301002994163
          ],
          [
           0.08919191919191918,
           0.4168,
           3.153127562001444,
           -4.755665010086373,
           11.123086599044582,
           "False",
           7.969959037043138,
           7.908792572087817
          ],
          [
           0.09909090909090908,
           0.7292,
           1.3784553588719035,
           -7.849142993698556,
           12.743125331686477,
           "False",
           11.364669972814573,
           9.22759835257046
          ],
          [
           0.10898989898989898,
           0.6214,
           2.0325182622985807,
           -7.395854236774159,
           12.996059971353306,
           "False",
           10.963541709054725,
           9.42837249907274
          ],
          [
           0.11888888888888888,
           0.7554,
           1.953673587025449,
           -9.247661460724517,
           12.71628409826611,
           "False",
           10.762610511240661,
           11.201335047749966
          ],
          [
           0.12878787878787878,
           0.9256,
           -0.4692131443219978,
           -11.141263751121677,
           9.882456845827921,
           "False",
           10.351669990149919,
           10.67205060679968
          ],
          [
           0.1386868686868687,
           0.6744,
           -3.010372025824978,
           -13.083051159465239,
           10.220305401472016,
           "False",
           13.230677427296994,
           10.07267913364026
          ],
          [
           0.1485858585858586,
           0.9422,
           0.3773949629239439,
           -11.412207680245919,
           12.004710011155748,
           "False",
           11.627315048231804,
           11.789602643169863
          ],
          [
           0.15848484848484848,
           0.6152,
           2.8848406583348094,
           -8.113695687877524,
           13.501962705340375,
           "False",
           10.617122047005566,
           10.998536346212333
          ],
          [
           0.16838383838383839,
           0.5612,
           3.216238101386722,
           -9.300989732490349,
           15.16198720624737,
           "False",
           11.945749104860647,
           12.51722783387707
          ],
          [
           0.1782828282828283,
           0.779,
           1.8643578813954207,
           -11.002581345924279,
           15.826205713263164,
           "False",
           13.961847831867743,
           12.8669392273197
          ],
          [
           0.18818181818181817,
           0.7146,
           3.1908579045430656,
           -12.368736903567598,
           16.096522711874865,
           "False",
           12.9056648073318,
           15.559594808110663
          ],
          [
           0.19808080808080808,
           0.8964,
           0.5572485157838685,
           -14.011962311220774,
           16.187628483630203,
           "False",
           15.630379967846334,
           14.569210827004643
          ],
          [
           0.207979797979798,
           0.9208,
           1.1788112421060362,
           -14.28864106429218,
           15.229529950102624,
           "False",
           14.050718707996587,
           15.467452306398217
          ],
          [
           0.21787878787878787,
           0.9198,
           0.956466017090122,
           -13.01508848493939,
           15.343492492707679,
           "False",
           14.387026475617557,
           13.971554502029512
          ],
          [
           0.22777777777777777,
           0.8014,
           2.6248696819509405,
           -13.57893247944916,
           17.34296135327078,
           "False",
           14.71809167131984,
           16.203802161400098
          ],
          [
           0.23767676767676768,
           0.7742,
           2.4978548952209394,
           -12.688518533705803,
           17.762518445055825,
           "False",
           15.264663549834886,
           15.186373428926743
          ],
          [
           0.24757575757575756,
           0.6764,
           3.945696640745382,
           -13.680029793680028,
           19.925417673915835,
           "False",
           15.979721033170453,
           17.62572643442541
          ],
          [
           0.25747474747474747,
           0.6282,
           3.9812901554428777,
           -11.584016793714207,
           19.143563540246614,
           "False",
           15.162273384803736,
           15.565306949157085
          ],
          [
           0.2673737373737374,
           0.5768,
           4.024694276195476,
           -11.040435089187667,
           21.571564956695344,
           "False",
           17.546870680499868,
           15.065129365383143
          ],
          [
           0.2772727272727273,
           0.4042,
           8.001019318964723,
           -10.720002675673877,
           24.665709850188495,
           "False",
           16.664690531223773,
           18.721021994638598
          ],
          [
           0.2871717171717172,
           0.322,
           9.042242706200454,
           -8.392456056228092,
           26.44154291911992,
           "False",
           17.399300212919467,
           17.434698762428546
          ],
          [
           0.29707070707070704,
           0.233,
           12.579443793485382,
           -7.304638654670062,
           31.79746977796235,
           "False",
           19.218025984476967,
           19.884082448155443
          ],
          [
           0.30696969696969695,
           0.1092,
           16.500084493931638,
           -3.8645263786284185,
           34.427940210042806,
           "False",
           17.927855716111168,
           20.364610872560057
          ],
          [
           0.31686868686868686,
           0.082,
           16.3116444382581,
           -2.1415018172088454,
           34.14053573068421,
           "False",
           17.828891292426114,
           18.453146255466944
          ],
          [
           0.32676767676767676,
           0.1314,
           15.086679302380503,
           -4.205746726423476,
           33.70518723876641,
           "False",
           18.61850793638591,
           19.29242602880398
          ],
          [
           0.33666666666666667,
           0.2176,
           12.12549991536514,
           -7.007089944523998,
           33.464372306508665,
           "False",
           21.338872391143525,
           19.132589859889137
          ],
          [
           0.3465656565656566,
           0.2506,
           12.470966635585853,
           -9.469803175603367,
           32.92807946682802,
           "False",
           20.457112831242164,
           21.94076981118922
          ],
          [
           0.3564646464646465,
           0.3126,
           8.602739445484076,
           -9.46896912884609,
           32.479846827689066,
           "False",
           23.87710738220499,
           18.071708574330167
          ],
          [
           0.36636363636363634,
           0.3486,
           12.353995995072637,
           -10.689271124167286,
           34.26231235108649,
           "False",
           21.908316356013856,
           23.04326711923992
          ],
          [
           0.37626262626262624,
           0.2638,
           13.606640691765847,
           -10.687330246010353,
           34.0189091578095,
           "False",
           20.412268466043656,
           24.2939709377762
          ],
          [
           0.38616161616161615,
           0.3336,
           10.479615250878396,
           -10.851110267390538,
           31.379779076582874,
           "False",
           20.900163825704478,
           21.330725518268935
          ],
          [
           0.39606060606060606,
           0.5332,
           5.661621017570781,
           -13.477023552966614,
           28.29522149107594,
           "False",
           22.633600473505158,
           19.138644570537394
          ],
          [
           0.40595959595959596,
           0.663,
           5.834813848156159,
           -17.111657935309193,
           27.794033710809703,
           "False",
           21.959219862653544,
           22.946471783465352
          ],
          [
           0.41585858585858587,
           0.655,
           4.332735245245885,
           -17.983752045918827,
           28.899443260115827,
           "False",
           24.566708014869942,
           22.316487291164712
          ],
          [
           0.4257575757575757,
           0.5468,
           8.649242710704357,
           -17.752624001751812,
           30.028561102103417,
           "False",
           21.37931839139906,
           26.40186671245617
          ],
          [
           0.43565656565656563,
           0.5812,
           6.0594085415160635,
           -16.583265184388733,
           31.583884154249546,
           "False",
           25.524475612733482,
           22.642673725904796
          ],
          [
           0.44555555555555554,
           0.545,
           7.903532651951082,
           -17.056836943306326,
           31.21299288229055,
           "False",
           23.309460230339468,
           24.960369595257408
          ],
          [
           0.45545454545454545,
           0.5624,
           8.145445152121965,
           -18.28614974919779,
           32.634220135792845,
           "False",
           24.48877498367088,
           26.431594901319755
          ],
          [
           0.46535353535353535,
           0.666,
           5.991737347646904,
           -19.639665137752193,
           32.42060699468019,
           "False",
           26.428869647033288,
           25.631402485399096
          ],
          [
           0.47525252525252526,
           0.631,
           4.913805854177099,
           -19.23452784931148,
           35.57133495383653,
           "False",
           30.657529099659435,
           24.14833370348858
          ],
          [
           0.4851515151515151,
           0.4582,
           11.464498931795333,
           -17.707903506472245,
           35.66747865085772,
           "False",
           24.202979719062384,
           29.17240243826758
          ],
          [
           0.495050505050505,
           0.4468,
           10.247648583725095,
           -15.930696800599435,
           35.534298106251775,
           "False",
           25.28664952252668,
           26.17834538432453
          ],
          [
           0.5049494949494949,
           0.566,
           8.220728853326477,
           -20.218086019113255,
           36.98424491399724,
           "False",
           28.76351606067076,
           28.438814872439732
          ],
          [
           0.5148484848484849,
           0.6946,
           6.215824607769605,
           -24.722502783681776,
           38.414002483101385,
           "False",
           32.19817787533178,
           30.93832739145138
          ],
          [
           0.5247474747474747,
           0.6494,
           7.406317027308887,
           -22.017639336092383,
           33.793392690005476,
           "False",
           26.38707566269659,
           29.42395636340127
          ],
          [
           0.5346464646464646,
           0.7534,
           4.449874667349036,
           -25.16346748439474,
           34.585904129559744,
           "False",
           30.136029462210708,
           29.613342151743776
          ],
          [
           0.5445454545454546,
           0.7668,
           3.6142381527092766,
           -24.471374878308254,
           34.02182453765385,
           "False",
           30.407586384944572,
           28.08561303101753
          ],
          [
           0.5544444444444444,
           0.6814,
           5.484285676096533,
           -24.61923858932925,
           36.81434656394567,
           "False",
           31.330060887849136,
           30.103524265425783
          ],
          [
           0.5643434343434344,
           0.6622,
           7.688096262833142,
           -26.23429989531456,
           43.07802295865554,
           "False",
           35.389926695822396,
           33.922396158147706
          ],
          [
           0.5742424242424242,
           0.5524,
           10.106708028950493,
           -25.33036552209057,
           43.0419798833907,
           "False",
           32.93527185444021,
           35.43707355104107
          ],
          [
           0.5841414141414141,
           0.6032,
           8.07130269186655,
           -24.64297309253534,
           45.41438384364585,
           "False",
           37.3430811517793,
           32.71427578440189
          ],
          [
           0.594040404040404,
           0.557,
           11.076528742410346,
           -25.099040156426,
           46.38679963284494,
           "False",
           35.310270890434595,
           36.175568898836346
          ],
          [
           0.6039393939393939,
           0.561,
           11.038194644786017,
           -24.5310088944535,
           45.09906147206534,
           "False",
           34.06086682727932,
           35.56920353923952
          ],
          [
           0.6138383838383838,
           0.6248,
           9.62266504851982,
           -25.094107516591556,
           44.3950782260506,
           "False",
           34.77241317753078,
           34.71677256511138
          ],
          [
           0.6237373737373737,
           0.5194,
           9.875705829771846,
           -23.37618684472427,
           44.53078357232551,
           "False",
           34.655077742553665,
           33.25189267449612
          ],
          [
           0.6336363636363637,
           0.5066,
           12.275550634266551,
           -22.472623105600846,
           46.43857922295891,
           "False",
           34.163028588692356,
           34.7481737398674
          ],
          [
           0.6435353535353535,
           0.5236,
           11.542918669789515,
           -24.00533533799545,
           50.58408525720782,
           "False",
           39.0411665874183,
           35.54825400778496
          ],
          [
           0.6534343434343434,
           0.4392,
           18.032744615571573,
           -24.570869739196258,
           54.57751705331525,
           "False",
           36.544772437743674,
           42.60361435476783
          ],
          [
           0.6633333333333333,
           0.4142,
           18.049051456922825,
           -23.73252001702163,
           56.20962409165941,
           "False",
           38.16057263473658,
           41.78157147394445
          ],
          [
           0.6732323232323232,
           0.4082,
           16.828247321580648,
           -23.455578069332162,
           63.64361675234033,
           "False",
           46.81536943075968,
           40.28382539091281
          ],
          [
           0.6831313131313131,
           0.1892,
           22.22426313662322,
           -13.160528253213615,
           59.572027770647786,
           "False",
           37.347764634024564,
           35.384791389836835
          ],
          [
           0.693030303030303,
           0.2134,
           26.78647434546724,
           -14.428246625050338,
           65.18183249498168,
           "False",
           38.395358149514436,
           41.214720970517575
          ],
          [
           0.702929292929293,
           0.1636,
           28.0012050872931,
           -12.756093676937402,
           68.20958926261524,
           "False",
           40.20838417532214,
           40.757298764230505
          ],
          [
           0.7128282828282828,
           0.21,
           27.162053635248412,
           -16.127055590101357,
           72.1271601359158,
           "False",
           44.96510650066739,
           43.28910922534977
          ],
          [
           0.7227272727272727,
           0.3366,
           28.123408833755548,
           -26.00384057342907,
           73.28617735669559,
           "False",
           45.16276852294004,
           54.12724940718462
          ],
          [
           0.7326262626262626,
           0.4752,
           16.051209198341667,
           -27.406203772049864,
           61.02863624060064,
           "False",
           44.977427042258974,
           43.45741297039153
          ],
          [
           0.7425252525252525,
           0.6894,
           9.624987946221836,
           -36.345732607655535,
           54.841712968668475,
           "False",
           45.21672502244664,
           45.97072055387737
          ],
          [
           0.7524242424242424,
           0.8604,
           5.053802659637768,
           -39.9478698680051,
           46.005696050987986,
           "False",
           40.95189339135022,
           45.00167252764287
          ],
          [
           0.7623232323232323,
           0.9038,
           -5.0856819126097434,
           -50.69470626119702,
           47.795351878352974,
           "False",
           52.88103379096272,
           45.609024348587276
          ],
          [
           0.7722222222222221,
           0.9022,
           -6.900871497934077,
           -59.29292384912374,
           52.82467653519942,
           "False",
           59.7255480331335,
           52.39205235118966
          ],
          [
           0.7821212121212121,
           0.884,
           -3.058689041547268,
           -54.91961021384332,
           44.31900249630459,
           "False",
           47.37769153785186,
           51.86092117229605
          ],
          [
           0.792020202020202,
           0.663,
           -12.783459525146782,
           -63.98019549006216,
           42.040808223692224,
           "False",
           54.824267748839006,
           51.196735964915376
          ],
          [
           0.8019191919191919,
           0.5548,
           -14.210150315541114,
           -67.72164877891257,
           38.92000008897937,
           "False",
           53.130150404520485,
           53.51149846337145
          ],
          [
           0.8118181818181818,
           0.6242,
           -8.284982350617156,
           -68.08562182187549,
           37.57829906124883,
           "False",
           45.863281411865984,
           59.800639471258336
          ],
          [
           0.8217171717171717,
           0.6656,
           -14.598760220332906,
           -75.19017458069618,
           50.671526089471996,
           "False",
           65.2702863098049,
           60.591414360363274
          ],
          [
           0.8316161616161616,
           0.931,
           0.5137347602396858,
           -73.69383264682584,
           57.505312831157475,
           "False",
           56.99157807091779,
           74.20756740706553
          ],
          [
           0.8415151515151514,
           0.813,
           -5.634771008580856,
           -71.30843795648869,
           52.166857763047574,
           "False",
           57.80162877162843,
           65.67366694790783
          ],
          [
           0.8514141414141414,
           0.62,
           -21.506152597389246,
           -88.86735254205053,
           51.720887343990285,
           "False",
           73.22703994137953,
           67.36119994466128
          ],
          [
           0.8613131313131313,
           0.5046,
           -25.48448118927581,
           -96.4146733963853,
           49.35652051030167,
           "False",
           74.84100169957748,
           70.93019220710949
          ],
          [
           0.8712121212121212,
           0.6854,
           -16.749073244582178,
           -96.30736247664193,
           60.53449980539301,
           "False",
           77.28357304997519,
           79.55828923205975
          ],
          [
           0.8811111111111111,
           0.8018,
           -11.665777287588298,
           -76.70480648699046,
           72.42705472935995,
           "False",
           84.09283201694825,
           65.03902919940217
          ],
          [
           0.891010101010101,
           0.536,
           30.934452296270138,
           -62.290470102476974,
           99.68559641729117,
           "False",
           68.75114412102103,
           93.22492239874711
          ],
          [
           0.9009090909090909,
           0.7762,
           14.235928439081817,
           -76.60003738591116,
           107.15509212132737,
           "False",
           92.91916368224555,
           90.83596582499298
          ],
          [
           0.9108080808080807,
           0.7734,
           7.778232126627245,
           -84.95608073590381,
           106.57479819548493,
           "False",
           98.79656606885769,
           92.73431286253106
          ],
          [
           0.9207070707070707,
           0.891,
           -9.604782676247396,
           -113.54399617765444,
           98.36922535357408,
           "False",
           107.97400802982148,
           103.93921350140704
          ],
          [
           0.9306060606060605,
           0.5862,
           -32.66780974914627,
           -115.77005549950644,
           74.35428559516095,
           "False",
           107.02209534430722,
           83.10224575036017
          ],
          [
           0.9405050505050505,
           0.6692,
           -30.53897630274787,
           -128.97699089337087,
           91.97782064172654,
           "False",
           122.51679694447441,
           98.438014590623
          ],
          [
           0.9504040404040404,
           0.52,
           -29.17252026884171,
           -161.56483229654717,
           79.3418289164476,
           "False",
           108.5143491852893,
           132.39231202770546
          ],
          [
           0.9603030303030302,
           0.201,
           -72.28802549067359,
           -205.10926915914965,
           44.88767310979425,
           "False",
           117.17569860046784,
           132.82124366847606
          ],
          [
           0.9702020202020202,
           0.2482,
           -90.27673287323205,
           -239.84573973922406,
           67.22387465644132,
           "False",
           157.50060752967337,
           149.569006865992
          ],
          [
           0.98010101010101,
           0.3962,
           -51.491369144289365,
           -265.93888756537353,
           104.48835345979647,
           "False",
           155.97972260408585,
           214.44751842108417
          ],
          [
           0.99,
           0.1754,
           -191.78858132001096,
           -504.3090158419418,
           76.66531615838358,
           "False",
           268.45389747839454,
           312.52043452193084
          ]
         ],
         "hovertemplate": "Quantile: %{customdata[0]}<br>p_value: %{customdata[1]}<br>Significance: %{customdata[5]}<br>Difference: %{customdata[2]}<br>Lower Bound: %{customdata[3]}<br>Upper Bound: %{customdata[4]}"
        }
       ],
       "layout": {
        "template": {
         "data": {
          "histogram2dcontour": [
           {
            "type": "histogram2dcontour",
            "colorbar": {
             "outlinewidth": 0,
             "ticks": ""
            },
            "colorscale": [
             [
              0.0,
              "#0d0887"
             ],
             [
              0.1111111111111111,
              "#46039f"
             ],
             [
              0.2222222222222222,
              "#7201a8"
             ],
             [
              0.3333333333333333,
              "#9c179e"
             ],
             [
              0.4444444444444444,
              "#bd3786"
             ],
             [
              0.5555555555555556,
              "#d8576b"
             ],
             [
              0.6666666666666666,
              "#ed7953"
             ],
             [
              0.7777777777777778,
              "#fb9f3a"
             ],
             [
              0.8888888888888888,
              "#fdca26"
             ],
             [
              1.0,
              "#f0f921"
             ]
            ]
           }
          ],
          "choropleth": [
           {
            "type": "choropleth",
            "colorbar": {
             "outlinewidth": 0,
             "ticks": ""
            }
           }
          ],
          "histogram2d": [
           {
            "type": "histogram2d",
            "colorbar": {
             "outlinewidth": 0,
             "ticks": ""
            },
            "colorscale": [
             [
              0.0,
              "#0d0887"
             ],
             [
              0.1111111111111111,
              "#46039f"
             ],
             [
              0.2222222222222222,
              "#7201a8"
             ],
             [
              0.3333333333333333,
              "#9c179e"
             ],
             [
              0.4444444444444444,
              "#bd3786"
             ],
             [
              0.5555555555555556,
              "#d8576b"
             ],
             [
              0.6666666666666666,
              "#ed7953"
             ],
             [
              0.7777777777777778,
              "#fb9f3a"
             ],
             [
              0.8888888888888888,
              "#fdca26"
             ],
             [
              1.0,
              "#f0f921"
             ]
            ]
           }
          ],
          "heatmap": [
           {
            "type": "heatmap",
            "colorbar": {
             "outlinewidth": 0,
             "ticks": ""
            },
            "colorscale": [
             [
              0.0,
              "#0d0887"
             ],
             [
              0.1111111111111111,
              "#46039f"
             ],
             [
              0.2222222222222222,
              "#7201a8"
             ],
             [
              0.3333333333333333,
              "#9c179e"
             ],
             [
              0.4444444444444444,
              "#bd3786"
             ],
             [
              0.5555555555555556,
              "#d8576b"
             ],
             [
              0.6666666666666666,
              "#ed7953"
             ],
             [
              0.7777777777777778,
              "#fb9f3a"
             ],
             [
              0.8888888888888888,
              "#fdca26"
             ],
             [
              1.0,
              "#f0f921"
             ]
            ]
           }
          ],
          "heatmapgl": [
           {
            "type": "heatmapgl",
            "colorbar": {
             "outlinewidth": 0,
             "ticks": ""
            },
            "colorscale": [
             [
              0.0,
              "#0d0887"
             ],
             [
              0.1111111111111111,
              "#46039f"
             ],
             [
              0.2222222222222222,
              "#7201a8"
             ],
             [
              0.3333333333333333,
              "#9c179e"
             ],
             [
              0.4444444444444444,
              "#bd3786"
             ],
             [
              0.5555555555555556,
              "#d8576b"
             ],
             [
              0.6666666666666666,
              "#ed7953"
             ],
             [
              0.7777777777777778,
              "#fb9f3a"
             ],
             [
              0.8888888888888888,
              "#fdca26"
             ],
             [
              1.0,
              "#f0f921"
             ]
            ]
           }
          ],
          "contourcarpet": [
           {
            "type": "contourcarpet",
            "colorbar": {
             "outlinewidth": 0,
             "ticks": ""
            }
           }
          ],
          "contour": [
           {
            "type": "contour",
            "colorbar": {
             "outlinewidth": 0,
             "ticks": ""
            },
            "colorscale": [
             [
              0.0,
              "#0d0887"
             ],
             [
              0.1111111111111111,
              "#46039f"
             ],
             [
              0.2222222222222222,
              "#7201a8"
             ],
             [
              0.3333333333333333,
              "#9c179e"
             ],
             [
              0.4444444444444444,
              "#bd3786"
             ],
             [
              0.5555555555555556,
              "#d8576b"
             ],
             [
              0.6666666666666666,
              "#ed7953"
             ],
             [
              0.7777777777777778,
              "#fb9f3a"
             ],
             [
              0.8888888888888888,
              "#fdca26"
             ],
             [
              1.0,
              "#f0f921"
             ]
            ]
           }
          ],
          "surface": [
           {
            "type": "surface",
            "colorbar": {
             "outlinewidth": 0,
             "ticks": ""
            },
            "colorscale": [
             [
              0.0,
              "#0d0887"
             ],
             [
              0.1111111111111111,
              "#46039f"
             ],
             [
              0.2222222222222222,
              "#7201a8"
             ],
             [
              0.3333333333333333,
              "#9c179e"
             ],
             [
              0.4444444444444444,
              "#bd3786"
             ],
             [
              0.5555555555555556,
              "#d8576b"
             ],
             [
              0.6666666666666666,
              "#ed7953"
             ],
             [
              0.7777777777777778,
              "#fb9f3a"
             ],
             [
              0.8888888888888888,
              "#fdca26"
             ],
             [
              1.0,
              "#f0f921"
             ]
            ]
           }
          ],
          "mesh3d": [
           {
            "type": "mesh3d",
            "colorbar": {
             "outlinewidth": 0,
             "ticks": ""
            }
           }
          ],
          "scatter": [
           {
            "fillpattern": {
             "fillmode": "overlay",
             "size": 10,
             "solidity": 0.2
            },
            "type": "scatter"
           }
          ],
          "parcoords": [
           {
            "type": "parcoords",
            "line": {
             "colorbar": {
              "outlinewidth": 0,
              "ticks": ""
             }
            }
           }
          ],
          "scatterpolargl": [
           {
            "type": "scatterpolargl",
            "marker": {
             "colorbar": {
              "outlinewidth": 0,
              "ticks": ""
             }
            }
           }
          ],
          "bar": [
           {
            "error_x": {
             "color": "#2a3f5f"
            },
            "error_y": {
             "color": "#2a3f5f"
            },
            "marker": {
             "line": {
              "color": "#E5ECF6",
              "width": 0.5
             },
             "pattern": {
              "fillmode": "overlay",
              "size": 10,
              "solidity": 0.2
             }
            },
            "type": "bar"
           }
          ],
          "scattergeo": [
           {
            "type": "scattergeo",
            "marker": {
             "colorbar": {
              "outlinewidth": 0,
              "ticks": ""
             }
            }
           }
          ],
          "scatterpolar": [
           {
            "type": "scatterpolar",
            "marker": {
             "colorbar": {
              "outlinewidth": 0,
              "ticks": ""
             }
            }
           }
          ],
          "histogram": [
           {
            "marker": {
             "pattern": {
              "fillmode": "overlay",
              "size": 10,
              "solidity": 0.2
             }
            },
            "type": "histogram"
           }
          ],
          "scattergl": [
           {
            "type": "scattergl",
            "marker": {
             "colorbar": {
              "outlinewidth": 0,
              "ticks": ""
             }
            }
           }
          ],
          "scatter3d": [
           {
            "type": "scatter3d",
            "line": {
             "colorbar": {
              "outlinewidth": 0,
              "ticks": ""
             }
            },
            "marker": {
             "colorbar": {
              "outlinewidth": 0,
              "ticks": ""
             }
            }
           }
          ],
          "scattermapbox": [
           {
            "type": "scattermapbox",
            "marker": {
             "colorbar": {
              "outlinewidth": 0,
              "ticks": ""
             }
            }
           }
          ],
          "scatterternary": [
           {
            "type": "scatterternary",
            "marker": {
             "colorbar": {
              "outlinewidth": 0,
              "ticks": ""
             }
            }
           }
          ],
          "scattercarpet": [
           {
            "type": "scattercarpet",
            "marker": {
             "colorbar": {
              "outlinewidth": 0,
              "ticks": ""
             }
            }
           }
          ],
          "carpet": [
           {
            "aaxis": {
             "endlinecolor": "#2a3f5f",
             "gridcolor": "white",
             "linecolor": "white",
             "minorgridcolor": "white",
             "startlinecolor": "#2a3f5f"
            },
            "baxis": {
             "endlinecolor": "#2a3f5f",
             "gridcolor": "white",
             "linecolor": "white",
             "minorgridcolor": "white",
             "startlinecolor": "#2a3f5f"
            },
            "type": "carpet"
           }
          ],
          "table": [
           {
            "cells": {
             "fill": {
              "color": "#EBF0F8"
             },
             "line": {
              "color": "white"
             }
            },
            "header": {
             "fill": {
              "color": "#C8D4E3"
             },
             "line": {
              "color": "white"
             }
            },
            "type": "table"
           }
          ],
          "barpolar": [
           {
            "marker": {
             "line": {
              "color": "#E5ECF6",
              "width": 0.5
             },
             "pattern": {
              "fillmode": "overlay",
              "size": 10,
              "solidity": 0.2
             }
            },
            "type": "barpolar"
           }
          ],
          "pie": [
           {
            "automargin": true,
            "type": "pie"
           }
          ]
         },
         "layout": {
          "autotypenumbers": "strict",
          "colorway": [
           "#636efa",
           "#EF553B",
           "#00cc96",
           "#ab63fa",
           "#FFA15A",
           "#19d3f3",
           "#FF6692",
           "#B6E880",
           "#FF97FF",
           "#FECB52"
          ],
          "font": {
           "color": "#2a3f5f"
          },
          "hovermode": "closest",
          "hoverlabel": {
           "align": "left"
          },
          "paper_bgcolor": "white",
          "plot_bgcolor": "#E5ECF6",
          "polar": {
           "bgcolor": "#E5ECF6",
           "angularaxis": {
            "gridcolor": "white",
            "linecolor": "white",
            "ticks": ""
           },
           "radialaxis": {
            "gridcolor": "white",
            "linecolor": "white",
            "ticks": ""
           }
          },
          "ternary": {
           "bgcolor": "#E5ECF6",
           "aaxis": {
            "gridcolor": "white",
            "linecolor": "white",
            "ticks": ""
           },
           "baxis": {
            "gridcolor": "white",
            "linecolor": "white",
            "ticks": ""
           },
           "caxis": {
            "gridcolor": "white",
            "linecolor": "white",
            "ticks": ""
           }
          },
          "coloraxis": {
           "colorbar": {
            "outlinewidth": 0,
            "ticks": ""
           }
          },
          "colorscale": {
           "sequential": [
            [
             0.0,
             "#0d0887"
            ],
            [
             0.1111111111111111,
             "#46039f"
            ],
            [
             0.2222222222222222,
             "#7201a8"
            ],
            [
             0.3333333333333333,
             "#9c179e"
            ],
            [
             0.4444444444444444,
             "#bd3786"
            ],
            [
             0.5555555555555556,
             "#d8576b"
            ],
            [
             0.6666666666666666,
             "#ed7953"
            ],
            [
             0.7777777777777778,
             "#fb9f3a"
            ],
            [
             0.8888888888888888,
             "#fdca26"
            ],
            [
             1.0,
             "#f0f921"
            ]
           ],
           "sequentialminus": [
            [
             0.0,
             "#0d0887"
            ],
            [
             0.1111111111111111,
             "#46039f"
            ],
            [
             0.2222222222222222,
             "#7201a8"
            ],
            [
             0.3333333333333333,
             "#9c179e"
            ],
            [
             0.4444444444444444,
             "#bd3786"
            ],
            [
             0.5555555555555556,
             "#d8576b"
            ],
            [
             0.6666666666666666,
             "#ed7953"
            ],
            [
             0.7777777777777778,
             "#fb9f3a"
            ],
            [
             0.8888888888888888,
             "#fdca26"
            ],
            [
             1.0,
             "#f0f921"
            ]
           ],
           "diverging": [
            [
             0,
             "#8e0152"
            ],
            [
             0.1,
             "#c51b7d"
            ],
            [
             0.2,
             "#de77ae"
            ],
            [
             0.3,
             "#f1b6da"
            ],
            [
             0.4,
             "#fde0ef"
            ],
            [
             0.5,
             "#f7f7f7"
            ],
            [
             0.6,
             "#e6f5d0"
            ],
            [
             0.7,
             "#b8e186"
            ],
            [
             0.8,
             "#7fbc41"
            ],
            [
             0.9,
             "#4d9221"
            ],
            [
             1,
             "#276419"
            ]
           ]
          },
          "xaxis": {
           "gridcolor": "white",
           "linecolor": "white",
           "ticks": "",
           "title": {
            "standoff": 15
           },
           "zerolinecolor": "white",
           "automargin": true,
           "zerolinewidth": 2
          },
          "yaxis": {
           "gridcolor": "white",
           "linecolor": "white",
           "ticks": "",
           "title": {
            "standoff": 15
           },
           "zerolinecolor": "white",
           "automargin": true,
           "zerolinewidth": 2
          },
          "scene": {
           "xaxis": {
            "backgroundcolor": "#E5ECF6",
            "gridcolor": "white",
            "linecolor": "white",
            "showbackground": true,
            "ticks": "",
            "zerolinecolor": "white",
            "gridwidth": 2
           },
           "yaxis": {
            "backgroundcolor": "#E5ECF6",
            "gridcolor": "white",
            "linecolor": "white",
            "showbackground": true,
            "ticks": "",
            "zerolinecolor": "white",
            "gridwidth": 2
           },
           "zaxis": {
            "backgroundcolor": "#E5ECF6",
            "gridcolor": "white",
            "linecolor": "white",
            "showbackground": true,
            "ticks": "",
            "zerolinecolor": "white",
            "gridwidth": 2
           }
          },
          "shapedefaults": {
           "line": {
            "color": "#2a3f5f"
           }
          },
          "annotationdefaults": {
           "arrowcolor": "#2a3f5f",
           "arrowhead": 0,
           "arrowwidth": 1
          },
          "geo": {
           "bgcolor": "white",
           "landcolor": "#E5ECF6",
           "subunitcolor": "white",
           "showland": true,
           "showlakes": true,
           "lakecolor": "white"
          },
          "title": {
           "x": 0.05
          },
          "mapbox": {
           "style": "light"
          }
         }
        },
        "shapes": [
         {
          "line": {
           "color": "black",
           "dash": "dash",
           "width": 3
          },
          "type": "line",
          "x0": 0,
          "x1": 1,
          "xref": "x domain",
          "y0": 0,
          "y1": 0,
          "yref": "y"
         }
        ]
       },
       "config": {
        "plotlyServerURL": "https://plot.ly"
       }
      },
      "text/html": "<div>                            <div id=\"77ab13f7-4fb7-4ba9-9a45-00c66df6cd97\" class=\"plotly-graph-div\" style=\"height:525px; width:100%;\"></div>            <script type=\"text/javascript\">                require([\"plotly\"], function(Plotly) {                    window.PLOTLYENV=window.PLOTLYENV || {};                                    if (document.getElementById(\"77ab13f7-4fb7-4ba9-9a45-00c66df6cd97\")) {                    Plotly.newPlot(                        \"77ab13f7-4fb7-4ba9-9a45-00c66df6cd97\",                        [{\"line\":{\"color\":\"red\"},\"mode\":\"lines\",\"name\":\"Quantile Information\",\"x\":[0.01,0.0198989898989899,0.029797979797979796,0.039696969696969696,0.049595959595959596,0.059494949494949496,0.06939393939393938,0.07929292929292929,0.08919191919191918,0.09909090909090908,0.10898989898989898,0.11888888888888888,0.12878787878787878,0.1386868686868687,0.1485858585858586,0.15848484848484848,0.16838383838383839,0.1782828282828283,0.18818181818181817,0.19808080808080808,0.207979797979798,0.21787878787878787,0.22777777777777777,0.23767676767676768,0.24757575757575756,0.25747474747474747,0.2673737373737374,0.2772727272727273,0.2871717171717172,0.29707070707070704,0.30696969696969695,0.31686868686868686,0.32676767676767676,0.33666666666666667,0.3465656565656566,0.3564646464646465,0.36636363636363634,0.37626262626262624,0.38616161616161615,0.39606060606060606,0.40595959595959596,0.41585858585858587,0.4257575757575757,0.43565656565656563,0.44555555555555554,0.45545454545454545,0.46535353535353535,0.47525252525252526,0.4851515151515151,0.495050505050505,0.5049494949494949,0.5148484848484849,0.5247474747474747,0.5346464646464646,0.5445454545454546,0.5544444444444444,0.5643434343434344,0.5742424242424242,0.5841414141414141,0.594040404040404,0.6039393939393939,0.6138383838383838,0.6237373737373737,0.6336363636363637,0.6435353535353535,0.6534343434343434,0.6633333333333333,0.6732323232323232,0.6831313131313131,0.693030303030303,0.702929292929293,0.7128282828282828,0.7227272727272727,0.7326262626262626,0.7425252525252525,0.7524242424242424,0.7623232323232323,0.7722222222222221,0.7821212121212121,0.792020202020202,0.8019191919191919,0.8118181818181818,0.8217171717171717,0.8316161616161616,0.8415151515151514,0.8514141414141414,0.8613131313131313,0.8712121212121212,0.8811111111111111,0.891010101010101,0.9009090909090909,0.9108080808080807,0.9207070707070707,0.9306060606060605,0.9405050505050505,0.9504040404040404,0.9603030303030302,0.9702020202020202,0.98010101010101,0.99],\"y\":[0.3944813533939051,0.3812064204780867,0.9034523325436155,0.9849228094549716,0.5749824438773459,2.3803257393108694,4.9921467870582745,4.3156113942656305,3.153127562001444,1.3784553588719035,2.0325182622985807,1.953673587025449,-0.4692131443219978,-3.010372025824978,0.3773949629239439,2.8848406583348094,3.216238101386722,1.8643578813954207,3.1908579045430656,0.5572485157838685,1.1788112421060362,0.956466017090122,2.6248696819509405,2.4978548952209394,3.945696640745382,3.9812901554428777,4.024694276195476,8.001019318964723,9.042242706200454,12.579443793485382,16.500084493931638,16.3116444382581,15.086679302380503,12.12549991536514,12.470966635585853,8.602739445484076,12.353995995072637,13.606640691765847,10.479615250878396,5.661621017570781,5.834813848156159,4.332735245245885,8.649242710704357,6.0594085415160635,7.903532651951082,8.145445152121965,5.991737347646904,4.913805854177099,11.464498931795333,10.247648583725095,8.220728853326477,6.215824607769605,7.406317027308887,4.449874667349036,3.6142381527092766,5.484285676096533,7.688096262833142,10.106708028950493,8.07130269186655,11.076528742410346,11.038194644786017,9.62266504851982,9.875705829771846,12.275550634266551,11.542918669789515,18.032744615571573,18.049051456922825,16.828247321580648,22.22426313662322,26.78647434546724,28.0012050872931,27.162053635248412,28.123408833755548,16.051209198341667,9.624987946221836,5.053802659637768,-5.0856819126097434,-6.900871497934077,-3.058689041547268,-12.783459525146782,-14.210150315541114,-8.284982350617156,-14.598760220332906,0.5137347602396858,-5.634771008580856,-21.506152597389246,-25.48448118927581,-16.749073244582178,-11.665777287588298,30.934452296270138,14.235928439081817,7.778232126627245,-9.604782676247396,-32.66780974914627,-30.53897630274787,-29.17252026884171,-72.28802549067359,-90.27673287323205,-51.491369144289365,-191.78858132001096],\"type\":\"scatter\",\"customdata\":[[0.01,0.8164,0.3944813533939051,-1.841654592933203,3.0204876658350197,\"False\",2.6260063124411146,2.236135946327108],[0.0198989898989899,0.9702,0.3812064204780867,-4.288667084842102,4.757086366329471,\"False\",4.375879945851384,4.669873505320188],[0.029797979797979796,0.6968,0.9034523325436155,-3.981811932854036,5.324626929310428,\"False\",4.421174596766813,4.885264265397652],[0.039696969696969696,0.7712,0.9849228094549716,-4.330238800043702,6.65729019048256,\"False\",5.6723673810275885,5.315161609498674],[0.049595959595959596,0.811,0.5749824438773459,-5.705898543215149,8.384576135444174,\"False\",7.809593691566828,6.280880987092495],[0.059494949494949496,0.4662,2.3803257393108694,-3.766806479142117,8.384219627826232,\"False\",6.003893888515362,6.147132218452986],[0.06939393939393938,0.1914,4.9921467870582745,-2.4441526926980743,11.09182033799469,\"False\",6.099673550936416,7.436299479756348],[0.07929292929292929,0.3946,4.3156113942656305,-4.587398635676,11.478506060651972,\"False\",7.162894666386341,8.90301002994163],[0.08919191919191918,0.4168,3.153127562001444,-4.755665010086373,11.123086599044582,\"False\",7.969959037043138,7.908792572087817],[0.09909090909090908,0.7292,1.3784553588719035,-7.849142993698556,12.743125331686477,\"False\",11.364669972814573,9.22759835257046],[0.10898989898989898,0.6214,2.0325182622985807,-7.395854236774159,12.996059971353306,\"False\",10.963541709054725,9.42837249907274],[0.11888888888888888,0.7554,1.953673587025449,-9.247661460724517,12.71628409826611,\"False\",10.762610511240661,11.201335047749966],[0.12878787878787878,0.9256,-0.4692131443219978,-11.141263751121677,9.882456845827921,\"False\",10.351669990149919,10.67205060679968],[0.1386868686868687,0.6744,-3.010372025824978,-13.083051159465239,10.220305401472016,\"False\",13.230677427296994,10.07267913364026],[0.1485858585858586,0.9422,0.3773949629239439,-11.412207680245919,12.004710011155748,\"False\",11.627315048231804,11.789602643169863],[0.15848484848484848,0.6152,2.8848406583348094,-8.113695687877524,13.501962705340375,\"False\",10.617122047005566,10.998536346212333],[0.16838383838383839,0.5612,3.216238101386722,-9.300989732490349,15.16198720624737,\"False\",11.945749104860647,12.51722783387707],[0.1782828282828283,0.779,1.8643578813954207,-11.002581345924279,15.826205713263164,\"False\",13.961847831867743,12.8669392273197],[0.18818181818181817,0.7146,3.1908579045430656,-12.368736903567598,16.096522711874865,\"False\",12.9056648073318,15.559594808110663],[0.19808080808080808,0.8964,0.5572485157838685,-14.011962311220774,16.187628483630203,\"False\",15.630379967846334,14.569210827004643],[0.207979797979798,0.9208,1.1788112421060362,-14.28864106429218,15.229529950102624,\"False\",14.050718707996587,15.467452306398217],[0.21787878787878787,0.9198,0.956466017090122,-13.01508848493939,15.343492492707679,\"False\",14.387026475617557,13.971554502029512],[0.22777777777777777,0.8014,2.6248696819509405,-13.57893247944916,17.34296135327078,\"False\",14.71809167131984,16.203802161400098],[0.23767676767676768,0.7742,2.4978548952209394,-12.688518533705803,17.762518445055825,\"False\",15.264663549834886,15.186373428926743],[0.24757575757575756,0.6764,3.945696640745382,-13.680029793680028,19.925417673915835,\"False\",15.979721033170453,17.62572643442541],[0.25747474747474747,0.6282,3.9812901554428777,-11.584016793714207,19.143563540246614,\"False\",15.162273384803736,15.565306949157085],[0.2673737373737374,0.5768,4.024694276195476,-11.040435089187667,21.571564956695344,\"False\",17.546870680499868,15.065129365383143],[0.2772727272727273,0.4042,8.001019318964723,-10.720002675673877,24.665709850188495,\"False\",16.664690531223773,18.721021994638598],[0.2871717171717172,0.322,9.042242706200454,-8.392456056228092,26.44154291911992,\"False\",17.399300212919467,17.434698762428546],[0.29707070707070704,0.233,12.579443793485382,-7.304638654670062,31.79746977796235,\"False\",19.218025984476967,19.884082448155443],[0.30696969696969695,0.1092,16.500084493931638,-3.8645263786284185,34.427940210042806,\"False\",17.927855716111168,20.364610872560057],[0.31686868686868686,0.082,16.3116444382581,-2.1415018172088454,34.14053573068421,\"False\",17.828891292426114,18.453146255466944],[0.32676767676767676,0.1314,15.086679302380503,-4.205746726423476,33.70518723876641,\"False\",18.61850793638591,19.29242602880398],[0.33666666666666667,0.2176,12.12549991536514,-7.007089944523998,33.464372306508665,\"False\",21.338872391143525,19.132589859889137],[0.3465656565656566,0.2506,12.470966635585853,-9.469803175603367,32.92807946682802,\"False\",20.457112831242164,21.94076981118922],[0.3564646464646465,0.3126,8.602739445484076,-9.46896912884609,32.479846827689066,\"False\",23.87710738220499,18.071708574330167],[0.36636363636363634,0.3486,12.353995995072637,-10.689271124167286,34.26231235108649,\"False\",21.908316356013856,23.04326711923992],[0.37626262626262624,0.2638,13.606640691765847,-10.687330246010353,34.0189091578095,\"False\",20.412268466043656,24.2939709377762],[0.38616161616161615,0.3336,10.479615250878396,-10.851110267390538,31.379779076582874,\"False\",20.900163825704478,21.330725518268935],[0.39606060606060606,0.5332,5.661621017570781,-13.477023552966614,28.29522149107594,\"False\",22.633600473505158,19.138644570537394],[0.40595959595959596,0.663,5.834813848156159,-17.111657935309193,27.794033710809703,\"False\",21.959219862653544,22.946471783465352],[0.41585858585858587,0.655,4.332735245245885,-17.983752045918827,28.899443260115827,\"False\",24.566708014869942,22.316487291164712],[0.4257575757575757,0.5468,8.649242710704357,-17.752624001751812,30.028561102103417,\"False\",21.37931839139906,26.40186671245617],[0.43565656565656563,0.5812,6.0594085415160635,-16.583265184388733,31.583884154249546,\"False\",25.524475612733482,22.642673725904796],[0.44555555555555554,0.545,7.903532651951082,-17.056836943306326,31.21299288229055,\"False\",23.309460230339468,24.960369595257408],[0.45545454545454545,0.5624,8.145445152121965,-18.28614974919779,32.634220135792845,\"False\",24.48877498367088,26.431594901319755],[0.46535353535353535,0.666,5.991737347646904,-19.639665137752193,32.42060699468019,\"False\",26.428869647033288,25.631402485399096],[0.47525252525252526,0.631,4.913805854177099,-19.23452784931148,35.57133495383653,\"False\",30.657529099659435,24.14833370348858],[0.4851515151515151,0.4582,11.464498931795333,-17.707903506472245,35.66747865085772,\"False\",24.202979719062384,29.17240243826758],[0.495050505050505,0.4468,10.247648583725095,-15.930696800599435,35.534298106251775,\"False\",25.28664952252668,26.17834538432453],[0.5049494949494949,0.566,8.220728853326477,-20.218086019113255,36.98424491399724,\"False\",28.76351606067076,28.438814872439732],[0.5148484848484849,0.6946,6.215824607769605,-24.722502783681776,38.414002483101385,\"False\",32.19817787533178,30.93832739145138],[0.5247474747474747,0.6494,7.406317027308887,-22.017639336092383,33.793392690005476,\"False\",26.38707566269659,29.42395636340127],[0.5346464646464646,0.7534,4.449874667349036,-25.16346748439474,34.585904129559744,\"False\",30.136029462210708,29.613342151743776],[0.5445454545454546,0.7668,3.6142381527092766,-24.471374878308254,34.02182453765385,\"False\",30.407586384944572,28.08561303101753],[0.5544444444444444,0.6814,5.484285676096533,-24.61923858932925,36.81434656394567,\"False\",31.330060887849136,30.103524265425783],[0.5643434343434344,0.6622,7.688096262833142,-26.23429989531456,43.07802295865554,\"False\",35.389926695822396,33.922396158147706],[0.5742424242424242,0.5524,10.106708028950493,-25.33036552209057,43.0419798833907,\"False\",32.93527185444021,35.43707355104107],[0.5841414141414141,0.6032,8.07130269186655,-24.64297309253534,45.41438384364585,\"False\",37.3430811517793,32.71427578440189],[0.594040404040404,0.557,11.076528742410346,-25.099040156426,46.38679963284494,\"False\",35.310270890434595,36.175568898836346],[0.6039393939393939,0.561,11.038194644786017,-24.5310088944535,45.09906147206534,\"False\",34.06086682727932,35.56920353923952],[0.6138383838383838,0.6248,9.62266504851982,-25.094107516591556,44.3950782260506,\"False\",34.77241317753078,34.71677256511138],[0.6237373737373737,0.5194,9.875705829771846,-23.37618684472427,44.53078357232551,\"False\",34.655077742553665,33.25189267449612],[0.6336363636363637,0.5066,12.275550634266551,-22.472623105600846,46.43857922295891,\"False\",34.163028588692356,34.7481737398674],[0.6435353535353535,0.5236,11.542918669789515,-24.00533533799545,50.58408525720782,\"False\",39.0411665874183,35.54825400778496],[0.6534343434343434,0.4392,18.032744615571573,-24.570869739196258,54.57751705331525,\"False\",36.544772437743674,42.60361435476783],[0.6633333333333333,0.4142,18.049051456922825,-23.73252001702163,56.20962409165941,\"False\",38.16057263473658,41.78157147394445],[0.6732323232323232,0.4082,16.828247321580648,-23.455578069332162,63.64361675234033,\"False\",46.81536943075968,40.28382539091281],[0.6831313131313131,0.1892,22.22426313662322,-13.160528253213615,59.572027770647786,\"False\",37.347764634024564,35.384791389836835],[0.693030303030303,0.2134,26.78647434546724,-14.428246625050338,65.18183249498168,\"False\",38.395358149514436,41.214720970517575],[0.702929292929293,0.1636,28.0012050872931,-12.756093676937402,68.20958926261524,\"False\",40.20838417532214,40.757298764230505],[0.7128282828282828,0.21,27.162053635248412,-16.127055590101357,72.1271601359158,\"False\",44.96510650066739,43.28910922534977],[0.7227272727272727,0.3366,28.123408833755548,-26.00384057342907,73.28617735669559,\"False\",45.16276852294004,54.12724940718462],[0.7326262626262626,0.4752,16.051209198341667,-27.406203772049864,61.02863624060064,\"False\",44.977427042258974,43.45741297039153],[0.7425252525252525,0.6894,9.624987946221836,-36.345732607655535,54.841712968668475,\"False\",45.21672502244664,45.97072055387737],[0.7524242424242424,0.8604,5.053802659637768,-39.9478698680051,46.005696050987986,\"False\",40.95189339135022,45.00167252764287],[0.7623232323232323,0.9038,-5.0856819126097434,-50.69470626119702,47.795351878352974,\"False\",52.88103379096272,45.609024348587276],[0.7722222222222221,0.9022,-6.900871497934077,-59.29292384912374,52.82467653519942,\"False\",59.7255480331335,52.39205235118966],[0.7821212121212121,0.884,-3.058689041547268,-54.91961021384332,44.31900249630459,\"False\",47.37769153785186,51.86092117229605],[0.792020202020202,0.663,-12.783459525146782,-63.98019549006216,42.040808223692224,\"False\",54.824267748839006,51.196735964915376],[0.8019191919191919,0.5548,-14.210150315541114,-67.72164877891257,38.92000008897937,\"False\",53.130150404520485,53.51149846337145],[0.8118181818181818,0.6242,-8.284982350617156,-68.08562182187549,37.57829906124883,\"False\",45.863281411865984,59.800639471258336],[0.8217171717171717,0.6656,-14.598760220332906,-75.19017458069618,50.671526089471996,\"False\",65.2702863098049,60.591414360363274],[0.8316161616161616,0.931,0.5137347602396858,-73.69383264682584,57.505312831157475,\"False\",56.99157807091779,74.20756740706553],[0.8415151515151514,0.813,-5.634771008580856,-71.30843795648869,52.166857763047574,\"False\",57.80162877162843,65.67366694790783],[0.8514141414141414,0.62,-21.506152597389246,-88.86735254205053,51.720887343990285,\"False\",73.22703994137953,67.36119994466128],[0.8613131313131313,0.5046,-25.48448118927581,-96.4146733963853,49.35652051030167,\"False\",74.84100169957748,70.93019220710949],[0.8712121212121212,0.6854,-16.749073244582178,-96.30736247664193,60.53449980539301,\"False\",77.28357304997519,79.55828923205975],[0.8811111111111111,0.8018,-11.665777287588298,-76.70480648699046,72.42705472935995,\"False\",84.09283201694825,65.03902919940217],[0.891010101010101,0.536,30.934452296270138,-62.290470102476974,99.68559641729117,\"False\",68.75114412102103,93.22492239874711],[0.9009090909090909,0.7762,14.235928439081817,-76.60003738591116,107.15509212132737,\"False\",92.91916368224555,90.83596582499298],[0.9108080808080807,0.7734,7.778232126627245,-84.95608073590381,106.57479819548493,\"False\",98.79656606885769,92.73431286253106],[0.9207070707070707,0.891,-9.604782676247396,-113.54399617765444,98.36922535357408,\"False\",107.97400802982148,103.93921350140704],[0.9306060606060605,0.5862,-32.66780974914627,-115.77005549950644,74.35428559516095,\"False\",107.02209534430722,83.10224575036017],[0.9405050505050505,0.6692,-30.53897630274787,-128.97699089337087,91.97782064172654,\"False\",122.51679694447441,98.438014590623],[0.9504040404040404,0.52,-29.17252026884171,-161.56483229654717,79.3418289164476,\"False\",108.5143491852893,132.39231202770546],[0.9603030303030302,0.201,-72.28802549067359,-205.10926915914965,44.88767310979425,\"False\",117.17569860046784,132.82124366847606],[0.9702020202020202,0.2482,-90.27673287323205,-239.84573973922406,67.22387465644132,\"False\",157.50060752967337,149.569006865992],[0.98010101010101,0.3962,-51.491369144289365,-265.93888756537353,104.48835345979647,\"False\",155.97972260408585,214.44751842108417],[0.99,0.1754,-191.78858132001096,-504.3090158419418,76.66531615838358,\"False\",268.45389747839454,312.52043452193084]],\"hovertemplate\":\"Quantile: %{customdata[0]}<br>p_value: %{customdata[1]}<br>Significance: %{customdata[5]}<br>Difference: %{customdata[2]}<br>Lower Bound: %{customdata[3]}<br>Upper Bound: %{customdata[4]}\"},{\"line\":{\"width\":0},\"marker\":{\"color\":\"black\"},\"mode\":\"lines\",\"name\":\"Quantile Information\",\"showlegend\":false,\"x\":[0.01,0.0198989898989899,0.029797979797979796,0.039696969696969696,0.049595959595959596,0.059494949494949496,0.06939393939393938,0.07929292929292929,0.08919191919191918,0.09909090909090908,0.10898989898989898,0.11888888888888888,0.12878787878787878,0.1386868686868687,0.1485858585858586,0.15848484848484848,0.16838383838383839,0.1782828282828283,0.18818181818181817,0.19808080808080808,0.207979797979798,0.21787878787878787,0.22777777777777777,0.23767676767676768,0.24757575757575756,0.25747474747474747,0.2673737373737374,0.2772727272727273,0.2871717171717172,0.29707070707070704,0.30696969696969695,0.31686868686868686,0.32676767676767676,0.33666666666666667,0.3465656565656566,0.3564646464646465,0.36636363636363634,0.37626262626262624,0.38616161616161615,0.39606060606060606,0.40595959595959596,0.41585858585858587,0.4257575757575757,0.43565656565656563,0.44555555555555554,0.45545454545454545,0.46535353535353535,0.47525252525252526,0.4851515151515151,0.495050505050505,0.5049494949494949,0.5148484848484849,0.5247474747474747,0.5346464646464646,0.5445454545454546,0.5544444444444444,0.5643434343434344,0.5742424242424242,0.5841414141414141,0.594040404040404,0.6039393939393939,0.6138383838383838,0.6237373737373737,0.6336363636363637,0.6435353535353535,0.6534343434343434,0.6633333333333333,0.6732323232323232,0.6831313131313131,0.693030303030303,0.702929292929293,0.7128282828282828,0.7227272727272727,0.7326262626262626,0.7425252525252525,0.7524242424242424,0.7623232323232323,0.7722222222222221,0.7821212121212121,0.792020202020202,0.8019191919191919,0.8118181818181818,0.8217171717171717,0.8316161616161616,0.8415151515151514,0.8514141414141414,0.8613131313131313,0.8712121212121212,0.8811111111111111,0.891010101010101,0.9009090909090909,0.9108080808080807,0.9207070707070707,0.9306060606060605,0.9405050505050505,0.9504040404040404,0.9603030303030302,0.9702020202020202,0.98010101010101,0.99],\"y\":[3.0204876658350197,4.757086366329471,5.324626929310428,6.65729019048256,8.384576135444174,8.384219627826232,11.09182033799469,11.478506060651972,11.123086599044582,12.743125331686477,12.996059971353306,12.71628409826611,9.882456845827921,10.220305401472016,12.004710011155748,13.501962705340375,15.16198720624737,15.826205713263164,16.096522711874865,16.187628483630203,15.229529950102624,15.343492492707679,17.34296135327078,17.762518445055825,19.925417673915835,19.143563540246614,21.571564956695344,24.665709850188495,26.44154291911992,31.79746977796235,34.427940210042806,34.14053573068421,33.70518723876641,33.464372306508665,32.92807946682802,32.479846827689066,34.26231235108649,34.0189091578095,31.379779076582874,28.29522149107594,27.794033710809703,28.899443260115827,30.028561102103417,31.583884154249546,31.21299288229055,32.634220135792845,32.42060699468019,35.57133495383653,35.66747865085772,35.534298106251775,36.98424491399724,38.414002483101385,33.793392690005476,34.585904129559744,34.02182453765385,36.81434656394567,43.07802295865554,43.0419798833907,45.41438384364585,46.38679963284494,45.09906147206534,44.3950782260506,44.53078357232551,46.43857922295891,50.58408525720782,54.57751705331525,56.20962409165941,63.64361675234033,59.572027770647786,65.18183249498168,68.20958926261524,72.1271601359158,73.28617735669559,61.02863624060064,54.841712968668475,46.005696050987986,47.795351878352974,52.82467653519942,44.31900249630459,42.040808223692224,38.92000008897937,37.57829906124883,50.671526089471996,57.505312831157475,52.166857763047574,51.720887343990285,49.35652051030167,60.53449980539301,72.42705472935995,99.68559641729117,107.15509212132737,106.57479819548493,98.36922535357408,74.35428559516095,91.97782064172654,79.3418289164476,44.88767310979425,67.22387465644132,104.48835345979647,76.66531615838358],\"type\":\"scatter\",\"customdata\":[[0.01,0.8164,0.3944813533939051,-1.841654592933203,3.0204876658350197,\"False\",2.6260063124411146,2.236135946327108],[0.0198989898989899,0.9702,0.3812064204780867,-4.288667084842102,4.757086366329471,\"False\",4.375879945851384,4.669873505320188],[0.029797979797979796,0.6968,0.9034523325436155,-3.981811932854036,5.324626929310428,\"False\",4.421174596766813,4.885264265397652],[0.039696969696969696,0.7712,0.9849228094549716,-4.330238800043702,6.65729019048256,\"False\",5.6723673810275885,5.315161609498674],[0.049595959595959596,0.811,0.5749824438773459,-5.705898543215149,8.384576135444174,\"False\",7.809593691566828,6.280880987092495],[0.059494949494949496,0.4662,2.3803257393108694,-3.766806479142117,8.384219627826232,\"False\",6.003893888515362,6.147132218452986],[0.06939393939393938,0.1914,4.9921467870582745,-2.4441526926980743,11.09182033799469,\"False\",6.099673550936416,7.436299479756348],[0.07929292929292929,0.3946,4.3156113942656305,-4.587398635676,11.478506060651972,\"False\",7.162894666386341,8.90301002994163],[0.08919191919191918,0.4168,3.153127562001444,-4.755665010086373,11.123086599044582,\"False\",7.969959037043138,7.908792572087817],[0.09909090909090908,0.7292,1.3784553588719035,-7.849142993698556,12.743125331686477,\"False\",11.364669972814573,9.22759835257046],[0.10898989898989898,0.6214,2.0325182622985807,-7.395854236774159,12.996059971353306,\"False\",10.963541709054725,9.42837249907274],[0.11888888888888888,0.7554,1.953673587025449,-9.247661460724517,12.71628409826611,\"False\",10.762610511240661,11.201335047749966],[0.12878787878787878,0.9256,-0.4692131443219978,-11.141263751121677,9.882456845827921,\"False\",10.351669990149919,10.67205060679968],[0.1386868686868687,0.6744,-3.010372025824978,-13.083051159465239,10.220305401472016,\"False\",13.230677427296994,10.07267913364026],[0.1485858585858586,0.9422,0.3773949629239439,-11.412207680245919,12.004710011155748,\"False\",11.627315048231804,11.789602643169863],[0.15848484848484848,0.6152,2.8848406583348094,-8.113695687877524,13.501962705340375,\"False\",10.617122047005566,10.998536346212333],[0.16838383838383839,0.5612,3.216238101386722,-9.300989732490349,15.16198720624737,\"False\",11.945749104860647,12.51722783387707],[0.1782828282828283,0.779,1.8643578813954207,-11.002581345924279,15.826205713263164,\"False\",13.961847831867743,12.8669392273197],[0.18818181818181817,0.7146,3.1908579045430656,-12.368736903567598,16.096522711874865,\"False\",12.9056648073318,15.559594808110663],[0.19808080808080808,0.8964,0.5572485157838685,-14.011962311220774,16.187628483630203,\"False\",15.630379967846334,14.569210827004643],[0.207979797979798,0.9208,1.1788112421060362,-14.28864106429218,15.229529950102624,\"False\",14.050718707996587,15.467452306398217],[0.21787878787878787,0.9198,0.956466017090122,-13.01508848493939,15.343492492707679,\"False\",14.387026475617557,13.971554502029512],[0.22777777777777777,0.8014,2.6248696819509405,-13.57893247944916,17.34296135327078,\"False\",14.71809167131984,16.203802161400098],[0.23767676767676768,0.7742,2.4978548952209394,-12.688518533705803,17.762518445055825,\"False\",15.264663549834886,15.186373428926743],[0.24757575757575756,0.6764,3.945696640745382,-13.680029793680028,19.925417673915835,\"False\",15.979721033170453,17.62572643442541],[0.25747474747474747,0.6282,3.9812901554428777,-11.584016793714207,19.143563540246614,\"False\",15.162273384803736,15.565306949157085],[0.2673737373737374,0.5768,4.024694276195476,-11.040435089187667,21.571564956695344,\"False\",17.546870680499868,15.065129365383143],[0.2772727272727273,0.4042,8.001019318964723,-10.720002675673877,24.665709850188495,\"False\",16.664690531223773,18.721021994638598],[0.2871717171717172,0.322,9.042242706200454,-8.392456056228092,26.44154291911992,\"False\",17.399300212919467,17.434698762428546],[0.29707070707070704,0.233,12.579443793485382,-7.304638654670062,31.79746977796235,\"False\",19.218025984476967,19.884082448155443],[0.30696969696969695,0.1092,16.500084493931638,-3.8645263786284185,34.427940210042806,\"False\",17.927855716111168,20.364610872560057],[0.31686868686868686,0.082,16.3116444382581,-2.1415018172088454,34.14053573068421,\"False\",17.828891292426114,18.453146255466944],[0.32676767676767676,0.1314,15.086679302380503,-4.205746726423476,33.70518723876641,\"False\",18.61850793638591,19.29242602880398],[0.33666666666666667,0.2176,12.12549991536514,-7.007089944523998,33.464372306508665,\"False\",21.338872391143525,19.132589859889137],[0.3465656565656566,0.2506,12.470966635585853,-9.469803175603367,32.92807946682802,\"False\",20.457112831242164,21.94076981118922],[0.3564646464646465,0.3126,8.602739445484076,-9.46896912884609,32.479846827689066,\"False\",23.87710738220499,18.071708574330167],[0.36636363636363634,0.3486,12.353995995072637,-10.689271124167286,34.26231235108649,\"False\",21.908316356013856,23.04326711923992],[0.37626262626262624,0.2638,13.606640691765847,-10.687330246010353,34.0189091578095,\"False\",20.412268466043656,24.2939709377762],[0.38616161616161615,0.3336,10.479615250878396,-10.851110267390538,31.379779076582874,\"False\",20.900163825704478,21.330725518268935],[0.39606060606060606,0.5332,5.661621017570781,-13.477023552966614,28.29522149107594,\"False\",22.633600473505158,19.138644570537394],[0.40595959595959596,0.663,5.834813848156159,-17.111657935309193,27.794033710809703,\"False\",21.959219862653544,22.946471783465352],[0.41585858585858587,0.655,4.332735245245885,-17.983752045918827,28.899443260115827,\"False\",24.566708014869942,22.316487291164712],[0.4257575757575757,0.5468,8.649242710704357,-17.752624001751812,30.028561102103417,\"False\",21.37931839139906,26.40186671245617],[0.43565656565656563,0.5812,6.0594085415160635,-16.583265184388733,31.583884154249546,\"False\",25.524475612733482,22.642673725904796],[0.44555555555555554,0.545,7.903532651951082,-17.056836943306326,31.21299288229055,\"False\",23.309460230339468,24.960369595257408],[0.45545454545454545,0.5624,8.145445152121965,-18.28614974919779,32.634220135792845,\"False\",24.48877498367088,26.431594901319755],[0.46535353535353535,0.666,5.991737347646904,-19.639665137752193,32.42060699468019,\"False\",26.428869647033288,25.631402485399096],[0.47525252525252526,0.631,4.913805854177099,-19.23452784931148,35.57133495383653,\"False\",30.657529099659435,24.14833370348858],[0.4851515151515151,0.4582,11.464498931795333,-17.707903506472245,35.66747865085772,\"False\",24.202979719062384,29.17240243826758],[0.495050505050505,0.4468,10.247648583725095,-15.930696800599435,35.534298106251775,\"False\",25.28664952252668,26.17834538432453],[0.5049494949494949,0.566,8.220728853326477,-20.218086019113255,36.98424491399724,\"False\",28.76351606067076,28.438814872439732],[0.5148484848484849,0.6946,6.215824607769605,-24.722502783681776,38.414002483101385,\"False\",32.19817787533178,30.93832739145138],[0.5247474747474747,0.6494,7.406317027308887,-22.017639336092383,33.793392690005476,\"False\",26.38707566269659,29.42395636340127],[0.5346464646464646,0.7534,4.449874667349036,-25.16346748439474,34.585904129559744,\"False\",30.136029462210708,29.613342151743776],[0.5445454545454546,0.7668,3.6142381527092766,-24.471374878308254,34.02182453765385,\"False\",30.407586384944572,28.08561303101753],[0.5544444444444444,0.6814,5.484285676096533,-24.61923858932925,36.81434656394567,\"False\",31.330060887849136,30.103524265425783],[0.5643434343434344,0.6622,7.688096262833142,-26.23429989531456,43.07802295865554,\"False\",35.389926695822396,33.922396158147706],[0.5742424242424242,0.5524,10.106708028950493,-25.33036552209057,43.0419798833907,\"False\",32.93527185444021,35.43707355104107],[0.5841414141414141,0.6032,8.07130269186655,-24.64297309253534,45.41438384364585,\"False\",37.3430811517793,32.71427578440189],[0.594040404040404,0.557,11.076528742410346,-25.099040156426,46.38679963284494,\"False\",35.310270890434595,36.175568898836346],[0.6039393939393939,0.561,11.038194644786017,-24.5310088944535,45.09906147206534,\"False\",34.06086682727932,35.56920353923952],[0.6138383838383838,0.6248,9.62266504851982,-25.094107516591556,44.3950782260506,\"False\",34.77241317753078,34.71677256511138],[0.6237373737373737,0.5194,9.875705829771846,-23.37618684472427,44.53078357232551,\"False\",34.655077742553665,33.25189267449612],[0.6336363636363637,0.5066,12.275550634266551,-22.472623105600846,46.43857922295891,\"False\",34.163028588692356,34.7481737398674],[0.6435353535353535,0.5236,11.542918669789515,-24.00533533799545,50.58408525720782,\"False\",39.0411665874183,35.54825400778496],[0.6534343434343434,0.4392,18.032744615571573,-24.570869739196258,54.57751705331525,\"False\",36.544772437743674,42.60361435476783],[0.6633333333333333,0.4142,18.049051456922825,-23.73252001702163,56.20962409165941,\"False\",38.16057263473658,41.78157147394445],[0.6732323232323232,0.4082,16.828247321580648,-23.455578069332162,63.64361675234033,\"False\",46.81536943075968,40.28382539091281],[0.6831313131313131,0.1892,22.22426313662322,-13.160528253213615,59.572027770647786,\"False\",37.347764634024564,35.384791389836835],[0.693030303030303,0.2134,26.78647434546724,-14.428246625050338,65.18183249498168,\"False\",38.395358149514436,41.214720970517575],[0.702929292929293,0.1636,28.0012050872931,-12.756093676937402,68.20958926261524,\"False\",40.20838417532214,40.757298764230505],[0.7128282828282828,0.21,27.162053635248412,-16.127055590101357,72.1271601359158,\"False\",44.96510650066739,43.28910922534977],[0.7227272727272727,0.3366,28.123408833755548,-26.00384057342907,73.28617735669559,\"False\",45.16276852294004,54.12724940718462],[0.7326262626262626,0.4752,16.051209198341667,-27.406203772049864,61.02863624060064,\"False\",44.977427042258974,43.45741297039153],[0.7425252525252525,0.6894,9.624987946221836,-36.345732607655535,54.841712968668475,\"False\",45.21672502244664,45.97072055387737],[0.7524242424242424,0.8604,5.053802659637768,-39.9478698680051,46.005696050987986,\"False\",40.95189339135022,45.00167252764287],[0.7623232323232323,0.9038,-5.0856819126097434,-50.69470626119702,47.795351878352974,\"False\",52.88103379096272,45.609024348587276],[0.7722222222222221,0.9022,-6.900871497934077,-59.29292384912374,52.82467653519942,\"False\",59.7255480331335,52.39205235118966],[0.7821212121212121,0.884,-3.058689041547268,-54.91961021384332,44.31900249630459,\"False\",47.37769153785186,51.86092117229605],[0.792020202020202,0.663,-12.783459525146782,-63.98019549006216,42.040808223692224,\"False\",54.824267748839006,51.196735964915376],[0.8019191919191919,0.5548,-14.210150315541114,-67.72164877891257,38.92000008897937,\"False\",53.130150404520485,53.51149846337145],[0.8118181818181818,0.6242,-8.284982350617156,-68.08562182187549,37.57829906124883,\"False\",45.863281411865984,59.800639471258336],[0.8217171717171717,0.6656,-14.598760220332906,-75.19017458069618,50.671526089471996,\"False\",65.2702863098049,60.591414360363274],[0.8316161616161616,0.931,0.5137347602396858,-73.69383264682584,57.505312831157475,\"False\",56.99157807091779,74.20756740706553],[0.8415151515151514,0.813,-5.634771008580856,-71.30843795648869,52.166857763047574,\"False\",57.80162877162843,65.67366694790783],[0.8514141414141414,0.62,-21.506152597389246,-88.86735254205053,51.720887343990285,\"False\",73.22703994137953,67.36119994466128],[0.8613131313131313,0.5046,-25.48448118927581,-96.4146733963853,49.35652051030167,\"False\",74.84100169957748,70.93019220710949],[0.8712121212121212,0.6854,-16.749073244582178,-96.30736247664193,60.53449980539301,\"False\",77.28357304997519,79.55828923205975],[0.8811111111111111,0.8018,-11.665777287588298,-76.70480648699046,72.42705472935995,\"False\",84.09283201694825,65.03902919940217],[0.891010101010101,0.536,30.934452296270138,-62.290470102476974,99.68559641729117,\"False\",68.75114412102103,93.22492239874711],[0.9009090909090909,0.7762,14.235928439081817,-76.60003738591116,107.15509212132737,\"False\",92.91916368224555,90.83596582499298],[0.9108080808080807,0.7734,7.778232126627245,-84.95608073590381,106.57479819548493,\"False\",98.79656606885769,92.73431286253106],[0.9207070707070707,0.891,-9.604782676247396,-113.54399617765444,98.36922535357408,\"False\",107.97400802982148,103.93921350140704],[0.9306060606060605,0.5862,-32.66780974914627,-115.77005549950644,74.35428559516095,\"False\",107.02209534430722,83.10224575036017],[0.9405050505050505,0.6692,-30.53897630274787,-128.97699089337087,91.97782064172654,\"False\",122.51679694447441,98.438014590623],[0.9504040404040404,0.52,-29.17252026884171,-161.56483229654717,79.3418289164476,\"False\",108.5143491852893,132.39231202770546],[0.9603030303030302,0.201,-72.28802549067359,-205.10926915914965,44.88767310979425,\"False\",117.17569860046784,132.82124366847606],[0.9702020202020202,0.2482,-90.27673287323205,-239.84573973922406,67.22387465644132,\"False\",157.50060752967337,149.569006865992],[0.98010101010101,0.3962,-51.491369144289365,-265.93888756537353,104.48835345979647,\"False\",155.97972260408585,214.44751842108417],[0.99,0.1754,-191.78858132001096,-504.3090158419418,76.66531615838358,\"False\",268.45389747839454,312.52043452193084]],\"hovertemplate\":\"Quantile: %{customdata[0]}<br>p_value: %{customdata[1]}<br>Significance: %{customdata[5]}<br>Difference: %{customdata[2]}<br>Lower Bound: %{customdata[3]}<br>Upper Bound: %{customdata[4]}\"},{\"fill\":\"tonexty\",\"fillcolor\":\"rgba(68, 68, 68, 0.3)\",\"line\":{\"width\":0},\"marker\":{\"color\":\"black\"},\"mode\":\"lines\",\"name\":\"Quantile Information\",\"showlegend\":false,\"x\":[0.01,0.0198989898989899,0.029797979797979796,0.039696969696969696,0.049595959595959596,0.059494949494949496,0.06939393939393938,0.07929292929292929,0.08919191919191918,0.09909090909090908,0.10898989898989898,0.11888888888888888,0.12878787878787878,0.1386868686868687,0.1485858585858586,0.15848484848484848,0.16838383838383839,0.1782828282828283,0.18818181818181817,0.19808080808080808,0.207979797979798,0.21787878787878787,0.22777777777777777,0.23767676767676768,0.24757575757575756,0.25747474747474747,0.2673737373737374,0.2772727272727273,0.2871717171717172,0.29707070707070704,0.30696969696969695,0.31686868686868686,0.32676767676767676,0.33666666666666667,0.3465656565656566,0.3564646464646465,0.36636363636363634,0.37626262626262624,0.38616161616161615,0.39606060606060606,0.40595959595959596,0.41585858585858587,0.4257575757575757,0.43565656565656563,0.44555555555555554,0.45545454545454545,0.46535353535353535,0.47525252525252526,0.4851515151515151,0.495050505050505,0.5049494949494949,0.5148484848484849,0.5247474747474747,0.5346464646464646,0.5445454545454546,0.5544444444444444,0.5643434343434344,0.5742424242424242,0.5841414141414141,0.594040404040404,0.6039393939393939,0.6138383838383838,0.6237373737373737,0.6336363636363637,0.6435353535353535,0.6534343434343434,0.6633333333333333,0.6732323232323232,0.6831313131313131,0.693030303030303,0.702929292929293,0.7128282828282828,0.7227272727272727,0.7326262626262626,0.7425252525252525,0.7524242424242424,0.7623232323232323,0.7722222222222221,0.7821212121212121,0.792020202020202,0.8019191919191919,0.8118181818181818,0.8217171717171717,0.8316161616161616,0.8415151515151514,0.8514141414141414,0.8613131313131313,0.8712121212121212,0.8811111111111111,0.891010101010101,0.9009090909090909,0.9108080808080807,0.9207070707070707,0.9306060606060605,0.9405050505050505,0.9504040404040404,0.9603030303030302,0.9702020202020202,0.98010101010101,0.99],\"y\":[-1.841654592933203,-4.288667084842102,-3.981811932854036,-4.330238800043702,-5.705898543215149,-3.766806479142117,-2.4441526926980743,-4.587398635676,-4.755665010086373,-7.849142993698556,-7.395854236774159,-9.247661460724517,-11.141263751121677,-13.083051159465239,-11.412207680245919,-8.113695687877524,-9.300989732490349,-11.002581345924279,-12.368736903567598,-14.011962311220774,-14.28864106429218,-13.01508848493939,-13.57893247944916,-12.688518533705803,-13.680029793680028,-11.584016793714207,-11.040435089187667,-10.720002675673877,-8.392456056228092,-7.304638654670062,-3.8645263786284185,-2.1415018172088454,-4.205746726423476,-7.007089944523998,-9.469803175603367,-9.46896912884609,-10.689271124167286,-10.687330246010353,-10.851110267390538,-13.477023552966614,-17.111657935309193,-17.983752045918827,-17.752624001751812,-16.583265184388733,-17.056836943306326,-18.28614974919779,-19.639665137752193,-19.23452784931148,-17.707903506472245,-15.930696800599435,-20.218086019113255,-24.722502783681776,-22.017639336092383,-25.16346748439474,-24.471374878308254,-24.61923858932925,-26.23429989531456,-25.33036552209057,-24.64297309253534,-25.099040156426,-24.5310088944535,-25.094107516591556,-23.37618684472427,-22.472623105600846,-24.00533533799545,-24.570869739196258,-23.73252001702163,-23.455578069332162,-13.160528253213615,-14.428246625050338,-12.756093676937402,-16.127055590101357,-26.00384057342907,-27.406203772049864,-36.345732607655535,-39.9478698680051,-50.69470626119702,-59.29292384912374,-54.91961021384332,-63.98019549006216,-67.72164877891257,-68.08562182187549,-75.19017458069618,-73.69383264682584,-71.30843795648869,-88.86735254205053,-96.4146733963853,-96.30736247664193,-76.70480648699046,-62.290470102476974,-76.60003738591116,-84.95608073590381,-113.54399617765444,-115.77005549950644,-128.97699089337087,-161.56483229654717,-205.10926915914965,-239.84573973922406,-265.93888756537353,-504.3090158419418],\"type\":\"scatter\",\"customdata\":[[0.01,0.8164,0.3944813533939051,-1.841654592933203,3.0204876658350197,\"False\",2.6260063124411146,2.236135946327108],[0.0198989898989899,0.9702,0.3812064204780867,-4.288667084842102,4.757086366329471,\"False\",4.375879945851384,4.669873505320188],[0.029797979797979796,0.6968,0.9034523325436155,-3.981811932854036,5.324626929310428,\"False\",4.421174596766813,4.885264265397652],[0.039696969696969696,0.7712,0.9849228094549716,-4.330238800043702,6.65729019048256,\"False\",5.6723673810275885,5.315161609498674],[0.049595959595959596,0.811,0.5749824438773459,-5.705898543215149,8.384576135444174,\"False\",7.809593691566828,6.280880987092495],[0.059494949494949496,0.4662,2.3803257393108694,-3.766806479142117,8.384219627826232,\"False\",6.003893888515362,6.147132218452986],[0.06939393939393938,0.1914,4.9921467870582745,-2.4441526926980743,11.09182033799469,\"False\",6.099673550936416,7.436299479756348],[0.07929292929292929,0.3946,4.3156113942656305,-4.587398635676,11.478506060651972,\"False\",7.162894666386341,8.90301002994163],[0.08919191919191918,0.4168,3.153127562001444,-4.755665010086373,11.123086599044582,\"False\",7.969959037043138,7.908792572087817],[0.09909090909090908,0.7292,1.3784553588719035,-7.849142993698556,12.743125331686477,\"False\",11.364669972814573,9.22759835257046],[0.10898989898989898,0.6214,2.0325182622985807,-7.395854236774159,12.996059971353306,\"False\",10.963541709054725,9.42837249907274],[0.11888888888888888,0.7554,1.953673587025449,-9.247661460724517,12.71628409826611,\"False\",10.762610511240661,11.201335047749966],[0.12878787878787878,0.9256,-0.4692131443219978,-11.141263751121677,9.882456845827921,\"False\",10.351669990149919,10.67205060679968],[0.1386868686868687,0.6744,-3.010372025824978,-13.083051159465239,10.220305401472016,\"False\",13.230677427296994,10.07267913364026],[0.1485858585858586,0.9422,0.3773949629239439,-11.412207680245919,12.004710011155748,\"False\",11.627315048231804,11.789602643169863],[0.15848484848484848,0.6152,2.8848406583348094,-8.113695687877524,13.501962705340375,\"False\",10.617122047005566,10.998536346212333],[0.16838383838383839,0.5612,3.216238101386722,-9.300989732490349,15.16198720624737,\"False\",11.945749104860647,12.51722783387707],[0.1782828282828283,0.779,1.8643578813954207,-11.002581345924279,15.826205713263164,\"False\",13.961847831867743,12.8669392273197],[0.18818181818181817,0.7146,3.1908579045430656,-12.368736903567598,16.096522711874865,\"False\",12.9056648073318,15.559594808110663],[0.19808080808080808,0.8964,0.5572485157838685,-14.011962311220774,16.187628483630203,\"False\",15.630379967846334,14.569210827004643],[0.207979797979798,0.9208,1.1788112421060362,-14.28864106429218,15.229529950102624,\"False\",14.050718707996587,15.467452306398217],[0.21787878787878787,0.9198,0.956466017090122,-13.01508848493939,15.343492492707679,\"False\",14.387026475617557,13.971554502029512],[0.22777777777777777,0.8014,2.6248696819509405,-13.57893247944916,17.34296135327078,\"False\",14.71809167131984,16.203802161400098],[0.23767676767676768,0.7742,2.4978548952209394,-12.688518533705803,17.762518445055825,\"False\",15.264663549834886,15.186373428926743],[0.24757575757575756,0.6764,3.945696640745382,-13.680029793680028,19.925417673915835,\"False\",15.979721033170453,17.62572643442541],[0.25747474747474747,0.6282,3.9812901554428777,-11.584016793714207,19.143563540246614,\"False\",15.162273384803736,15.565306949157085],[0.2673737373737374,0.5768,4.024694276195476,-11.040435089187667,21.571564956695344,\"False\",17.546870680499868,15.065129365383143],[0.2772727272727273,0.4042,8.001019318964723,-10.720002675673877,24.665709850188495,\"False\",16.664690531223773,18.721021994638598],[0.2871717171717172,0.322,9.042242706200454,-8.392456056228092,26.44154291911992,\"False\",17.399300212919467,17.434698762428546],[0.29707070707070704,0.233,12.579443793485382,-7.304638654670062,31.79746977796235,\"False\",19.218025984476967,19.884082448155443],[0.30696969696969695,0.1092,16.500084493931638,-3.8645263786284185,34.427940210042806,\"False\",17.927855716111168,20.364610872560057],[0.31686868686868686,0.082,16.3116444382581,-2.1415018172088454,34.14053573068421,\"False\",17.828891292426114,18.453146255466944],[0.32676767676767676,0.1314,15.086679302380503,-4.205746726423476,33.70518723876641,\"False\",18.61850793638591,19.29242602880398],[0.33666666666666667,0.2176,12.12549991536514,-7.007089944523998,33.464372306508665,\"False\",21.338872391143525,19.132589859889137],[0.3465656565656566,0.2506,12.470966635585853,-9.469803175603367,32.92807946682802,\"False\",20.457112831242164,21.94076981118922],[0.3564646464646465,0.3126,8.602739445484076,-9.46896912884609,32.479846827689066,\"False\",23.87710738220499,18.071708574330167],[0.36636363636363634,0.3486,12.353995995072637,-10.689271124167286,34.26231235108649,\"False\",21.908316356013856,23.04326711923992],[0.37626262626262624,0.2638,13.606640691765847,-10.687330246010353,34.0189091578095,\"False\",20.412268466043656,24.2939709377762],[0.38616161616161615,0.3336,10.479615250878396,-10.851110267390538,31.379779076582874,\"False\",20.900163825704478,21.330725518268935],[0.39606060606060606,0.5332,5.661621017570781,-13.477023552966614,28.29522149107594,\"False\",22.633600473505158,19.138644570537394],[0.40595959595959596,0.663,5.834813848156159,-17.111657935309193,27.794033710809703,\"False\",21.959219862653544,22.946471783465352],[0.41585858585858587,0.655,4.332735245245885,-17.983752045918827,28.899443260115827,\"False\",24.566708014869942,22.316487291164712],[0.4257575757575757,0.5468,8.649242710704357,-17.752624001751812,30.028561102103417,\"False\",21.37931839139906,26.40186671245617],[0.43565656565656563,0.5812,6.0594085415160635,-16.583265184388733,31.583884154249546,\"False\",25.524475612733482,22.642673725904796],[0.44555555555555554,0.545,7.903532651951082,-17.056836943306326,31.21299288229055,\"False\",23.309460230339468,24.960369595257408],[0.45545454545454545,0.5624,8.145445152121965,-18.28614974919779,32.634220135792845,\"False\",24.48877498367088,26.431594901319755],[0.46535353535353535,0.666,5.991737347646904,-19.639665137752193,32.42060699468019,\"False\",26.428869647033288,25.631402485399096],[0.47525252525252526,0.631,4.913805854177099,-19.23452784931148,35.57133495383653,\"False\",30.657529099659435,24.14833370348858],[0.4851515151515151,0.4582,11.464498931795333,-17.707903506472245,35.66747865085772,\"False\",24.202979719062384,29.17240243826758],[0.495050505050505,0.4468,10.247648583725095,-15.930696800599435,35.534298106251775,\"False\",25.28664952252668,26.17834538432453],[0.5049494949494949,0.566,8.220728853326477,-20.218086019113255,36.98424491399724,\"False\",28.76351606067076,28.438814872439732],[0.5148484848484849,0.6946,6.215824607769605,-24.722502783681776,38.414002483101385,\"False\",32.19817787533178,30.93832739145138],[0.5247474747474747,0.6494,7.406317027308887,-22.017639336092383,33.793392690005476,\"False\",26.38707566269659,29.42395636340127],[0.5346464646464646,0.7534,4.449874667349036,-25.16346748439474,34.585904129559744,\"False\",30.136029462210708,29.613342151743776],[0.5445454545454546,0.7668,3.6142381527092766,-24.471374878308254,34.02182453765385,\"False\",30.407586384944572,28.08561303101753],[0.5544444444444444,0.6814,5.484285676096533,-24.61923858932925,36.81434656394567,\"False\",31.330060887849136,30.103524265425783],[0.5643434343434344,0.6622,7.688096262833142,-26.23429989531456,43.07802295865554,\"False\",35.389926695822396,33.922396158147706],[0.5742424242424242,0.5524,10.106708028950493,-25.33036552209057,43.0419798833907,\"False\",32.93527185444021,35.43707355104107],[0.5841414141414141,0.6032,8.07130269186655,-24.64297309253534,45.41438384364585,\"False\",37.3430811517793,32.71427578440189],[0.594040404040404,0.557,11.076528742410346,-25.099040156426,46.38679963284494,\"False\",35.310270890434595,36.175568898836346],[0.6039393939393939,0.561,11.038194644786017,-24.5310088944535,45.09906147206534,\"False\",34.06086682727932,35.56920353923952],[0.6138383838383838,0.6248,9.62266504851982,-25.094107516591556,44.3950782260506,\"False\",34.77241317753078,34.71677256511138],[0.6237373737373737,0.5194,9.875705829771846,-23.37618684472427,44.53078357232551,\"False\",34.655077742553665,33.25189267449612],[0.6336363636363637,0.5066,12.275550634266551,-22.472623105600846,46.43857922295891,\"False\",34.163028588692356,34.7481737398674],[0.6435353535353535,0.5236,11.542918669789515,-24.00533533799545,50.58408525720782,\"False\",39.0411665874183,35.54825400778496],[0.6534343434343434,0.4392,18.032744615571573,-24.570869739196258,54.57751705331525,\"False\",36.544772437743674,42.60361435476783],[0.6633333333333333,0.4142,18.049051456922825,-23.73252001702163,56.20962409165941,\"False\",38.16057263473658,41.78157147394445],[0.6732323232323232,0.4082,16.828247321580648,-23.455578069332162,63.64361675234033,\"False\",46.81536943075968,40.28382539091281],[0.6831313131313131,0.1892,22.22426313662322,-13.160528253213615,59.572027770647786,\"False\",37.347764634024564,35.384791389836835],[0.693030303030303,0.2134,26.78647434546724,-14.428246625050338,65.18183249498168,\"False\",38.395358149514436,41.214720970517575],[0.702929292929293,0.1636,28.0012050872931,-12.756093676937402,68.20958926261524,\"False\",40.20838417532214,40.757298764230505],[0.7128282828282828,0.21,27.162053635248412,-16.127055590101357,72.1271601359158,\"False\",44.96510650066739,43.28910922534977],[0.7227272727272727,0.3366,28.123408833755548,-26.00384057342907,73.28617735669559,\"False\",45.16276852294004,54.12724940718462],[0.7326262626262626,0.4752,16.051209198341667,-27.406203772049864,61.02863624060064,\"False\",44.977427042258974,43.45741297039153],[0.7425252525252525,0.6894,9.624987946221836,-36.345732607655535,54.841712968668475,\"False\",45.21672502244664,45.97072055387737],[0.7524242424242424,0.8604,5.053802659637768,-39.9478698680051,46.005696050987986,\"False\",40.95189339135022,45.00167252764287],[0.7623232323232323,0.9038,-5.0856819126097434,-50.69470626119702,47.795351878352974,\"False\",52.88103379096272,45.609024348587276],[0.7722222222222221,0.9022,-6.900871497934077,-59.29292384912374,52.82467653519942,\"False\",59.7255480331335,52.39205235118966],[0.7821212121212121,0.884,-3.058689041547268,-54.91961021384332,44.31900249630459,\"False\",47.37769153785186,51.86092117229605],[0.792020202020202,0.663,-12.783459525146782,-63.98019549006216,42.040808223692224,\"False\",54.824267748839006,51.196735964915376],[0.8019191919191919,0.5548,-14.210150315541114,-67.72164877891257,38.92000008897937,\"False\",53.130150404520485,53.51149846337145],[0.8118181818181818,0.6242,-8.284982350617156,-68.08562182187549,37.57829906124883,\"False\",45.863281411865984,59.800639471258336],[0.8217171717171717,0.6656,-14.598760220332906,-75.19017458069618,50.671526089471996,\"False\",65.2702863098049,60.591414360363274],[0.8316161616161616,0.931,0.5137347602396858,-73.69383264682584,57.505312831157475,\"False\",56.99157807091779,74.20756740706553],[0.8415151515151514,0.813,-5.634771008580856,-71.30843795648869,52.166857763047574,\"False\",57.80162877162843,65.67366694790783],[0.8514141414141414,0.62,-21.506152597389246,-88.86735254205053,51.720887343990285,\"False\",73.22703994137953,67.36119994466128],[0.8613131313131313,0.5046,-25.48448118927581,-96.4146733963853,49.35652051030167,\"False\",74.84100169957748,70.93019220710949],[0.8712121212121212,0.6854,-16.749073244582178,-96.30736247664193,60.53449980539301,\"False\",77.28357304997519,79.55828923205975],[0.8811111111111111,0.8018,-11.665777287588298,-76.70480648699046,72.42705472935995,\"False\",84.09283201694825,65.03902919940217],[0.891010101010101,0.536,30.934452296270138,-62.290470102476974,99.68559641729117,\"False\",68.75114412102103,93.22492239874711],[0.9009090909090909,0.7762,14.235928439081817,-76.60003738591116,107.15509212132737,\"False\",92.91916368224555,90.83596582499298],[0.9108080808080807,0.7734,7.778232126627245,-84.95608073590381,106.57479819548493,\"False\",98.79656606885769,92.73431286253106],[0.9207070707070707,0.891,-9.604782676247396,-113.54399617765444,98.36922535357408,\"False\",107.97400802982148,103.93921350140704],[0.9306060606060605,0.5862,-32.66780974914627,-115.77005549950644,74.35428559516095,\"False\",107.02209534430722,83.10224575036017],[0.9405050505050505,0.6692,-30.53897630274787,-128.97699089337087,91.97782064172654,\"False\",122.51679694447441,98.438014590623],[0.9504040404040404,0.52,-29.17252026884171,-161.56483229654717,79.3418289164476,\"False\",108.5143491852893,132.39231202770546],[0.9603030303030302,0.201,-72.28802549067359,-205.10926915914965,44.88767310979425,\"False\",117.17569860046784,132.82124366847606],[0.9702020202020202,0.2482,-90.27673287323205,-239.84573973922406,67.22387465644132,\"False\",157.50060752967337,149.569006865992],[0.98010101010101,0.3962,-51.491369144289365,-265.93888756537353,104.48835345979647,\"False\",155.97972260408585,214.44751842108417],[0.99,0.1754,-191.78858132001096,-504.3090158419418,76.66531615838358,\"False\",268.45389747839454,312.52043452193084]],\"hovertemplate\":\"Quantile: %{customdata[0]}<br>p_value: %{customdata[1]}<br>Significance: %{customdata[5]}<br>Difference: %{customdata[2]}<br>Lower Bound: %{customdata[3]}<br>Upper Bound: %{customdata[4]}\"}],                        {\"template\":{\"data\":{\"histogram2dcontour\":[{\"type\":\"histogram2dcontour\",\"colorbar\":{\"outlinewidth\":0,\"ticks\":\"\"},\"colorscale\":[[0.0,\"#0d0887\"],[0.1111111111111111,\"#46039f\"],[0.2222222222222222,\"#7201a8\"],[0.3333333333333333,\"#9c179e\"],[0.4444444444444444,\"#bd3786\"],[0.5555555555555556,\"#d8576b\"],[0.6666666666666666,\"#ed7953\"],[0.7777777777777778,\"#fb9f3a\"],[0.8888888888888888,\"#fdca26\"],[1.0,\"#f0f921\"]]}],\"choropleth\":[{\"type\":\"choropleth\",\"colorbar\":{\"outlinewidth\":0,\"ticks\":\"\"}}],\"histogram2d\":[{\"type\":\"histogram2d\",\"colorbar\":{\"outlinewidth\":0,\"ticks\":\"\"},\"colorscale\":[[0.0,\"#0d0887\"],[0.1111111111111111,\"#46039f\"],[0.2222222222222222,\"#7201a8\"],[0.3333333333333333,\"#9c179e\"],[0.4444444444444444,\"#bd3786\"],[0.5555555555555556,\"#d8576b\"],[0.6666666666666666,\"#ed7953\"],[0.7777777777777778,\"#fb9f3a\"],[0.8888888888888888,\"#fdca26\"],[1.0,\"#f0f921\"]]}],\"heatmap\":[{\"type\":\"heatmap\",\"colorbar\":{\"outlinewidth\":0,\"ticks\":\"\"},\"colorscale\":[[0.0,\"#0d0887\"],[0.1111111111111111,\"#46039f\"],[0.2222222222222222,\"#7201a8\"],[0.3333333333333333,\"#9c179e\"],[0.4444444444444444,\"#bd3786\"],[0.5555555555555556,\"#d8576b\"],[0.6666666666666666,\"#ed7953\"],[0.7777777777777778,\"#fb9f3a\"],[0.8888888888888888,\"#fdca26\"],[1.0,\"#f0f921\"]]}],\"heatmapgl\":[{\"type\":\"heatmapgl\",\"colorbar\":{\"outlinewidth\":0,\"ticks\":\"\"},\"colorscale\":[[0.0,\"#0d0887\"],[0.1111111111111111,\"#46039f\"],[0.2222222222222222,\"#7201a8\"],[0.3333333333333333,\"#9c179e\"],[0.4444444444444444,\"#bd3786\"],[0.5555555555555556,\"#d8576b\"],[0.6666666666666666,\"#ed7953\"],[0.7777777777777778,\"#fb9f3a\"],[0.8888888888888888,\"#fdca26\"],[1.0,\"#f0f921\"]]}],\"contourcarpet\":[{\"type\":\"contourcarpet\",\"colorbar\":{\"outlinewidth\":0,\"ticks\":\"\"}}],\"contour\":[{\"type\":\"contour\",\"colorbar\":{\"outlinewidth\":0,\"ticks\":\"\"},\"colorscale\":[[0.0,\"#0d0887\"],[0.1111111111111111,\"#46039f\"],[0.2222222222222222,\"#7201a8\"],[0.3333333333333333,\"#9c179e\"],[0.4444444444444444,\"#bd3786\"],[0.5555555555555556,\"#d8576b\"],[0.6666666666666666,\"#ed7953\"],[0.7777777777777778,\"#fb9f3a\"],[0.8888888888888888,\"#fdca26\"],[1.0,\"#f0f921\"]]}],\"surface\":[{\"type\":\"surface\",\"colorbar\":{\"outlinewidth\":0,\"ticks\":\"\"},\"colorscale\":[[0.0,\"#0d0887\"],[0.1111111111111111,\"#46039f\"],[0.2222222222222222,\"#7201a8\"],[0.3333333333333333,\"#9c179e\"],[0.4444444444444444,\"#bd3786\"],[0.5555555555555556,\"#d8576b\"],[0.6666666666666666,\"#ed7953\"],[0.7777777777777778,\"#fb9f3a\"],[0.8888888888888888,\"#fdca26\"],[1.0,\"#f0f921\"]]}],\"mesh3d\":[{\"type\":\"mesh3d\",\"colorbar\":{\"outlinewidth\":0,\"ticks\":\"\"}}],\"scatter\":[{\"fillpattern\":{\"fillmode\":\"overlay\",\"size\":10,\"solidity\":0.2},\"type\":\"scatter\"}],\"parcoords\":[{\"type\":\"parcoords\",\"line\":{\"colorbar\":{\"outlinewidth\":0,\"ticks\":\"\"}}}],\"scatterpolargl\":[{\"type\":\"scatterpolargl\",\"marker\":{\"colorbar\":{\"outlinewidth\":0,\"ticks\":\"\"}}}],\"bar\":[{\"error_x\":{\"color\":\"#2a3f5f\"},\"error_y\":{\"color\":\"#2a3f5f\"},\"marker\":{\"line\":{\"color\":\"#E5ECF6\",\"width\":0.5},\"pattern\":{\"fillmode\":\"overlay\",\"size\":10,\"solidity\":0.2}},\"type\":\"bar\"}],\"scattergeo\":[{\"type\":\"scattergeo\",\"marker\":{\"colorbar\":{\"outlinewidth\":0,\"ticks\":\"\"}}}],\"scatterpolar\":[{\"type\":\"scatterpolar\",\"marker\":{\"colorbar\":{\"outlinewidth\":0,\"ticks\":\"\"}}}],\"histogram\":[{\"marker\":{\"pattern\":{\"fillmode\":\"overlay\",\"size\":10,\"solidity\":0.2}},\"type\":\"histogram\"}],\"scattergl\":[{\"type\":\"scattergl\",\"marker\":{\"colorbar\":{\"outlinewidth\":0,\"ticks\":\"\"}}}],\"scatter3d\":[{\"type\":\"scatter3d\",\"line\":{\"colorbar\":{\"outlinewidth\":0,\"ticks\":\"\"}},\"marker\":{\"colorbar\":{\"outlinewidth\":0,\"ticks\":\"\"}}}],\"scattermapbox\":[{\"type\":\"scattermapbox\",\"marker\":{\"colorbar\":{\"outlinewidth\":0,\"ticks\":\"\"}}}],\"scatterternary\":[{\"type\":\"scatterternary\",\"marker\":{\"colorbar\":{\"outlinewidth\":0,\"ticks\":\"\"}}}],\"scattercarpet\":[{\"type\":\"scattercarpet\",\"marker\":{\"colorbar\":{\"outlinewidth\":0,\"ticks\":\"\"}}}],\"carpet\":[{\"aaxis\":{\"endlinecolor\":\"#2a3f5f\",\"gridcolor\":\"white\",\"linecolor\":\"white\",\"minorgridcolor\":\"white\",\"startlinecolor\":\"#2a3f5f\"},\"baxis\":{\"endlinecolor\":\"#2a3f5f\",\"gridcolor\":\"white\",\"linecolor\":\"white\",\"minorgridcolor\":\"white\",\"startlinecolor\":\"#2a3f5f\"},\"type\":\"carpet\"}],\"table\":[{\"cells\":{\"fill\":{\"color\":\"#EBF0F8\"},\"line\":{\"color\":\"white\"}},\"header\":{\"fill\":{\"color\":\"#C8D4E3\"},\"line\":{\"color\":\"white\"}},\"type\":\"table\"}],\"barpolar\":[{\"marker\":{\"line\":{\"color\":\"#E5ECF6\",\"width\":0.5},\"pattern\":{\"fillmode\":\"overlay\",\"size\":10,\"solidity\":0.2}},\"type\":\"barpolar\"}],\"pie\":[{\"automargin\":true,\"type\":\"pie\"}]},\"layout\":{\"autotypenumbers\":\"strict\",\"colorway\":[\"#636efa\",\"#EF553B\",\"#00cc96\",\"#ab63fa\",\"#FFA15A\",\"#19d3f3\",\"#FF6692\",\"#B6E880\",\"#FF97FF\",\"#FECB52\"],\"font\":{\"color\":\"#2a3f5f\"},\"hovermode\":\"closest\",\"hoverlabel\":{\"align\":\"left\"},\"paper_bgcolor\":\"white\",\"plot_bgcolor\":\"#E5ECF6\",\"polar\":{\"bgcolor\":\"#E5ECF6\",\"angularaxis\":{\"gridcolor\":\"white\",\"linecolor\":\"white\",\"ticks\":\"\"},\"radialaxis\":{\"gridcolor\":\"white\",\"linecolor\":\"white\",\"ticks\":\"\"}},\"ternary\":{\"bgcolor\":\"#E5ECF6\",\"aaxis\":{\"gridcolor\":\"white\",\"linecolor\":\"white\",\"ticks\":\"\"},\"baxis\":{\"gridcolor\":\"white\",\"linecolor\":\"white\",\"ticks\":\"\"},\"caxis\":{\"gridcolor\":\"white\",\"linecolor\":\"white\",\"ticks\":\"\"}},\"coloraxis\":{\"colorbar\":{\"outlinewidth\":0,\"ticks\":\"\"}},\"colorscale\":{\"sequential\":[[0.0,\"#0d0887\"],[0.1111111111111111,\"#46039f\"],[0.2222222222222222,\"#7201a8\"],[0.3333333333333333,\"#9c179e\"],[0.4444444444444444,\"#bd3786\"],[0.5555555555555556,\"#d8576b\"],[0.6666666666666666,\"#ed7953\"],[0.7777777777777778,\"#fb9f3a\"],[0.8888888888888888,\"#fdca26\"],[1.0,\"#f0f921\"]],\"sequentialminus\":[[0.0,\"#0d0887\"],[0.1111111111111111,\"#46039f\"],[0.2222222222222222,\"#7201a8\"],[0.3333333333333333,\"#9c179e\"],[0.4444444444444444,\"#bd3786\"],[0.5555555555555556,\"#d8576b\"],[0.6666666666666666,\"#ed7953\"],[0.7777777777777778,\"#fb9f3a\"],[0.8888888888888888,\"#fdca26\"],[1.0,\"#f0f921\"]],\"diverging\":[[0,\"#8e0152\"],[0.1,\"#c51b7d\"],[0.2,\"#de77ae\"],[0.3,\"#f1b6da\"],[0.4,\"#fde0ef\"],[0.5,\"#f7f7f7\"],[0.6,\"#e6f5d0\"],[0.7,\"#b8e186\"],[0.8,\"#7fbc41\"],[0.9,\"#4d9221\"],[1,\"#276419\"]]},\"xaxis\":{\"gridcolor\":\"white\",\"linecolor\":\"white\",\"ticks\":\"\",\"title\":{\"standoff\":15},\"zerolinecolor\":\"white\",\"automargin\":true,\"zerolinewidth\":2},\"yaxis\":{\"gridcolor\":\"white\",\"linecolor\":\"white\",\"ticks\":\"\",\"title\":{\"standoff\":15},\"zerolinecolor\":\"white\",\"automargin\":true,\"zerolinewidth\":2},\"scene\":{\"xaxis\":{\"backgroundcolor\":\"#E5ECF6\",\"gridcolor\":\"white\",\"linecolor\":\"white\",\"showbackground\":true,\"ticks\":\"\",\"zerolinecolor\":\"white\",\"gridwidth\":2},\"yaxis\":{\"backgroundcolor\":\"#E5ECF6\",\"gridcolor\":\"white\",\"linecolor\":\"white\",\"showbackground\":true,\"ticks\":\"\",\"zerolinecolor\":\"white\",\"gridwidth\":2},\"zaxis\":{\"backgroundcolor\":\"#E5ECF6\",\"gridcolor\":\"white\",\"linecolor\":\"white\",\"showbackground\":true,\"ticks\":\"\",\"zerolinecolor\":\"white\",\"gridwidth\":2}},\"shapedefaults\":{\"line\":{\"color\":\"#2a3f5f\"}},\"annotationdefaults\":{\"arrowcolor\":\"#2a3f5f\",\"arrowhead\":0,\"arrowwidth\":1},\"geo\":{\"bgcolor\":\"white\",\"landcolor\":\"#E5ECF6\",\"subunitcolor\":\"white\",\"showland\":true,\"showlakes\":true,\"lakecolor\":\"white\"},\"title\":{\"x\":0.05},\"mapbox\":{\"style\":\"light\"}}},\"shapes\":[{\"line\":{\"color\":\"black\",\"dash\":\"dash\",\"width\":3},\"type\":\"line\",\"x0\":0,\"x1\":1,\"xref\":\"x domain\",\"y0\":0,\"y1\":0,\"yref\":\"y\"}]},                        {\"responsive\": true}                    ).then(function(){\n                            \nvar gd = document.getElementById('77ab13f7-4fb7-4ba9-9a45-00c66df6cd97');\nvar x = new MutationObserver(function (mutations, observer) {{\n        var display = window.getComputedStyle(gd).display;\n        if (!display || display === 'none') {{\n            console.log([gd, 'removed!']);\n            Plotly.purge(gd);\n            observer.disconnect();\n        }}\n}});\n\n// Listen for the removal of the full notebook cells\nvar notebookContainer = gd.closest('#notebook-container');\nif (notebookContainer) {{\n    x.observe(notebookContainer, {childList: true});\n}}\n\n// Listen for the clearing of the current output cell\nvar outputEl = gd.closest('.output');\nif (outputEl) {{\n    x.observe(outputEl, {childList: true});\n}}\n\n                        })                };                });            </script>        </div>"
     },
     "metadata": {},
     "output_type": "display_data"
    }
   ],
   "source": [
    "quantile_bootstrap_plot(sample_1, sample_2, n_step=100)"
   ],
   "metadata": {
    "collapsed": false,
    "ExecuteTime": {
     "end_time": "2023-07-09T12:42:27.441300Z",
     "start_time": "2023-07-09T12:42:26.746797Z"
    }
   }
  },
  {
   "cell_type": "code",
   "execution_count": 20,
   "outputs": [],
   "source": [
    "sample_1 = np.random.normal(loc=0, scale=1, size=10000)\n",
    "sample_2 = np.random.normal(loc=0.1, scale=1.05, size=10000)"
   ],
   "metadata": {
    "collapsed": false,
    "ExecuteTime": {
     "end_time": "2023-07-09T12:42:27.447946Z",
     "start_time": "2023-07-09T12:42:27.272754Z"
    }
   }
  },
  {
   "cell_type": "code",
   "execution_count": 21,
   "outputs": [
    {
     "data": {
      "application/vnd.plotly.v1+json": {
       "data": [
        {
         "line": {
          "color": "red"
         },
         "mode": "lines",
         "name": "Quantile Information",
         "x": [
          0.01,
          0.0198989898989899,
          0.029797979797979796,
          0.039696969696969696,
          0.049595959595959596,
          0.059494949494949496,
          0.06939393939393938,
          0.07929292929292929,
          0.08919191919191918,
          0.09909090909090908,
          0.10898989898989898,
          0.11888888888888888,
          0.12878787878787878,
          0.1386868686868687,
          0.1485858585858586,
          0.15848484848484848,
          0.16838383838383839,
          0.1782828282828283,
          0.18818181818181817,
          0.19808080808080808,
          0.207979797979798,
          0.21787878787878787,
          0.22777777777777777,
          0.23767676767676768,
          0.24757575757575756,
          0.25747474747474747,
          0.2673737373737374,
          0.2772727272727273,
          0.2871717171717172,
          0.29707070707070704,
          0.30696969696969695,
          0.31686868686868686,
          0.32676767676767676,
          0.33666666666666667,
          0.3465656565656566,
          0.3564646464646465,
          0.36636363636363634,
          0.37626262626262624,
          0.38616161616161615,
          0.39606060606060606,
          0.40595959595959596,
          0.41585858585858587,
          0.4257575757575757,
          0.43565656565656563,
          0.44555555555555554,
          0.45545454545454545,
          0.46535353535353535,
          0.47525252525252526,
          0.4851515151515151,
          0.495050505050505,
          0.5049494949494949,
          0.5148484848484849,
          0.5247474747474747,
          0.5346464646464646,
          0.5445454545454546,
          0.5544444444444444,
          0.5643434343434344,
          0.5742424242424242,
          0.5841414141414141,
          0.594040404040404,
          0.6039393939393939,
          0.6138383838383838,
          0.6237373737373737,
          0.6336363636363637,
          0.6435353535353535,
          0.6534343434343434,
          0.6633333333333333,
          0.6732323232323232,
          0.6831313131313131,
          0.693030303030303,
          0.702929292929293,
          0.7128282828282828,
          0.7227272727272727,
          0.7326262626262626,
          0.7425252525252525,
          0.7524242424242424,
          0.7623232323232323,
          0.7722222222222221,
          0.7821212121212121,
          0.792020202020202,
          0.8019191919191919,
          0.8118181818181818,
          0.8217171717171717,
          0.8316161616161616,
          0.8415151515151514,
          0.8514141414141414,
          0.8613131313131313,
          0.8712121212121212,
          0.8811111111111111,
          0.891010101010101,
          0.9009090909090909,
          0.9108080808080807,
          0.9207070707070707,
          0.9306060606060605,
          0.9405050505050505,
          0.9504040404040404,
          0.9603030303030302,
          0.9702020202020202,
          0.98010101010101,
          0.99
         ],
         "y": [
          -0.026303018113285948,
          -0.016973530705665762,
          -0.01962095992262869,
          -0.003654524905048806,
          -0.029594608661630106,
          -0.0019550988478096443,
          -0.007300705362215387,
          -0.003324730726552483,
          -0.006915399051282245,
          -0.009093646236663755,
          0.01245851874199766,
          0.026545543133582816,
          0.04397013425381613,
          0.04564149078485036,
          0.04470844934586782,
          0.04993999472314459,
          0.05098274463158936,
          0.060452057518836755,
          0.07226437976070743,
          0.07471969808226286,
          0.07977697193375388,
          0.08639327077217496,
          0.08885447251506418,
          0.09301735130501598,
          0.09631975264465209,
          0.09912982366863354,
          0.10392097255946797,
          0.11380029351019227,
          0.11289603807713305,
          0.12049263921946612,
          0.12322489326532582,
          0.12054118324161645,
          0.11982654669266168,
          0.1158595888737744,
          0.12560304349689028,
          0.12658136909497636,
          0.12865538194841752,
          0.12781058266099016,
          0.1256364354610787,
          0.1254613577140474,
          0.12984967924990878,
          0.13215967938659656,
          0.13046363149906892,
          0.13233257306691254,
          0.13360143703203792,
          0.12969505522711883,
          0.12998445391805027,
          0.13281084545669658,
          0.13136633310753654,
          0.1257698137881516,
          0.12342940536896009,
          0.12721620497504127,
          0.11721465473759389,
          0.12215560910173055,
          0.11467964308057299,
          0.11307560958113091,
          0.11441670031271126,
          0.11135656744807271,
          0.1129535225875298,
          0.11683205568727559,
          0.11945235915383146,
          0.11850931254504082,
          0.12260548906262175,
          0.1255841028552464,
          0.12850533703132377,
          0.13111662813604386,
          0.13475043722703145,
          0.13553303211188322,
          0.13876036785626822,
          0.1374719522437109,
          0.13833966850343316,
          0.1385745313260004,
          0.13767800016347154,
          0.13735973927261214,
          0.13620693029627817,
          0.1360859306511416,
          0.13469639081710394,
          0.13148501242590838,
          0.1318171703054517,
          0.14083768543388153,
          0.1416720417419346,
          0.14771392745357304,
          0.15577538133323876,
          0.15615394357611112,
          0.1499005868195975,
          0.15523721108787858,
          0.14890917617478627,
          0.15244547025072008,
          0.17403491015103567,
          0.16858126647953497,
          0.1723242422006237,
          0.1773357506031248,
          0.1648943533225209,
          0.18403345836209128,
          0.19125328125350616,
          0.18401143889585314,
          0.1848609013753586,
          0.20413045620973325,
          0.23267583921105794,
          0.2743218576217612
         ],
         "type": "scatter",
         "customdata": [
          [
           0.01,
           0.6948,
           -0.026303018113285948,
           -0.11848743583908705,
           0.08162305914648194,
           "False",
           0.10792607725976788,
           0.0921844177258011
          ],
          [
           0.0198989898989899,
           0.6988,
           -0.016973530705665762,
           -0.09155965193488934,
           0.06957883913628113,
           "False",
           0.08655236984194689,
           0.07458612122922358
          ],
          [
           0.029797979797979796,
           0.5336,
           -0.01962095992262869,
           -0.0917504448565547,
           0.051335459170190445,
           "False",
           0.07095641909281913,
           0.07212948493392601
          ],
          [
           0.039696969696969696,
           0.9554,
           -0.003654524905048806,
           -0.07227131329884301,
           0.06804544101358775,
           "False",
           0.07169996591863656,
           0.0686167883937942
          ],
          [
           0.049595959595959596,
           0.3536,
           -0.029594608661630106,
           -0.08230885107707402,
           0.036693804281118916,
           "False",
           0.06628841294274902,
           0.05271424241544391
          ],
          [
           0.059494949494949496,
           0.9418,
           -0.0019550988478096443,
           -0.06307491812855733,
           0.049334527116889584,
           "False",
           0.05128962596469923,
           0.06111981928074768
          ],
          [
           0.06939393939393938,
           0.782,
           -0.007300705362215387,
           -0.05498856516034299,
           0.04131241541360086,
           "False",
           0.04861312077581625,
           0.047687859798127605
          ],
          [
           0.07929292929292929,
           0.8892,
           -0.003324730726552483,
           -0.06506110406251578,
           0.05193524542186537,
           "False",
           0.05525997614841785,
           0.061736373335963296
          ],
          [
           0.08919191919191918,
           0.7084,
           -0.006915399051282245,
           -0.05287887265962137,
           0.037016285732443734,
           "False",
           0.04393168478372598,
           0.04596347360833913
          ],
          [
           0.09909090909090908,
           0.8764,
           -0.009093646236663755,
           -0.0532920463246083,
           0.05036069091768734,
           "False",
           0.0594543371543511,
           0.044198400087944546
          ],
          [
           0.10898989898989898,
           0.5652,
           0.01245851874199766,
           -0.03190557183778897,
           0.05669670365979052,
           "False",
           0.04423818491779286,
           0.04436409057978663
          ],
          [
           0.11888888888888888,
           0.313,
           0.026545543133582816,
           -0.02270987859800391,
           0.07894334497274806,
           "False",
           0.052397801839165245,
           0.04925542173158673
          ],
          [
           0.12878787878787878,
           0.0712,
           0.04397013425381613,
           -0.003618449169494269,
           0.08854452769286697,
           "False",
           0.04457439343905084,
           0.0475885834233104
          ],
          [
           0.1386868686868687,
           0.026,
           0.04564149078485036,
           0.005720612534626162,
           0.08429536849607389,
           "True",
           0.03865387771122353,
           0.039920878250224195
          ],
          [
           0.1485858585858586,
           0.0192,
           0.04470844934586782,
           0.007023434117305417,
           0.08801708536150604,
           "True",
           0.043308636015638224,
           0.0376850152285624
          ],
          [
           0.15848484848484848,
           0.021,
           0.04993999472314459,
           0.007549136567776909,
           0.09072509830240473,
           "True",
           0.04078510357926014,
           0.04239085815536768
          ],
          [
           0.16838383838383839,
           0.0114,
           0.05098274463158936,
           0.011403084882719721,
           0.09650360331686858,
           "True",
           0.04552085868527922,
           0.039579659748869636
          ],
          [
           0.1782828282828283,
           0.0036,
           0.060452057518836755,
           0.021303942607016603,
           0.1053552129468392,
           "True",
           0.04490315542800244,
           0.03914811491182015
          ],
          [
           0.18818181818181817,
           0.0022,
           0.07226437976070743,
           0.025776345273135055,
           0.11538116434953713,
           "True",
           0.0431167845888297,
           0.046488034487572376
          ],
          [
           0.19808080808080808,
           4.0E-4,
           0.07471969808226286,
           0.03467356260930955,
           0.11162908168511161,
           "True",
           0.03690938360284875,
           0.04004613547295331
          ],
          [
           0.207979797979798,
           0.0,
           0.07977697193375388,
           0.038593490226945734,
           0.1180452814545136,
           "True",
           0.038268309520759713,
           0.04118348170680815
          ],
          [
           0.21787878787878787,
           2.0E-4,
           0.08639327077217496,
           0.04349368570960448,
           0.12601905629973517,
           "True",
           0.039625785527560214,
           0.04289958506257048
          ],
          [
           0.22777777777777777,
           0.0,
           0.08885447251506418,
           0.04558906844296197,
           0.12945706092000797,
           "True",
           0.040602588404943796,
           0.043265404072102207
          ],
          [
           0.23767676767676768,
           0.0,
           0.09301735130501598,
           0.050931741301253664,
           0.13228128302148903,
           "True",
           0.03926393171647305,
           0.04208561000376232
          ],
          [
           0.24757575757575756,
           0.0,
           0.09631975264465209,
           0.0548580236201362,
           0.13640525927832906,
           "True",
           0.040085506633676965,
           0.04146172902451589
          ],
          [
           0.25747474747474747,
           0.0,
           0.09912982366863354,
           0.057594714116893805,
           0.14025249952988128,
           "True",
           0.04112267586124774,
           0.04153510955173974
          ],
          [
           0.2673737373737374,
           0.0,
           0.10392097255946797,
           0.06796198074717466,
           0.1423368562961013,
           "True",
           0.03841588373663332,
           0.03595899181229331
          ],
          [
           0.2772727272727273,
           0.0,
           0.11380029351019227,
           0.07083542648697395,
           0.15225184152763216,
           "True",
           0.038451548017439885,
           0.04296486702321832
          ],
          [
           0.2871717171717172,
           0.0,
           0.11289603807713305,
           0.0785314409843496,
           0.15558951436701493,
           "True",
           0.042693476289881876,
           0.03436459709278346
          ],
          [
           0.29707070707070704,
           0.0,
           0.12049263921946612,
           0.07966298149871813,
           0.16256549519829738,
           "True",
           0.04207285597883126,
           0.040829657720747994
          ],
          [
           0.30696969696969695,
           0.0,
           0.12322489326532582,
           0.08214704342943423,
           0.16263030240253962,
           "True",
           0.0394054091372138,
           0.04107784983589159
          ],
          [
           0.31686868686868686,
           0.0,
           0.12054118324161645,
           0.08374258549392682,
           0.15858972544065053,
           "True",
           0.038048542199034086,
           0.03679859774768962
          ],
          [
           0.32676767676767676,
           0.0,
           0.11982654669266168,
           0.0780854935371368,
           0.15856738234274997,
           "True",
           0.03874083565008829,
           0.041741053155524885
          ],
          [
           0.33666666666666667,
           0.0,
           0.1158595888737744,
           0.08540743061046235,
           0.15478509779999605,
           "True",
           0.03892550892622165,
           0.030452158263312046
          ],
          [
           0.3465656565656566,
           0.0,
           0.12560304349689028,
           0.08725505584229584,
           0.15657465575677607,
           "True",
           0.03097161225988579,
           0.038347987654594434
          ],
          [
           0.3564646464646465,
           0.0,
           0.12658136909497636,
           0.09220521962801759,
           0.16187943885664144,
           "True",
           0.03529806976166508,
           0.03437614946695877
          ],
          [
           0.36636363636363634,
           0.0,
           0.12865538194841752,
           0.09246819630275149,
           0.1631719600018407,
           "True",
           0.034516578053423175,
           0.03618718564566603
          ],
          [
           0.37626262626262624,
           0.0,
           0.12781058266099016,
           0.09121839657538604,
           0.16177080631465826,
           "True",
           0.033960223653668103,
           0.03659218608560412
          ],
          [
           0.38616161616161615,
           0.0,
           0.1256364354610787,
           0.08936701056647599,
           0.1617982306400865,
           "True",
           0.036161795179007805,
           0.036269424894602706
          ],
          [
           0.39606060606060606,
           0.0,
           0.1254613577140474,
           0.091490580324345,
           0.16129379079322806,
           "True",
           0.03583243307918066,
           0.0339707773897024
          ],
          [
           0.40595959595959596,
           0.0,
           0.12984967924990878,
           0.09278120531579068,
           0.1655217253713626,
           "True",
           0.035672046121453804,
           0.03706847393411811
          ],
          [
           0.41585858585858587,
           0.0,
           0.13215967938659656,
           0.09517213565207347,
           0.16618853809972764,
           "True",
           0.03402885871313108,
           0.03698754373452309
          ],
          [
           0.4257575757575757,
           0.0,
           0.13046363149906892,
           0.09270174120176013,
           0.16897862083819504,
           "True",
           0.038514989339126116,
           0.037761890297308795
          ],
          [
           0.43565656565656563,
           0.0,
           0.13233257306691254,
           0.09358385906638898,
           0.16712154390446832,
           "True",
           0.03478897083755578,
           0.03874871400052356
          ],
          [
           0.44555555555555554,
           0.0,
           0.13360143703203792,
           0.09679012428798582,
           0.1678665083438774,
           "True",
           0.03426507131183948,
           0.036811312744052097
          ],
          [
           0.45545454545454545,
           0.0,
           0.12969505522711883,
           0.09731713929992428,
           0.16532884030066183,
           "True",
           0.035633785073543006,
           0.03237791592719455
          ],
          [
           0.46535353535353535,
           0.0,
           0.12998445391805027,
           0.09717492697838048,
           0.16648499163337685,
           "True",
           0.036500537715326575,
           0.03280952693966979
          ],
          [
           0.47525252525252526,
           0.0,
           0.13281084545669658,
           0.09568154173985846,
           0.16901075631087614,
           "True",
           0.03619991085417956,
           0.03712930371683812
          ],
          [
           0.4851515151515151,
           0.0,
           0.13136633310753654,
           0.09292462421317903,
           0.166154839882682,
           "True",
           0.03478850677514547,
           0.03844170889435751
          ],
          [
           0.495050505050505,
           0.0,
           0.1257698137881516,
           0.09234421119032646,
           0.16234059949039056,
           "True",
           0.036570785702238956,
           0.03342560259782515
          ],
          [
           0.5049494949494949,
           0.0,
           0.12342940536896009,
           0.09147455402188542,
           0.15898606039485327,
           "True",
           0.03555665502589318,
           0.03195485134707467
          ],
          [
           0.5148484848484849,
           0.0,
           0.12721620497504127,
           0.08691278295000152,
           0.1589735470550451,
           "True",
           0.03175734208000383,
           0.04030342202503975
          ],
          [
           0.5247474747474747,
           0.0,
           0.11721465473759389,
           0.08455421417438343,
           0.15972433692951998,
           "True",
           0.04250968219192609,
           0.03266044056321046
          ],
          [
           0.5346464646464646,
           0.0,
           0.12215560910173055,
           0.08184287594921756,
           0.1544775011452511,
           "True",
           0.03232189204352055,
           0.04031273315251299
          ],
          [
           0.5445454545454546,
           0.0,
           0.11467964308057299,
           0.07804345165186445,
           0.15681537579098911,
           "True",
           0.042135732710416124,
           0.03663619142870854
          ],
          [
           0.5544444444444444,
           0.0,
           0.11307560958113091,
           0.0758669494520613,
           0.15314906492600056,
           "True",
           0.04007345534486964,
           0.03720866012906962
          ],
          [
           0.5643434343434344,
           0.0,
           0.11441670031271126,
           0.07739877566264193,
           0.14733613228977613,
           "True",
           0.03291943197706487,
           0.037017924650069325
          ],
          [
           0.5742424242424242,
           0.0,
           0.11135656744807271,
           0.07848031225005962,
           0.14538089949153524,
           "True",
           0.03402433204346253,
           0.032876255198013085
          ],
          [
           0.5841414141414141,
           0.0,
           0.1129535225875298,
           0.07956363084111756,
           0.14602389730561532,
           "True",
           0.03307037471808552,
           0.03338989174641224
          ],
          [
           0.594040404040404,
           0.0,
           0.11683205568727559,
           0.07823070110252596,
           0.15415761507648795,
           "True",
           0.037325559389212365,
           0.03860135458474963
          ],
          [
           0.6039393939393939,
           0.0,
           0.11945235915383146,
           0.08144695579585916,
           0.15584290446843987,
           "True",
           0.03639054531460842,
           0.0380054033579723
          ],
          [
           0.6138383838383838,
           0.0,
           0.11850931254504082,
           0.0837160946887397,
           0.15755387548247715,
           "True",
           0.03904456293743633,
           0.03479321785630113
          ],
          [
           0.6237373737373737,
           0.0,
           0.12260548906262175,
           0.08405574657700134,
           0.16152390991471083,
           "True",
           0.038918420852089075,
           0.03854974248562042
          ],
          [
           0.6336363636363637,
           0.0,
           0.1255841028552464,
           0.08685968763228932,
           0.16268820655438126,
           "True",
           0.03710410369913486,
           0.03872441522295708
          ],
          [
           0.6435353535353535,
           0.0,
           0.12850533703132377,
           0.09100324278225531,
           0.16538579466321401,
           "True",
           0.03688045763189024,
           0.03750209424906846
          ],
          [
           0.6534343434343434,
           0.0,
           0.13111662813604386,
           0.09406400036893418,
           0.17111636979443523,
           "True",
           0.039999741658391375,
           0.03705262776710967
          ],
          [
           0.6633333333333333,
           0.0,
           0.13475043722703145,
           0.09521666249796569,
           0.17131128754528105,
           "True",
           0.0365608503182496,
           0.03953377472906576
          ],
          [
           0.6732323232323232,
           0.0,
           0.13553303211188322,
           0.09774854863160361,
           0.1740731334718288,
           "True",
           0.03854010135994557,
           0.037784483480279615
          ],
          [
           0.6831313131313131,
           0.0,
           0.13876036785626822,
           0.09905249841734974,
           0.17569449683042077,
           "True",
           0.03693412897415255,
           0.03970786943891848
          ],
          [
           0.693030303030303,
           0.0,
           0.1374719522437109,
           0.10454857423942347,
           0.17283839637071935,
           "True",
           0.035366444127008456,
           0.03292337800428742
          ],
          [
           0.702929292929293,
           0.0,
           0.13833966850343316,
           0.10178432625181952,
           0.174854511741785,
           "True",
           0.03651484323835186,
           0.03655534225161364
          ],
          [
           0.7128282828282828,
           0.0,
           0.1385745313260004,
           0.09866846197818946,
           0.17408750660806543,
           "True",
           0.03551297528206504,
           0.039906069347810935
          ],
          [
           0.7227272727272727,
           0.0,
           0.13767800016347154,
           0.0999802001931761,
           0.17462251795596498,
           "True",
           0.03694451779249344,
           0.03769779997029543
          ],
          [
           0.7326262626262626,
           0.0,
           0.13735973927261214,
           0.10295312390285288,
           0.17526766357617837,
           "True",
           0.03790792430356624,
           0.03440661536975925
          ],
          [
           0.7425252525252525,
           0.0,
           0.13620693029627817,
           0.09856055196000359,
           0.17347212294004954,
           "True",
           0.03726519264377137,
           0.037646378336274586
          ],
          [
           0.7524242424242424,
           0.0,
           0.1360859306511416,
           0.09445699164712262,
           0.17708490051600947,
           "True",
           0.04099896986486787,
           0.04162893900401898
          ],
          [
           0.7623232323232323,
           0.0,
           0.13469639081710394,
           0.09166917626080731,
           0.17503474964340496,
           "True",
           0.04033835882630102,
           0.04302721455629663
          ],
          [
           0.7722222222222221,
           0.0,
           0.13148501242590838,
           0.09196477034529095,
           0.17077226888652125,
           "True",
           0.039287256460612874,
           0.039520242080617426
          ],
          [
           0.7821212121212121,
           0.0,
           0.1318171703054517,
           0.09535014632531968,
           0.1737973058466599,
           "True",
           0.04198013554120819,
           0.03646702398013202
          ],
          [
           0.792020202020202,
           0.0,
           0.14083768543388153,
           0.09926436927575533,
           0.18116661546518786,
           "True",
           0.04032893003130633,
           0.041573316158126206
          ],
          [
           0.8019191919191919,
           0.0,
           0.1416720417419346,
           0.10535710925532134,
           0.18271458824522593,
           "True",
           0.04104254650329134,
           0.03631493248661326
          ],
          [
           0.8118181818181818,
           0.0,
           0.14771392745357304,
           0.1048406191830853,
           0.1907445864818292,
           "True",
           0.043030659028256174,
           0.04287330827048773
          ],
          [
           0.8217171717171717,
           0.0,
           0.15577538133323876,
           0.10985331177939058,
           0.19523679898984667,
           "True",
           0.039461417656607906,
           0.045922069553848185
          ],
          [
           0.8316161616161616,
           0.0,
           0.15615394357611112,
           0.11270178729566185,
           0.19580045518558212,
           "True",
           0.039646511609471,
           0.04345215628044927
          ],
          [
           0.8415151515151514,
           0.0,
           0.1499005868195975,
           0.10788105170294134,
           0.1989587881340993,
           "True",
           0.04905820131450181,
           0.04201953511665617
          ],
          [
           0.8514141414141414,
           0.0,
           0.15523721108787858,
           0.10678037041115564,
           0.1988128946171094,
           "True",
           0.04357568352923083,
           0.04845684067672294
          ],
          [
           0.8613131313131313,
           0.0,
           0.14890917617478627,
           0.10860450754025691,
           0.19587980371247338,
           "True",
           0.046970627537687104,
           0.04030466863452936
          ],
          [
           0.8712121212121212,
           0.0,
           0.15244547025072008,
           0.11236065581837705,
           0.2045158508659721,
           "True",
           0.052070380615252015,
           0.04008481443234303
          ],
          [
           0.8811111111111111,
           0.0,
           0.17403491015103567,
           0.12513137603067323,
           0.21330506609722333,
           "True",
           0.03927015594618766,
           0.04890353412036244
          ],
          [
           0.891010101010101,
           0.0,
           0.16858126647953497,
           0.12492944067494678,
           0.21458718659793463,
           "True",
           0.04600592011839966,
           0.04365182580458819
          ],
          [
           0.9009090909090909,
           0.0,
           0.1723242422006237,
           0.1278678515144243,
           0.21554270498794992,
           "True",
           0.04321846278732622,
           0.04445639068619939
          ],
          [
           0.9108080808080807,
           0.0,
           0.1773357506031248,
           0.12935800680331405,
           0.21791262052966592,
           "True",
           0.04057686992654114,
           0.047977743799810735
          ],
          [
           0.9207070707070707,
           0.0,
           0.1648943533225209,
           0.12125048204992898,
           0.21578679915549748,
           "True",
           0.050892445832976585,
           0.04364387127259191
          ],
          [
           0.9306060606060605,
           0.0,
           0.18403345836209128,
           0.1269099810824699,
           0.2329297796823071,
           "True",
           0.04889632132021582,
           0.05712347727962139
          ],
          [
           0.9405050505050505,
           0.0,
           0.19125328125350616,
           0.1312299572651696,
           0.2503769570381735,
           "True",
           0.05912367578466732,
           0.06002332398833657
          ],
          [
           0.9504040404040404,
           0.0,
           0.18401143889585314,
           0.12318420149318113,
           0.24412226317553642,
           "True",
           0.060110824279683284,
           0.06082723740267201
          ],
          [
           0.9603030303030302,
           0.0,
           0.1848609013753586,
           0.11569956422619855,
           0.24523154525201327,
           "True",
           0.06037064387665467,
           0.06916133714916005
          ],
          [
           0.9702020202020202,
           0.0,
           0.20413045620973325,
           0.1223060974567689,
           0.2740544732686706,
           "True",
           0.06992401705893736,
           0.08182435875296434
          ],
          [
           0.98010101010101,
           0.0,
           0.23267583921105794,
           0.13828756415796167,
           0.31083985141978726,
           "True",
           0.07816401220872932,
           0.09438827505309627
          ],
          [
           0.99,
           0.0,
           0.2743218576217612,
           0.17186957443144202,
           0.41386391931899924,
           "True",
           0.13954206169723804,
           0.10245228319031918
          ]
         ],
         "hovertemplate": "Quantile: %{customdata[0]}<br>p_value: %{customdata[1]}<br>Significance: %{customdata[5]}<br>Difference: %{customdata[2]}<br>Lower Bound: %{customdata[3]}<br>Upper Bound: %{customdata[4]}"
        },
        {
         "line": {
          "width": 0
         },
         "marker": {
          "color": "black"
         },
         "mode": "lines",
         "name": "Quantile Information",
         "showlegend": false,
         "x": [
          0.01,
          0.0198989898989899,
          0.029797979797979796,
          0.039696969696969696,
          0.049595959595959596,
          0.059494949494949496,
          0.06939393939393938,
          0.07929292929292929,
          0.08919191919191918,
          0.09909090909090908,
          0.10898989898989898,
          0.11888888888888888,
          0.12878787878787878,
          0.1386868686868687,
          0.1485858585858586,
          0.15848484848484848,
          0.16838383838383839,
          0.1782828282828283,
          0.18818181818181817,
          0.19808080808080808,
          0.207979797979798,
          0.21787878787878787,
          0.22777777777777777,
          0.23767676767676768,
          0.24757575757575756,
          0.25747474747474747,
          0.2673737373737374,
          0.2772727272727273,
          0.2871717171717172,
          0.29707070707070704,
          0.30696969696969695,
          0.31686868686868686,
          0.32676767676767676,
          0.33666666666666667,
          0.3465656565656566,
          0.3564646464646465,
          0.36636363636363634,
          0.37626262626262624,
          0.38616161616161615,
          0.39606060606060606,
          0.40595959595959596,
          0.41585858585858587,
          0.4257575757575757,
          0.43565656565656563,
          0.44555555555555554,
          0.45545454545454545,
          0.46535353535353535,
          0.47525252525252526,
          0.4851515151515151,
          0.495050505050505,
          0.5049494949494949,
          0.5148484848484849,
          0.5247474747474747,
          0.5346464646464646,
          0.5445454545454546,
          0.5544444444444444,
          0.5643434343434344,
          0.5742424242424242,
          0.5841414141414141,
          0.594040404040404,
          0.6039393939393939,
          0.6138383838383838,
          0.6237373737373737,
          0.6336363636363637,
          0.6435353535353535,
          0.6534343434343434,
          0.6633333333333333,
          0.6732323232323232,
          0.6831313131313131,
          0.693030303030303,
          0.702929292929293,
          0.7128282828282828,
          0.7227272727272727,
          0.7326262626262626,
          0.7425252525252525,
          0.7524242424242424,
          0.7623232323232323,
          0.7722222222222221,
          0.7821212121212121,
          0.792020202020202,
          0.8019191919191919,
          0.8118181818181818,
          0.8217171717171717,
          0.8316161616161616,
          0.8415151515151514,
          0.8514141414141414,
          0.8613131313131313,
          0.8712121212121212,
          0.8811111111111111,
          0.891010101010101,
          0.9009090909090909,
          0.9108080808080807,
          0.9207070707070707,
          0.9306060606060605,
          0.9405050505050505,
          0.9504040404040404,
          0.9603030303030302,
          0.9702020202020202,
          0.98010101010101,
          0.99
         ],
         "y": [
          0.08162305914648194,
          0.06957883913628113,
          0.051335459170190445,
          0.06804544101358775,
          0.036693804281118916,
          0.049334527116889584,
          0.04131241541360086,
          0.05193524542186537,
          0.037016285732443734,
          0.05036069091768734,
          0.05669670365979052,
          0.07894334497274806,
          0.08854452769286697,
          0.08429536849607389,
          0.08801708536150604,
          0.09072509830240473,
          0.09650360331686858,
          0.1053552129468392,
          0.11538116434953713,
          0.11162908168511161,
          0.1180452814545136,
          0.12601905629973517,
          0.12945706092000797,
          0.13228128302148903,
          0.13640525927832906,
          0.14025249952988128,
          0.1423368562961013,
          0.15225184152763216,
          0.15558951436701493,
          0.16256549519829738,
          0.16263030240253962,
          0.15858972544065053,
          0.15856738234274997,
          0.15478509779999605,
          0.15657465575677607,
          0.16187943885664144,
          0.1631719600018407,
          0.16177080631465826,
          0.1617982306400865,
          0.16129379079322806,
          0.1655217253713626,
          0.16618853809972764,
          0.16897862083819504,
          0.16712154390446832,
          0.1678665083438774,
          0.16532884030066183,
          0.16648499163337685,
          0.16901075631087614,
          0.166154839882682,
          0.16234059949039056,
          0.15898606039485327,
          0.1589735470550451,
          0.15972433692951998,
          0.1544775011452511,
          0.15681537579098911,
          0.15314906492600056,
          0.14733613228977613,
          0.14538089949153524,
          0.14602389730561532,
          0.15415761507648795,
          0.15584290446843987,
          0.15755387548247715,
          0.16152390991471083,
          0.16268820655438126,
          0.16538579466321401,
          0.17111636979443523,
          0.17131128754528105,
          0.1740731334718288,
          0.17569449683042077,
          0.17283839637071935,
          0.174854511741785,
          0.17408750660806543,
          0.17462251795596498,
          0.17526766357617837,
          0.17347212294004954,
          0.17708490051600947,
          0.17503474964340496,
          0.17077226888652125,
          0.1737973058466599,
          0.18116661546518786,
          0.18271458824522593,
          0.1907445864818292,
          0.19523679898984667,
          0.19580045518558212,
          0.1989587881340993,
          0.1988128946171094,
          0.19587980371247338,
          0.2045158508659721,
          0.21330506609722333,
          0.21458718659793463,
          0.21554270498794992,
          0.21791262052966592,
          0.21578679915549748,
          0.2329297796823071,
          0.2503769570381735,
          0.24412226317553642,
          0.24523154525201327,
          0.2740544732686706,
          0.31083985141978726,
          0.41386391931899924
         ],
         "type": "scatter",
         "customdata": [
          [
           0.01,
           0.6948,
           -0.026303018113285948,
           -0.11848743583908705,
           0.08162305914648194,
           "False",
           0.10792607725976788,
           0.0921844177258011
          ],
          [
           0.0198989898989899,
           0.6988,
           -0.016973530705665762,
           -0.09155965193488934,
           0.06957883913628113,
           "False",
           0.08655236984194689,
           0.07458612122922358
          ],
          [
           0.029797979797979796,
           0.5336,
           -0.01962095992262869,
           -0.0917504448565547,
           0.051335459170190445,
           "False",
           0.07095641909281913,
           0.07212948493392601
          ],
          [
           0.039696969696969696,
           0.9554,
           -0.003654524905048806,
           -0.07227131329884301,
           0.06804544101358775,
           "False",
           0.07169996591863656,
           0.0686167883937942
          ],
          [
           0.049595959595959596,
           0.3536,
           -0.029594608661630106,
           -0.08230885107707402,
           0.036693804281118916,
           "False",
           0.06628841294274902,
           0.05271424241544391
          ],
          [
           0.059494949494949496,
           0.9418,
           -0.0019550988478096443,
           -0.06307491812855733,
           0.049334527116889584,
           "False",
           0.05128962596469923,
           0.06111981928074768
          ],
          [
           0.06939393939393938,
           0.782,
           -0.007300705362215387,
           -0.05498856516034299,
           0.04131241541360086,
           "False",
           0.04861312077581625,
           0.047687859798127605
          ],
          [
           0.07929292929292929,
           0.8892,
           -0.003324730726552483,
           -0.06506110406251578,
           0.05193524542186537,
           "False",
           0.05525997614841785,
           0.061736373335963296
          ],
          [
           0.08919191919191918,
           0.7084,
           -0.006915399051282245,
           -0.05287887265962137,
           0.037016285732443734,
           "False",
           0.04393168478372598,
           0.04596347360833913
          ],
          [
           0.09909090909090908,
           0.8764,
           -0.009093646236663755,
           -0.0532920463246083,
           0.05036069091768734,
           "False",
           0.0594543371543511,
           0.044198400087944546
          ],
          [
           0.10898989898989898,
           0.5652,
           0.01245851874199766,
           -0.03190557183778897,
           0.05669670365979052,
           "False",
           0.04423818491779286,
           0.04436409057978663
          ],
          [
           0.11888888888888888,
           0.313,
           0.026545543133582816,
           -0.02270987859800391,
           0.07894334497274806,
           "False",
           0.052397801839165245,
           0.04925542173158673
          ],
          [
           0.12878787878787878,
           0.0712,
           0.04397013425381613,
           -0.003618449169494269,
           0.08854452769286697,
           "False",
           0.04457439343905084,
           0.0475885834233104
          ],
          [
           0.1386868686868687,
           0.026,
           0.04564149078485036,
           0.005720612534626162,
           0.08429536849607389,
           "True",
           0.03865387771122353,
           0.039920878250224195
          ],
          [
           0.1485858585858586,
           0.0192,
           0.04470844934586782,
           0.007023434117305417,
           0.08801708536150604,
           "True",
           0.043308636015638224,
           0.0376850152285624
          ],
          [
           0.15848484848484848,
           0.021,
           0.04993999472314459,
           0.007549136567776909,
           0.09072509830240473,
           "True",
           0.04078510357926014,
           0.04239085815536768
          ],
          [
           0.16838383838383839,
           0.0114,
           0.05098274463158936,
           0.011403084882719721,
           0.09650360331686858,
           "True",
           0.04552085868527922,
           0.039579659748869636
          ],
          [
           0.1782828282828283,
           0.0036,
           0.060452057518836755,
           0.021303942607016603,
           0.1053552129468392,
           "True",
           0.04490315542800244,
           0.03914811491182015
          ],
          [
           0.18818181818181817,
           0.0022,
           0.07226437976070743,
           0.025776345273135055,
           0.11538116434953713,
           "True",
           0.0431167845888297,
           0.046488034487572376
          ],
          [
           0.19808080808080808,
           4.0E-4,
           0.07471969808226286,
           0.03467356260930955,
           0.11162908168511161,
           "True",
           0.03690938360284875,
           0.04004613547295331
          ],
          [
           0.207979797979798,
           0.0,
           0.07977697193375388,
           0.038593490226945734,
           0.1180452814545136,
           "True",
           0.038268309520759713,
           0.04118348170680815
          ],
          [
           0.21787878787878787,
           2.0E-4,
           0.08639327077217496,
           0.04349368570960448,
           0.12601905629973517,
           "True",
           0.039625785527560214,
           0.04289958506257048
          ],
          [
           0.22777777777777777,
           0.0,
           0.08885447251506418,
           0.04558906844296197,
           0.12945706092000797,
           "True",
           0.040602588404943796,
           0.043265404072102207
          ],
          [
           0.23767676767676768,
           0.0,
           0.09301735130501598,
           0.050931741301253664,
           0.13228128302148903,
           "True",
           0.03926393171647305,
           0.04208561000376232
          ],
          [
           0.24757575757575756,
           0.0,
           0.09631975264465209,
           0.0548580236201362,
           0.13640525927832906,
           "True",
           0.040085506633676965,
           0.04146172902451589
          ],
          [
           0.25747474747474747,
           0.0,
           0.09912982366863354,
           0.057594714116893805,
           0.14025249952988128,
           "True",
           0.04112267586124774,
           0.04153510955173974
          ],
          [
           0.2673737373737374,
           0.0,
           0.10392097255946797,
           0.06796198074717466,
           0.1423368562961013,
           "True",
           0.03841588373663332,
           0.03595899181229331
          ],
          [
           0.2772727272727273,
           0.0,
           0.11380029351019227,
           0.07083542648697395,
           0.15225184152763216,
           "True",
           0.038451548017439885,
           0.04296486702321832
          ],
          [
           0.2871717171717172,
           0.0,
           0.11289603807713305,
           0.0785314409843496,
           0.15558951436701493,
           "True",
           0.042693476289881876,
           0.03436459709278346
          ],
          [
           0.29707070707070704,
           0.0,
           0.12049263921946612,
           0.07966298149871813,
           0.16256549519829738,
           "True",
           0.04207285597883126,
           0.040829657720747994
          ],
          [
           0.30696969696969695,
           0.0,
           0.12322489326532582,
           0.08214704342943423,
           0.16263030240253962,
           "True",
           0.0394054091372138,
           0.04107784983589159
          ],
          [
           0.31686868686868686,
           0.0,
           0.12054118324161645,
           0.08374258549392682,
           0.15858972544065053,
           "True",
           0.038048542199034086,
           0.03679859774768962
          ],
          [
           0.32676767676767676,
           0.0,
           0.11982654669266168,
           0.0780854935371368,
           0.15856738234274997,
           "True",
           0.03874083565008829,
           0.041741053155524885
          ],
          [
           0.33666666666666667,
           0.0,
           0.1158595888737744,
           0.08540743061046235,
           0.15478509779999605,
           "True",
           0.03892550892622165,
           0.030452158263312046
          ],
          [
           0.3465656565656566,
           0.0,
           0.12560304349689028,
           0.08725505584229584,
           0.15657465575677607,
           "True",
           0.03097161225988579,
           0.038347987654594434
          ],
          [
           0.3564646464646465,
           0.0,
           0.12658136909497636,
           0.09220521962801759,
           0.16187943885664144,
           "True",
           0.03529806976166508,
           0.03437614946695877
          ],
          [
           0.36636363636363634,
           0.0,
           0.12865538194841752,
           0.09246819630275149,
           0.1631719600018407,
           "True",
           0.034516578053423175,
           0.03618718564566603
          ],
          [
           0.37626262626262624,
           0.0,
           0.12781058266099016,
           0.09121839657538604,
           0.16177080631465826,
           "True",
           0.033960223653668103,
           0.03659218608560412
          ],
          [
           0.38616161616161615,
           0.0,
           0.1256364354610787,
           0.08936701056647599,
           0.1617982306400865,
           "True",
           0.036161795179007805,
           0.036269424894602706
          ],
          [
           0.39606060606060606,
           0.0,
           0.1254613577140474,
           0.091490580324345,
           0.16129379079322806,
           "True",
           0.03583243307918066,
           0.0339707773897024
          ],
          [
           0.40595959595959596,
           0.0,
           0.12984967924990878,
           0.09278120531579068,
           0.1655217253713626,
           "True",
           0.035672046121453804,
           0.03706847393411811
          ],
          [
           0.41585858585858587,
           0.0,
           0.13215967938659656,
           0.09517213565207347,
           0.16618853809972764,
           "True",
           0.03402885871313108,
           0.03698754373452309
          ],
          [
           0.4257575757575757,
           0.0,
           0.13046363149906892,
           0.09270174120176013,
           0.16897862083819504,
           "True",
           0.038514989339126116,
           0.037761890297308795
          ],
          [
           0.43565656565656563,
           0.0,
           0.13233257306691254,
           0.09358385906638898,
           0.16712154390446832,
           "True",
           0.03478897083755578,
           0.03874871400052356
          ],
          [
           0.44555555555555554,
           0.0,
           0.13360143703203792,
           0.09679012428798582,
           0.1678665083438774,
           "True",
           0.03426507131183948,
           0.036811312744052097
          ],
          [
           0.45545454545454545,
           0.0,
           0.12969505522711883,
           0.09731713929992428,
           0.16532884030066183,
           "True",
           0.035633785073543006,
           0.03237791592719455
          ],
          [
           0.46535353535353535,
           0.0,
           0.12998445391805027,
           0.09717492697838048,
           0.16648499163337685,
           "True",
           0.036500537715326575,
           0.03280952693966979
          ],
          [
           0.47525252525252526,
           0.0,
           0.13281084545669658,
           0.09568154173985846,
           0.16901075631087614,
           "True",
           0.03619991085417956,
           0.03712930371683812
          ],
          [
           0.4851515151515151,
           0.0,
           0.13136633310753654,
           0.09292462421317903,
           0.166154839882682,
           "True",
           0.03478850677514547,
           0.03844170889435751
          ],
          [
           0.495050505050505,
           0.0,
           0.1257698137881516,
           0.09234421119032646,
           0.16234059949039056,
           "True",
           0.036570785702238956,
           0.03342560259782515
          ],
          [
           0.5049494949494949,
           0.0,
           0.12342940536896009,
           0.09147455402188542,
           0.15898606039485327,
           "True",
           0.03555665502589318,
           0.03195485134707467
          ],
          [
           0.5148484848484849,
           0.0,
           0.12721620497504127,
           0.08691278295000152,
           0.1589735470550451,
           "True",
           0.03175734208000383,
           0.04030342202503975
          ],
          [
           0.5247474747474747,
           0.0,
           0.11721465473759389,
           0.08455421417438343,
           0.15972433692951998,
           "True",
           0.04250968219192609,
           0.03266044056321046
          ],
          [
           0.5346464646464646,
           0.0,
           0.12215560910173055,
           0.08184287594921756,
           0.1544775011452511,
           "True",
           0.03232189204352055,
           0.04031273315251299
          ],
          [
           0.5445454545454546,
           0.0,
           0.11467964308057299,
           0.07804345165186445,
           0.15681537579098911,
           "True",
           0.042135732710416124,
           0.03663619142870854
          ],
          [
           0.5544444444444444,
           0.0,
           0.11307560958113091,
           0.0758669494520613,
           0.15314906492600056,
           "True",
           0.04007345534486964,
           0.03720866012906962
          ],
          [
           0.5643434343434344,
           0.0,
           0.11441670031271126,
           0.07739877566264193,
           0.14733613228977613,
           "True",
           0.03291943197706487,
           0.037017924650069325
          ],
          [
           0.5742424242424242,
           0.0,
           0.11135656744807271,
           0.07848031225005962,
           0.14538089949153524,
           "True",
           0.03402433204346253,
           0.032876255198013085
          ],
          [
           0.5841414141414141,
           0.0,
           0.1129535225875298,
           0.07956363084111756,
           0.14602389730561532,
           "True",
           0.03307037471808552,
           0.03338989174641224
          ],
          [
           0.594040404040404,
           0.0,
           0.11683205568727559,
           0.07823070110252596,
           0.15415761507648795,
           "True",
           0.037325559389212365,
           0.03860135458474963
          ],
          [
           0.6039393939393939,
           0.0,
           0.11945235915383146,
           0.08144695579585916,
           0.15584290446843987,
           "True",
           0.03639054531460842,
           0.0380054033579723
          ],
          [
           0.6138383838383838,
           0.0,
           0.11850931254504082,
           0.0837160946887397,
           0.15755387548247715,
           "True",
           0.03904456293743633,
           0.03479321785630113
          ],
          [
           0.6237373737373737,
           0.0,
           0.12260548906262175,
           0.08405574657700134,
           0.16152390991471083,
           "True",
           0.038918420852089075,
           0.03854974248562042
          ],
          [
           0.6336363636363637,
           0.0,
           0.1255841028552464,
           0.08685968763228932,
           0.16268820655438126,
           "True",
           0.03710410369913486,
           0.03872441522295708
          ],
          [
           0.6435353535353535,
           0.0,
           0.12850533703132377,
           0.09100324278225531,
           0.16538579466321401,
           "True",
           0.03688045763189024,
           0.03750209424906846
          ],
          [
           0.6534343434343434,
           0.0,
           0.13111662813604386,
           0.09406400036893418,
           0.17111636979443523,
           "True",
           0.039999741658391375,
           0.03705262776710967
          ],
          [
           0.6633333333333333,
           0.0,
           0.13475043722703145,
           0.09521666249796569,
           0.17131128754528105,
           "True",
           0.0365608503182496,
           0.03953377472906576
          ],
          [
           0.6732323232323232,
           0.0,
           0.13553303211188322,
           0.09774854863160361,
           0.1740731334718288,
           "True",
           0.03854010135994557,
           0.037784483480279615
          ],
          [
           0.6831313131313131,
           0.0,
           0.13876036785626822,
           0.09905249841734974,
           0.17569449683042077,
           "True",
           0.03693412897415255,
           0.03970786943891848
          ],
          [
           0.693030303030303,
           0.0,
           0.1374719522437109,
           0.10454857423942347,
           0.17283839637071935,
           "True",
           0.035366444127008456,
           0.03292337800428742
          ],
          [
           0.702929292929293,
           0.0,
           0.13833966850343316,
           0.10178432625181952,
           0.174854511741785,
           "True",
           0.03651484323835186,
           0.03655534225161364
          ],
          [
           0.7128282828282828,
           0.0,
           0.1385745313260004,
           0.09866846197818946,
           0.17408750660806543,
           "True",
           0.03551297528206504,
           0.039906069347810935
          ],
          [
           0.7227272727272727,
           0.0,
           0.13767800016347154,
           0.0999802001931761,
           0.17462251795596498,
           "True",
           0.03694451779249344,
           0.03769779997029543
          ],
          [
           0.7326262626262626,
           0.0,
           0.13735973927261214,
           0.10295312390285288,
           0.17526766357617837,
           "True",
           0.03790792430356624,
           0.03440661536975925
          ],
          [
           0.7425252525252525,
           0.0,
           0.13620693029627817,
           0.09856055196000359,
           0.17347212294004954,
           "True",
           0.03726519264377137,
           0.037646378336274586
          ],
          [
           0.7524242424242424,
           0.0,
           0.1360859306511416,
           0.09445699164712262,
           0.17708490051600947,
           "True",
           0.04099896986486787,
           0.04162893900401898
          ],
          [
           0.7623232323232323,
           0.0,
           0.13469639081710394,
           0.09166917626080731,
           0.17503474964340496,
           "True",
           0.04033835882630102,
           0.04302721455629663
          ],
          [
           0.7722222222222221,
           0.0,
           0.13148501242590838,
           0.09196477034529095,
           0.17077226888652125,
           "True",
           0.039287256460612874,
           0.039520242080617426
          ],
          [
           0.7821212121212121,
           0.0,
           0.1318171703054517,
           0.09535014632531968,
           0.1737973058466599,
           "True",
           0.04198013554120819,
           0.03646702398013202
          ],
          [
           0.792020202020202,
           0.0,
           0.14083768543388153,
           0.09926436927575533,
           0.18116661546518786,
           "True",
           0.04032893003130633,
           0.041573316158126206
          ],
          [
           0.8019191919191919,
           0.0,
           0.1416720417419346,
           0.10535710925532134,
           0.18271458824522593,
           "True",
           0.04104254650329134,
           0.03631493248661326
          ],
          [
           0.8118181818181818,
           0.0,
           0.14771392745357304,
           0.1048406191830853,
           0.1907445864818292,
           "True",
           0.043030659028256174,
           0.04287330827048773
          ],
          [
           0.8217171717171717,
           0.0,
           0.15577538133323876,
           0.10985331177939058,
           0.19523679898984667,
           "True",
           0.039461417656607906,
           0.045922069553848185
          ],
          [
           0.8316161616161616,
           0.0,
           0.15615394357611112,
           0.11270178729566185,
           0.19580045518558212,
           "True",
           0.039646511609471,
           0.04345215628044927
          ],
          [
           0.8415151515151514,
           0.0,
           0.1499005868195975,
           0.10788105170294134,
           0.1989587881340993,
           "True",
           0.04905820131450181,
           0.04201953511665617
          ],
          [
           0.8514141414141414,
           0.0,
           0.15523721108787858,
           0.10678037041115564,
           0.1988128946171094,
           "True",
           0.04357568352923083,
           0.04845684067672294
          ],
          [
           0.8613131313131313,
           0.0,
           0.14890917617478627,
           0.10860450754025691,
           0.19587980371247338,
           "True",
           0.046970627537687104,
           0.04030466863452936
          ],
          [
           0.8712121212121212,
           0.0,
           0.15244547025072008,
           0.11236065581837705,
           0.2045158508659721,
           "True",
           0.052070380615252015,
           0.04008481443234303
          ],
          [
           0.8811111111111111,
           0.0,
           0.17403491015103567,
           0.12513137603067323,
           0.21330506609722333,
           "True",
           0.03927015594618766,
           0.04890353412036244
          ],
          [
           0.891010101010101,
           0.0,
           0.16858126647953497,
           0.12492944067494678,
           0.21458718659793463,
           "True",
           0.04600592011839966,
           0.04365182580458819
          ],
          [
           0.9009090909090909,
           0.0,
           0.1723242422006237,
           0.1278678515144243,
           0.21554270498794992,
           "True",
           0.04321846278732622,
           0.04445639068619939
          ],
          [
           0.9108080808080807,
           0.0,
           0.1773357506031248,
           0.12935800680331405,
           0.21791262052966592,
           "True",
           0.04057686992654114,
           0.047977743799810735
          ],
          [
           0.9207070707070707,
           0.0,
           0.1648943533225209,
           0.12125048204992898,
           0.21578679915549748,
           "True",
           0.050892445832976585,
           0.04364387127259191
          ],
          [
           0.9306060606060605,
           0.0,
           0.18403345836209128,
           0.1269099810824699,
           0.2329297796823071,
           "True",
           0.04889632132021582,
           0.05712347727962139
          ],
          [
           0.9405050505050505,
           0.0,
           0.19125328125350616,
           0.1312299572651696,
           0.2503769570381735,
           "True",
           0.05912367578466732,
           0.06002332398833657
          ],
          [
           0.9504040404040404,
           0.0,
           0.18401143889585314,
           0.12318420149318113,
           0.24412226317553642,
           "True",
           0.060110824279683284,
           0.06082723740267201
          ],
          [
           0.9603030303030302,
           0.0,
           0.1848609013753586,
           0.11569956422619855,
           0.24523154525201327,
           "True",
           0.06037064387665467,
           0.06916133714916005
          ],
          [
           0.9702020202020202,
           0.0,
           0.20413045620973325,
           0.1223060974567689,
           0.2740544732686706,
           "True",
           0.06992401705893736,
           0.08182435875296434
          ],
          [
           0.98010101010101,
           0.0,
           0.23267583921105794,
           0.13828756415796167,
           0.31083985141978726,
           "True",
           0.07816401220872932,
           0.09438827505309627
          ],
          [
           0.99,
           0.0,
           0.2743218576217612,
           0.17186957443144202,
           0.41386391931899924,
           "True",
           0.13954206169723804,
           0.10245228319031918
          ]
         ],
         "hovertemplate": "Quantile: %{customdata[0]}<br>p_value: %{customdata[1]}<br>Significance: %{customdata[5]}<br>Difference: %{customdata[2]}<br>Lower Bound: %{customdata[3]}<br>Upper Bound: %{customdata[4]}"
        },
        {
         "fill": "tonexty",
         "fillcolor": "rgba(68, 68, 68, 0.3)",
         "line": {
          "width": 0
         },
         "marker": {
          "color": "black"
         },
         "mode": "lines",
         "name": "Quantile Information",
         "showlegend": false,
         "x": [
          0.01,
          0.0198989898989899,
          0.029797979797979796,
          0.039696969696969696,
          0.049595959595959596,
          0.059494949494949496,
          0.06939393939393938,
          0.07929292929292929,
          0.08919191919191918,
          0.09909090909090908,
          0.10898989898989898,
          0.11888888888888888,
          0.12878787878787878,
          0.1386868686868687,
          0.1485858585858586,
          0.15848484848484848,
          0.16838383838383839,
          0.1782828282828283,
          0.18818181818181817,
          0.19808080808080808,
          0.207979797979798,
          0.21787878787878787,
          0.22777777777777777,
          0.23767676767676768,
          0.24757575757575756,
          0.25747474747474747,
          0.2673737373737374,
          0.2772727272727273,
          0.2871717171717172,
          0.29707070707070704,
          0.30696969696969695,
          0.31686868686868686,
          0.32676767676767676,
          0.33666666666666667,
          0.3465656565656566,
          0.3564646464646465,
          0.36636363636363634,
          0.37626262626262624,
          0.38616161616161615,
          0.39606060606060606,
          0.40595959595959596,
          0.41585858585858587,
          0.4257575757575757,
          0.43565656565656563,
          0.44555555555555554,
          0.45545454545454545,
          0.46535353535353535,
          0.47525252525252526,
          0.4851515151515151,
          0.495050505050505,
          0.5049494949494949,
          0.5148484848484849,
          0.5247474747474747,
          0.5346464646464646,
          0.5445454545454546,
          0.5544444444444444,
          0.5643434343434344,
          0.5742424242424242,
          0.5841414141414141,
          0.594040404040404,
          0.6039393939393939,
          0.6138383838383838,
          0.6237373737373737,
          0.6336363636363637,
          0.6435353535353535,
          0.6534343434343434,
          0.6633333333333333,
          0.6732323232323232,
          0.6831313131313131,
          0.693030303030303,
          0.702929292929293,
          0.7128282828282828,
          0.7227272727272727,
          0.7326262626262626,
          0.7425252525252525,
          0.7524242424242424,
          0.7623232323232323,
          0.7722222222222221,
          0.7821212121212121,
          0.792020202020202,
          0.8019191919191919,
          0.8118181818181818,
          0.8217171717171717,
          0.8316161616161616,
          0.8415151515151514,
          0.8514141414141414,
          0.8613131313131313,
          0.8712121212121212,
          0.8811111111111111,
          0.891010101010101,
          0.9009090909090909,
          0.9108080808080807,
          0.9207070707070707,
          0.9306060606060605,
          0.9405050505050505,
          0.9504040404040404,
          0.9603030303030302,
          0.9702020202020202,
          0.98010101010101,
          0.99
         ],
         "y": [
          -0.11848743583908705,
          -0.09155965193488934,
          -0.0917504448565547,
          -0.07227131329884301,
          -0.08230885107707402,
          -0.06307491812855733,
          -0.05498856516034299,
          -0.06506110406251578,
          -0.05287887265962137,
          -0.0532920463246083,
          -0.03190557183778897,
          -0.02270987859800391,
          -0.003618449169494269,
          0.005720612534626162,
          0.007023434117305417,
          0.007549136567776909,
          0.011403084882719721,
          0.021303942607016603,
          0.025776345273135055,
          0.03467356260930955,
          0.038593490226945734,
          0.04349368570960448,
          0.04558906844296197,
          0.050931741301253664,
          0.0548580236201362,
          0.057594714116893805,
          0.06796198074717466,
          0.07083542648697395,
          0.0785314409843496,
          0.07966298149871813,
          0.08214704342943423,
          0.08374258549392682,
          0.0780854935371368,
          0.08540743061046235,
          0.08725505584229584,
          0.09220521962801759,
          0.09246819630275149,
          0.09121839657538604,
          0.08936701056647599,
          0.091490580324345,
          0.09278120531579068,
          0.09517213565207347,
          0.09270174120176013,
          0.09358385906638898,
          0.09679012428798582,
          0.09731713929992428,
          0.09717492697838048,
          0.09568154173985846,
          0.09292462421317903,
          0.09234421119032646,
          0.09147455402188542,
          0.08691278295000152,
          0.08455421417438343,
          0.08184287594921756,
          0.07804345165186445,
          0.0758669494520613,
          0.07739877566264193,
          0.07848031225005962,
          0.07956363084111756,
          0.07823070110252596,
          0.08144695579585916,
          0.0837160946887397,
          0.08405574657700134,
          0.08685968763228932,
          0.09100324278225531,
          0.09406400036893418,
          0.09521666249796569,
          0.09774854863160361,
          0.09905249841734974,
          0.10454857423942347,
          0.10178432625181952,
          0.09866846197818946,
          0.0999802001931761,
          0.10295312390285288,
          0.09856055196000359,
          0.09445699164712262,
          0.09166917626080731,
          0.09196477034529095,
          0.09535014632531968,
          0.09926436927575533,
          0.10535710925532134,
          0.1048406191830853,
          0.10985331177939058,
          0.11270178729566185,
          0.10788105170294134,
          0.10678037041115564,
          0.10860450754025691,
          0.11236065581837705,
          0.12513137603067323,
          0.12492944067494678,
          0.1278678515144243,
          0.12935800680331405,
          0.12125048204992898,
          0.1269099810824699,
          0.1312299572651696,
          0.12318420149318113,
          0.11569956422619855,
          0.1223060974567689,
          0.13828756415796167,
          0.17186957443144202
         ],
         "type": "scatter",
         "customdata": [
          [
           0.01,
           0.6948,
           -0.026303018113285948,
           -0.11848743583908705,
           0.08162305914648194,
           "False",
           0.10792607725976788,
           0.0921844177258011
          ],
          [
           0.0198989898989899,
           0.6988,
           -0.016973530705665762,
           -0.09155965193488934,
           0.06957883913628113,
           "False",
           0.08655236984194689,
           0.07458612122922358
          ],
          [
           0.029797979797979796,
           0.5336,
           -0.01962095992262869,
           -0.0917504448565547,
           0.051335459170190445,
           "False",
           0.07095641909281913,
           0.07212948493392601
          ],
          [
           0.039696969696969696,
           0.9554,
           -0.003654524905048806,
           -0.07227131329884301,
           0.06804544101358775,
           "False",
           0.07169996591863656,
           0.0686167883937942
          ],
          [
           0.049595959595959596,
           0.3536,
           -0.029594608661630106,
           -0.08230885107707402,
           0.036693804281118916,
           "False",
           0.06628841294274902,
           0.05271424241544391
          ],
          [
           0.059494949494949496,
           0.9418,
           -0.0019550988478096443,
           -0.06307491812855733,
           0.049334527116889584,
           "False",
           0.05128962596469923,
           0.06111981928074768
          ],
          [
           0.06939393939393938,
           0.782,
           -0.007300705362215387,
           -0.05498856516034299,
           0.04131241541360086,
           "False",
           0.04861312077581625,
           0.047687859798127605
          ],
          [
           0.07929292929292929,
           0.8892,
           -0.003324730726552483,
           -0.06506110406251578,
           0.05193524542186537,
           "False",
           0.05525997614841785,
           0.061736373335963296
          ],
          [
           0.08919191919191918,
           0.7084,
           -0.006915399051282245,
           -0.05287887265962137,
           0.037016285732443734,
           "False",
           0.04393168478372598,
           0.04596347360833913
          ],
          [
           0.09909090909090908,
           0.8764,
           -0.009093646236663755,
           -0.0532920463246083,
           0.05036069091768734,
           "False",
           0.0594543371543511,
           0.044198400087944546
          ],
          [
           0.10898989898989898,
           0.5652,
           0.01245851874199766,
           -0.03190557183778897,
           0.05669670365979052,
           "False",
           0.04423818491779286,
           0.04436409057978663
          ],
          [
           0.11888888888888888,
           0.313,
           0.026545543133582816,
           -0.02270987859800391,
           0.07894334497274806,
           "False",
           0.052397801839165245,
           0.04925542173158673
          ],
          [
           0.12878787878787878,
           0.0712,
           0.04397013425381613,
           -0.003618449169494269,
           0.08854452769286697,
           "False",
           0.04457439343905084,
           0.0475885834233104
          ],
          [
           0.1386868686868687,
           0.026,
           0.04564149078485036,
           0.005720612534626162,
           0.08429536849607389,
           "True",
           0.03865387771122353,
           0.039920878250224195
          ],
          [
           0.1485858585858586,
           0.0192,
           0.04470844934586782,
           0.007023434117305417,
           0.08801708536150604,
           "True",
           0.043308636015638224,
           0.0376850152285624
          ],
          [
           0.15848484848484848,
           0.021,
           0.04993999472314459,
           0.007549136567776909,
           0.09072509830240473,
           "True",
           0.04078510357926014,
           0.04239085815536768
          ],
          [
           0.16838383838383839,
           0.0114,
           0.05098274463158936,
           0.011403084882719721,
           0.09650360331686858,
           "True",
           0.04552085868527922,
           0.039579659748869636
          ],
          [
           0.1782828282828283,
           0.0036,
           0.060452057518836755,
           0.021303942607016603,
           0.1053552129468392,
           "True",
           0.04490315542800244,
           0.03914811491182015
          ],
          [
           0.18818181818181817,
           0.0022,
           0.07226437976070743,
           0.025776345273135055,
           0.11538116434953713,
           "True",
           0.0431167845888297,
           0.046488034487572376
          ],
          [
           0.19808080808080808,
           4.0E-4,
           0.07471969808226286,
           0.03467356260930955,
           0.11162908168511161,
           "True",
           0.03690938360284875,
           0.04004613547295331
          ],
          [
           0.207979797979798,
           0.0,
           0.07977697193375388,
           0.038593490226945734,
           0.1180452814545136,
           "True",
           0.038268309520759713,
           0.04118348170680815
          ],
          [
           0.21787878787878787,
           2.0E-4,
           0.08639327077217496,
           0.04349368570960448,
           0.12601905629973517,
           "True",
           0.039625785527560214,
           0.04289958506257048
          ],
          [
           0.22777777777777777,
           0.0,
           0.08885447251506418,
           0.04558906844296197,
           0.12945706092000797,
           "True",
           0.040602588404943796,
           0.043265404072102207
          ],
          [
           0.23767676767676768,
           0.0,
           0.09301735130501598,
           0.050931741301253664,
           0.13228128302148903,
           "True",
           0.03926393171647305,
           0.04208561000376232
          ],
          [
           0.24757575757575756,
           0.0,
           0.09631975264465209,
           0.0548580236201362,
           0.13640525927832906,
           "True",
           0.040085506633676965,
           0.04146172902451589
          ],
          [
           0.25747474747474747,
           0.0,
           0.09912982366863354,
           0.057594714116893805,
           0.14025249952988128,
           "True",
           0.04112267586124774,
           0.04153510955173974
          ],
          [
           0.2673737373737374,
           0.0,
           0.10392097255946797,
           0.06796198074717466,
           0.1423368562961013,
           "True",
           0.03841588373663332,
           0.03595899181229331
          ],
          [
           0.2772727272727273,
           0.0,
           0.11380029351019227,
           0.07083542648697395,
           0.15225184152763216,
           "True",
           0.038451548017439885,
           0.04296486702321832
          ],
          [
           0.2871717171717172,
           0.0,
           0.11289603807713305,
           0.0785314409843496,
           0.15558951436701493,
           "True",
           0.042693476289881876,
           0.03436459709278346
          ],
          [
           0.29707070707070704,
           0.0,
           0.12049263921946612,
           0.07966298149871813,
           0.16256549519829738,
           "True",
           0.04207285597883126,
           0.040829657720747994
          ],
          [
           0.30696969696969695,
           0.0,
           0.12322489326532582,
           0.08214704342943423,
           0.16263030240253962,
           "True",
           0.0394054091372138,
           0.04107784983589159
          ],
          [
           0.31686868686868686,
           0.0,
           0.12054118324161645,
           0.08374258549392682,
           0.15858972544065053,
           "True",
           0.038048542199034086,
           0.03679859774768962
          ],
          [
           0.32676767676767676,
           0.0,
           0.11982654669266168,
           0.0780854935371368,
           0.15856738234274997,
           "True",
           0.03874083565008829,
           0.041741053155524885
          ],
          [
           0.33666666666666667,
           0.0,
           0.1158595888737744,
           0.08540743061046235,
           0.15478509779999605,
           "True",
           0.03892550892622165,
           0.030452158263312046
          ],
          [
           0.3465656565656566,
           0.0,
           0.12560304349689028,
           0.08725505584229584,
           0.15657465575677607,
           "True",
           0.03097161225988579,
           0.038347987654594434
          ],
          [
           0.3564646464646465,
           0.0,
           0.12658136909497636,
           0.09220521962801759,
           0.16187943885664144,
           "True",
           0.03529806976166508,
           0.03437614946695877
          ],
          [
           0.36636363636363634,
           0.0,
           0.12865538194841752,
           0.09246819630275149,
           0.1631719600018407,
           "True",
           0.034516578053423175,
           0.03618718564566603
          ],
          [
           0.37626262626262624,
           0.0,
           0.12781058266099016,
           0.09121839657538604,
           0.16177080631465826,
           "True",
           0.033960223653668103,
           0.03659218608560412
          ],
          [
           0.38616161616161615,
           0.0,
           0.1256364354610787,
           0.08936701056647599,
           0.1617982306400865,
           "True",
           0.036161795179007805,
           0.036269424894602706
          ],
          [
           0.39606060606060606,
           0.0,
           0.1254613577140474,
           0.091490580324345,
           0.16129379079322806,
           "True",
           0.03583243307918066,
           0.0339707773897024
          ],
          [
           0.40595959595959596,
           0.0,
           0.12984967924990878,
           0.09278120531579068,
           0.1655217253713626,
           "True",
           0.035672046121453804,
           0.03706847393411811
          ],
          [
           0.41585858585858587,
           0.0,
           0.13215967938659656,
           0.09517213565207347,
           0.16618853809972764,
           "True",
           0.03402885871313108,
           0.03698754373452309
          ],
          [
           0.4257575757575757,
           0.0,
           0.13046363149906892,
           0.09270174120176013,
           0.16897862083819504,
           "True",
           0.038514989339126116,
           0.037761890297308795
          ],
          [
           0.43565656565656563,
           0.0,
           0.13233257306691254,
           0.09358385906638898,
           0.16712154390446832,
           "True",
           0.03478897083755578,
           0.03874871400052356
          ],
          [
           0.44555555555555554,
           0.0,
           0.13360143703203792,
           0.09679012428798582,
           0.1678665083438774,
           "True",
           0.03426507131183948,
           0.036811312744052097
          ],
          [
           0.45545454545454545,
           0.0,
           0.12969505522711883,
           0.09731713929992428,
           0.16532884030066183,
           "True",
           0.035633785073543006,
           0.03237791592719455
          ],
          [
           0.46535353535353535,
           0.0,
           0.12998445391805027,
           0.09717492697838048,
           0.16648499163337685,
           "True",
           0.036500537715326575,
           0.03280952693966979
          ],
          [
           0.47525252525252526,
           0.0,
           0.13281084545669658,
           0.09568154173985846,
           0.16901075631087614,
           "True",
           0.03619991085417956,
           0.03712930371683812
          ],
          [
           0.4851515151515151,
           0.0,
           0.13136633310753654,
           0.09292462421317903,
           0.166154839882682,
           "True",
           0.03478850677514547,
           0.03844170889435751
          ],
          [
           0.495050505050505,
           0.0,
           0.1257698137881516,
           0.09234421119032646,
           0.16234059949039056,
           "True",
           0.036570785702238956,
           0.03342560259782515
          ],
          [
           0.5049494949494949,
           0.0,
           0.12342940536896009,
           0.09147455402188542,
           0.15898606039485327,
           "True",
           0.03555665502589318,
           0.03195485134707467
          ],
          [
           0.5148484848484849,
           0.0,
           0.12721620497504127,
           0.08691278295000152,
           0.1589735470550451,
           "True",
           0.03175734208000383,
           0.04030342202503975
          ],
          [
           0.5247474747474747,
           0.0,
           0.11721465473759389,
           0.08455421417438343,
           0.15972433692951998,
           "True",
           0.04250968219192609,
           0.03266044056321046
          ],
          [
           0.5346464646464646,
           0.0,
           0.12215560910173055,
           0.08184287594921756,
           0.1544775011452511,
           "True",
           0.03232189204352055,
           0.04031273315251299
          ],
          [
           0.5445454545454546,
           0.0,
           0.11467964308057299,
           0.07804345165186445,
           0.15681537579098911,
           "True",
           0.042135732710416124,
           0.03663619142870854
          ],
          [
           0.5544444444444444,
           0.0,
           0.11307560958113091,
           0.0758669494520613,
           0.15314906492600056,
           "True",
           0.04007345534486964,
           0.03720866012906962
          ],
          [
           0.5643434343434344,
           0.0,
           0.11441670031271126,
           0.07739877566264193,
           0.14733613228977613,
           "True",
           0.03291943197706487,
           0.037017924650069325
          ],
          [
           0.5742424242424242,
           0.0,
           0.11135656744807271,
           0.07848031225005962,
           0.14538089949153524,
           "True",
           0.03402433204346253,
           0.032876255198013085
          ],
          [
           0.5841414141414141,
           0.0,
           0.1129535225875298,
           0.07956363084111756,
           0.14602389730561532,
           "True",
           0.03307037471808552,
           0.03338989174641224
          ],
          [
           0.594040404040404,
           0.0,
           0.11683205568727559,
           0.07823070110252596,
           0.15415761507648795,
           "True",
           0.037325559389212365,
           0.03860135458474963
          ],
          [
           0.6039393939393939,
           0.0,
           0.11945235915383146,
           0.08144695579585916,
           0.15584290446843987,
           "True",
           0.03639054531460842,
           0.0380054033579723
          ],
          [
           0.6138383838383838,
           0.0,
           0.11850931254504082,
           0.0837160946887397,
           0.15755387548247715,
           "True",
           0.03904456293743633,
           0.03479321785630113
          ],
          [
           0.6237373737373737,
           0.0,
           0.12260548906262175,
           0.08405574657700134,
           0.16152390991471083,
           "True",
           0.038918420852089075,
           0.03854974248562042
          ],
          [
           0.6336363636363637,
           0.0,
           0.1255841028552464,
           0.08685968763228932,
           0.16268820655438126,
           "True",
           0.03710410369913486,
           0.03872441522295708
          ],
          [
           0.6435353535353535,
           0.0,
           0.12850533703132377,
           0.09100324278225531,
           0.16538579466321401,
           "True",
           0.03688045763189024,
           0.03750209424906846
          ],
          [
           0.6534343434343434,
           0.0,
           0.13111662813604386,
           0.09406400036893418,
           0.17111636979443523,
           "True",
           0.039999741658391375,
           0.03705262776710967
          ],
          [
           0.6633333333333333,
           0.0,
           0.13475043722703145,
           0.09521666249796569,
           0.17131128754528105,
           "True",
           0.0365608503182496,
           0.03953377472906576
          ],
          [
           0.6732323232323232,
           0.0,
           0.13553303211188322,
           0.09774854863160361,
           0.1740731334718288,
           "True",
           0.03854010135994557,
           0.037784483480279615
          ],
          [
           0.6831313131313131,
           0.0,
           0.13876036785626822,
           0.09905249841734974,
           0.17569449683042077,
           "True",
           0.03693412897415255,
           0.03970786943891848
          ],
          [
           0.693030303030303,
           0.0,
           0.1374719522437109,
           0.10454857423942347,
           0.17283839637071935,
           "True",
           0.035366444127008456,
           0.03292337800428742
          ],
          [
           0.702929292929293,
           0.0,
           0.13833966850343316,
           0.10178432625181952,
           0.174854511741785,
           "True",
           0.03651484323835186,
           0.03655534225161364
          ],
          [
           0.7128282828282828,
           0.0,
           0.1385745313260004,
           0.09866846197818946,
           0.17408750660806543,
           "True",
           0.03551297528206504,
           0.039906069347810935
          ],
          [
           0.7227272727272727,
           0.0,
           0.13767800016347154,
           0.0999802001931761,
           0.17462251795596498,
           "True",
           0.03694451779249344,
           0.03769779997029543
          ],
          [
           0.7326262626262626,
           0.0,
           0.13735973927261214,
           0.10295312390285288,
           0.17526766357617837,
           "True",
           0.03790792430356624,
           0.03440661536975925
          ],
          [
           0.7425252525252525,
           0.0,
           0.13620693029627817,
           0.09856055196000359,
           0.17347212294004954,
           "True",
           0.03726519264377137,
           0.037646378336274586
          ],
          [
           0.7524242424242424,
           0.0,
           0.1360859306511416,
           0.09445699164712262,
           0.17708490051600947,
           "True",
           0.04099896986486787,
           0.04162893900401898
          ],
          [
           0.7623232323232323,
           0.0,
           0.13469639081710394,
           0.09166917626080731,
           0.17503474964340496,
           "True",
           0.04033835882630102,
           0.04302721455629663
          ],
          [
           0.7722222222222221,
           0.0,
           0.13148501242590838,
           0.09196477034529095,
           0.17077226888652125,
           "True",
           0.039287256460612874,
           0.039520242080617426
          ],
          [
           0.7821212121212121,
           0.0,
           0.1318171703054517,
           0.09535014632531968,
           0.1737973058466599,
           "True",
           0.04198013554120819,
           0.03646702398013202
          ],
          [
           0.792020202020202,
           0.0,
           0.14083768543388153,
           0.09926436927575533,
           0.18116661546518786,
           "True",
           0.04032893003130633,
           0.041573316158126206
          ],
          [
           0.8019191919191919,
           0.0,
           0.1416720417419346,
           0.10535710925532134,
           0.18271458824522593,
           "True",
           0.04104254650329134,
           0.03631493248661326
          ],
          [
           0.8118181818181818,
           0.0,
           0.14771392745357304,
           0.1048406191830853,
           0.1907445864818292,
           "True",
           0.043030659028256174,
           0.04287330827048773
          ],
          [
           0.8217171717171717,
           0.0,
           0.15577538133323876,
           0.10985331177939058,
           0.19523679898984667,
           "True",
           0.039461417656607906,
           0.045922069553848185
          ],
          [
           0.8316161616161616,
           0.0,
           0.15615394357611112,
           0.11270178729566185,
           0.19580045518558212,
           "True",
           0.039646511609471,
           0.04345215628044927
          ],
          [
           0.8415151515151514,
           0.0,
           0.1499005868195975,
           0.10788105170294134,
           0.1989587881340993,
           "True",
           0.04905820131450181,
           0.04201953511665617
          ],
          [
           0.8514141414141414,
           0.0,
           0.15523721108787858,
           0.10678037041115564,
           0.1988128946171094,
           "True",
           0.04357568352923083,
           0.04845684067672294
          ],
          [
           0.8613131313131313,
           0.0,
           0.14890917617478627,
           0.10860450754025691,
           0.19587980371247338,
           "True",
           0.046970627537687104,
           0.04030466863452936
          ],
          [
           0.8712121212121212,
           0.0,
           0.15244547025072008,
           0.11236065581837705,
           0.2045158508659721,
           "True",
           0.052070380615252015,
           0.04008481443234303
          ],
          [
           0.8811111111111111,
           0.0,
           0.17403491015103567,
           0.12513137603067323,
           0.21330506609722333,
           "True",
           0.03927015594618766,
           0.04890353412036244
          ],
          [
           0.891010101010101,
           0.0,
           0.16858126647953497,
           0.12492944067494678,
           0.21458718659793463,
           "True",
           0.04600592011839966,
           0.04365182580458819
          ],
          [
           0.9009090909090909,
           0.0,
           0.1723242422006237,
           0.1278678515144243,
           0.21554270498794992,
           "True",
           0.04321846278732622,
           0.04445639068619939
          ],
          [
           0.9108080808080807,
           0.0,
           0.1773357506031248,
           0.12935800680331405,
           0.21791262052966592,
           "True",
           0.04057686992654114,
           0.047977743799810735
          ],
          [
           0.9207070707070707,
           0.0,
           0.1648943533225209,
           0.12125048204992898,
           0.21578679915549748,
           "True",
           0.050892445832976585,
           0.04364387127259191
          ],
          [
           0.9306060606060605,
           0.0,
           0.18403345836209128,
           0.1269099810824699,
           0.2329297796823071,
           "True",
           0.04889632132021582,
           0.05712347727962139
          ],
          [
           0.9405050505050505,
           0.0,
           0.19125328125350616,
           0.1312299572651696,
           0.2503769570381735,
           "True",
           0.05912367578466732,
           0.06002332398833657
          ],
          [
           0.9504040404040404,
           0.0,
           0.18401143889585314,
           0.12318420149318113,
           0.24412226317553642,
           "True",
           0.060110824279683284,
           0.06082723740267201
          ],
          [
           0.9603030303030302,
           0.0,
           0.1848609013753586,
           0.11569956422619855,
           0.24523154525201327,
           "True",
           0.06037064387665467,
           0.06916133714916005
          ],
          [
           0.9702020202020202,
           0.0,
           0.20413045620973325,
           0.1223060974567689,
           0.2740544732686706,
           "True",
           0.06992401705893736,
           0.08182435875296434
          ],
          [
           0.98010101010101,
           0.0,
           0.23267583921105794,
           0.13828756415796167,
           0.31083985141978726,
           "True",
           0.07816401220872932,
           0.09438827505309627
          ],
          [
           0.99,
           0.0,
           0.2743218576217612,
           0.17186957443144202,
           0.41386391931899924,
           "True",
           0.13954206169723804,
           0.10245228319031918
          ]
         ],
         "hovertemplate": "Quantile: %{customdata[0]}<br>p_value: %{customdata[1]}<br>Significance: %{customdata[5]}<br>Difference: %{customdata[2]}<br>Lower Bound: %{customdata[3]}<br>Upper Bound: %{customdata[4]}"
        }
       ],
       "layout": {
        "template": {
         "data": {
          "histogram2dcontour": [
           {
            "type": "histogram2dcontour",
            "colorbar": {
             "outlinewidth": 0,
             "ticks": ""
            },
            "colorscale": [
             [
              0.0,
              "#0d0887"
             ],
             [
              0.1111111111111111,
              "#46039f"
             ],
             [
              0.2222222222222222,
              "#7201a8"
             ],
             [
              0.3333333333333333,
              "#9c179e"
             ],
             [
              0.4444444444444444,
              "#bd3786"
             ],
             [
              0.5555555555555556,
              "#d8576b"
             ],
             [
              0.6666666666666666,
              "#ed7953"
             ],
             [
              0.7777777777777778,
              "#fb9f3a"
             ],
             [
              0.8888888888888888,
              "#fdca26"
             ],
             [
              1.0,
              "#f0f921"
             ]
            ]
           }
          ],
          "choropleth": [
           {
            "type": "choropleth",
            "colorbar": {
             "outlinewidth": 0,
             "ticks": ""
            }
           }
          ],
          "histogram2d": [
           {
            "type": "histogram2d",
            "colorbar": {
             "outlinewidth": 0,
             "ticks": ""
            },
            "colorscale": [
             [
              0.0,
              "#0d0887"
             ],
             [
              0.1111111111111111,
              "#46039f"
             ],
             [
              0.2222222222222222,
              "#7201a8"
             ],
             [
              0.3333333333333333,
              "#9c179e"
             ],
             [
              0.4444444444444444,
              "#bd3786"
             ],
             [
              0.5555555555555556,
              "#d8576b"
             ],
             [
              0.6666666666666666,
              "#ed7953"
             ],
             [
              0.7777777777777778,
              "#fb9f3a"
             ],
             [
              0.8888888888888888,
              "#fdca26"
             ],
             [
              1.0,
              "#f0f921"
             ]
            ]
           }
          ],
          "heatmap": [
           {
            "type": "heatmap",
            "colorbar": {
             "outlinewidth": 0,
             "ticks": ""
            },
            "colorscale": [
             [
              0.0,
              "#0d0887"
             ],
             [
              0.1111111111111111,
              "#46039f"
             ],
             [
              0.2222222222222222,
              "#7201a8"
             ],
             [
              0.3333333333333333,
              "#9c179e"
             ],
             [
              0.4444444444444444,
              "#bd3786"
             ],
             [
              0.5555555555555556,
              "#d8576b"
             ],
             [
              0.6666666666666666,
              "#ed7953"
             ],
             [
              0.7777777777777778,
              "#fb9f3a"
             ],
             [
              0.8888888888888888,
              "#fdca26"
             ],
             [
              1.0,
              "#f0f921"
             ]
            ]
           }
          ],
          "heatmapgl": [
           {
            "type": "heatmapgl",
            "colorbar": {
             "outlinewidth": 0,
             "ticks": ""
            },
            "colorscale": [
             [
              0.0,
              "#0d0887"
             ],
             [
              0.1111111111111111,
              "#46039f"
             ],
             [
              0.2222222222222222,
              "#7201a8"
             ],
             [
              0.3333333333333333,
              "#9c179e"
             ],
             [
              0.4444444444444444,
              "#bd3786"
             ],
             [
              0.5555555555555556,
              "#d8576b"
             ],
             [
              0.6666666666666666,
              "#ed7953"
             ],
             [
              0.7777777777777778,
              "#fb9f3a"
             ],
             [
              0.8888888888888888,
              "#fdca26"
             ],
             [
              1.0,
              "#f0f921"
             ]
            ]
           }
          ],
          "contourcarpet": [
           {
            "type": "contourcarpet",
            "colorbar": {
             "outlinewidth": 0,
             "ticks": ""
            }
           }
          ],
          "contour": [
           {
            "type": "contour",
            "colorbar": {
             "outlinewidth": 0,
             "ticks": ""
            },
            "colorscale": [
             [
              0.0,
              "#0d0887"
             ],
             [
              0.1111111111111111,
              "#46039f"
             ],
             [
              0.2222222222222222,
              "#7201a8"
             ],
             [
              0.3333333333333333,
              "#9c179e"
             ],
             [
              0.4444444444444444,
              "#bd3786"
             ],
             [
              0.5555555555555556,
              "#d8576b"
             ],
             [
              0.6666666666666666,
              "#ed7953"
             ],
             [
              0.7777777777777778,
              "#fb9f3a"
             ],
             [
              0.8888888888888888,
              "#fdca26"
             ],
             [
              1.0,
              "#f0f921"
             ]
            ]
           }
          ],
          "surface": [
           {
            "type": "surface",
            "colorbar": {
             "outlinewidth": 0,
             "ticks": ""
            },
            "colorscale": [
             [
              0.0,
              "#0d0887"
             ],
             [
              0.1111111111111111,
              "#46039f"
             ],
             [
              0.2222222222222222,
              "#7201a8"
             ],
             [
              0.3333333333333333,
              "#9c179e"
             ],
             [
              0.4444444444444444,
              "#bd3786"
             ],
             [
              0.5555555555555556,
              "#d8576b"
             ],
             [
              0.6666666666666666,
              "#ed7953"
             ],
             [
              0.7777777777777778,
              "#fb9f3a"
             ],
             [
              0.8888888888888888,
              "#fdca26"
             ],
             [
              1.0,
              "#f0f921"
             ]
            ]
           }
          ],
          "mesh3d": [
           {
            "type": "mesh3d",
            "colorbar": {
             "outlinewidth": 0,
             "ticks": ""
            }
           }
          ],
          "scatter": [
           {
            "fillpattern": {
             "fillmode": "overlay",
             "size": 10,
             "solidity": 0.2
            },
            "type": "scatter"
           }
          ],
          "parcoords": [
           {
            "type": "parcoords",
            "line": {
             "colorbar": {
              "outlinewidth": 0,
              "ticks": ""
             }
            }
           }
          ],
          "scatterpolargl": [
           {
            "type": "scatterpolargl",
            "marker": {
             "colorbar": {
              "outlinewidth": 0,
              "ticks": ""
             }
            }
           }
          ],
          "bar": [
           {
            "error_x": {
             "color": "#2a3f5f"
            },
            "error_y": {
             "color": "#2a3f5f"
            },
            "marker": {
             "line": {
              "color": "#E5ECF6",
              "width": 0.5
             },
             "pattern": {
              "fillmode": "overlay",
              "size": 10,
              "solidity": 0.2
             }
            },
            "type": "bar"
           }
          ],
          "scattergeo": [
           {
            "type": "scattergeo",
            "marker": {
             "colorbar": {
              "outlinewidth": 0,
              "ticks": ""
             }
            }
           }
          ],
          "scatterpolar": [
           {
            "type": "scatterpolar",
            "marker": {
             "colorbar": {
              "outlinewidth": 0,
              "ticks": ""
             }
            }
           }
          ],
          "histogram": [
           {
            "marker": {
             "pattern": {
              "fillmode": "overlay",
              "size": 10,
              "solidity": 0.2
             }
            },
            "type": "histogram"
           }
          ],
          "scattergl": [
           {
            "type": "scattergl",
            "marker": {
             "colorbar": {
              "outlinewidth": 0,
              "ticks": ""
             }
            }
           }
          ],
          "scatter3d": [
           {
            "type": "scatter3d",
            "line": {
             "colorbar": {
              "outlinewidth": 0,
              "ticks": ""
             }
            },
            "marker": {
             "colorbar": {
              "outlinewidth": 0,
              "ticks": ""
             }
            }
           }
          ],
          "scattermapbox": [
           {
            "type": "scattermapbox",
            "marker": {
             "colorbar": {
              "outlinewidth": 0,
              "ticks": ""
             }
            }
           }
          ],
          "scatterternary": [
           {
            "type": "scatterternary",
            "marker": {
             "colorbar": {
              "outlinewidth": 0,
              "ticks": ""
             }
            }
           }
          ],
          "scattercarpet": [
           {
            "type": "scattercarpet",
            "marker": {
             "colorbar": {
              "outlinewidth": 0,
              "ticks": ""
             }
            }
           }
          ],
          "carpet": [
           {
            "aaxis": {
             "endlinecolor": "#2a3f5f",
             "gridcolor": "white",
             "linecolor": "white",
             "minorgridcolor": "white",
             "startlinecolor": "#2a3f5f"
            },
            "baxis": {
             "endlinecolor": "#2a3f5f",
             "gridcolor": "white",
             "linecolor": "white",
             "minorgridcolor": "white",
             "startlinecolor": "#2a3f5f"
            },
            "type": "carpet"
           }
          ],
          "table": [
           {
            "cells": {
             "fill": {
              "color": "#EBF0F8"
             },
             "line": {
              "color": "white"
             }
            },
            "header": {
             "fill": {
              "color": "#C8D4E3"
             },
             "line": {
              "color": "white"
             }
            },
            "type": "table"
           }
          ],
          "barpolar": [
           {
            "marker": {
             "line": {
              "color": "#E5ECF6",
              "width": 0.5
             },
             "pattern": {
              "fillmode": "overlay",
              "size": 10,
              "solidity": 0.2
             }
            },
            "type": "barpolar"
           }
          ],
          "pie": [
           {
            "automargin": true,
            "type": "pie"
           }
          ]
         },
         "layout": {
          "autotypenumbers": "strict",
          "colorway": [
           "#636efa",
           "#EF553B",
           "#00cc96",
           "#ab63fa",
           "#FFA15A",
           "#19d3f3",
           "#FF6692",
           "#B6E880",
           "#FF97FF",
           "#FECB52"
          ],
          "font": {
           "color": "#2a3f5f"
          },
          "hovermode": "closest",
          "hoverlabel": {
           "align": "left"
          },
          "paper_bgcolor": "white",
          "plot_bgcolor": "#E5ECF6",
          "polar": {
           "bgcolor": "#E5ECF6",
           "angularaxis": {
            "gridcolor": "white",
            "linecolor": "white",
            "ticks": ""
           },
           "radialaxis": {
            "gridcolor": "white",
            "linecolor": "white",
            "ticks": ""
           }
          },
          "ternary": {
           "bgcolor": "#E5ECF6",
           "aaxis": {
            "gridcolor": "white",
            "linecolor": "white",
            "ticks": ""
           },
           "baxis": {
            "gridcolor": "white",
            "linecolor": "white",
            "ticks": ""
           },
           "caxis": {
            "gridcolor": "white",
            "linecolor": "white",
            "ticks": ""
           }
          },
          "coloraxis": {
           "colorbar": {
            "outlinewidth": 0,
            "ticks": ""
           }
          },
          "colorscale": {
           "sequential": [
            [
             0.0,
             "#0d0887"
            ],
            [
             0.1111111111111111,
             "#46039f"
            ],
            [
             0.2222222222222222,
             "#7201a8"
            ],
            [
             0.3333333333333333,
             "#9c179e"
            ],
            [
             0.4444444444444444,
             "#bd3786"
            ],
            [
             0.5555555555555556,
             "#d8576b"
            ],
            [
             0.6666666666666666,
             "#ed7953"
            ],
            [
             0.7777777777777778,
             "#fb9f3a"
            ],
            [
             0.8888888888888888,
             "#fdca26"
            ],
            [
             1.0,
             "#f0f921"
            ]
           ],
           "sequentialminus": [
            [
             0.0,
             "#0d0887"
            ],
            [
             0.1111111111111111,
             "#46039f"
            ],
            [
             0.2222222222222222,
             "#7201a8"
            ],
            [
             0.3333333333333333,
             "#9c179e"
            ],
            [
             0.4444444444444444,
             "#bd3786"
            ],
            [
             0.5555555555555556,
             "#d8576b"
            ],
            [
             0.6666666666666666,
             "#ed7953"
            ],
            [
             0.7777777777777778,
             "#fb9f3a"
            ],
            [
             0.8888888888888888,
             "#fdca26"
            ],
            [
             1.0,
             "#f0f921"
            ]
           ],
           "diverging": [
            [
             0,
             "#8e0152"
            ],
            [
             0.1,
             "#c51b7d"
            ],
            [
             0.2,
             "#de77ae"
            ],
            [
             0.3,
             "#f1b6da"
            ],
            [
             0.4,
             "#fde0ef"
            ],
            [
             0.5,
             "#f7f7f7"
            ],
            [
             0.6,
             "#e6f5d0"
            ],
            [
             0.7,
             "#b8e186"
            ],
            [
             0.8,
             "#7fbc41"
            ],
            [
             0.9,
             "#4d9221"
            ],
            [
             1,
             "#276419"
            ]
           ]
          },
          "xaxis": {
           "gridcolor": "white",
           "linecolor": "white",
           "ticks": "",
           "title": {
            "standoff": 15
           },
           "zerolinecolor": "white",
           "automargin": true,
           "zerolinewidth": 2
          },
          "yaxis": {
           "gridcolor": "white",
           "linecolor": "white",
           "ticks": "",
           "title": {
            "standoff": 15
           },
           "zerolinecolor": "white",
           "automargin": true,
           "zerolinewidth": 2
          },
          "scene": {
           "xaxis": {
            "backgroundcolor": "#E5ECF6",
            "gridcolor": "white",
            "linecolor": "white",
            "showbackground": true,
            "ticks": "",
            "zerolinecolor": "white",
            "gridwidth": 2
           },
           "yaxis": {
            "backgroundcolor": "#E5ECF6",
            "gridcolor": "white",
            "linecolor": "white",
            "showbackground": true,
            "ticks": "",
            "zerolinecolor": "white",
            "gridwidth": 2
           },
           "zaxis": {
            "backgroundcolor": "#E5ECF6",
            "gridcolor": "white",
            "linecolor": "white",
            "showbackground": true,
            "ticks": "",
            "zerolinecolor": "white",
            "gridwidth": 2
           }
          },
          "shapedefaults": {
           "line": {
            "color": "#2a3f5f"
           }
          },
          "annotationdefaults": {
           "arrowcolor": "#2a3f5f",
           "arrowhead": 0,
           "arrowwidth": 1
          },
          "geo": {
           "bgcolor": "white",
           "landcolor": "#E5ECF6",
           "subunitcolor": "white",
           "showland": true,
           "showlakes": true,
           "lakecolor": "white"
          },
          "title": {
           "x": 0.05
          },
          "mapbox": {
           "style": "light"
          }
         }
        },
        "shapes": [
         {
          "line": {
           "color": "black",
           "dash": "dash",
           "width": 3
          },
          "type": "line",
          "x0": 0,
          "x1": 1,
          "xref": "x domain",
          "y0": 0,
          "y1": 0,
          "yref": "y"
         }
        ]
       },
       "config": {
        "plotlyServerURL": "https://plot.ly"
       }
      },
      "text/html": "<div>                            <div id=\"ecd0d305-d739-4fdd-9aa6-9500cf4b9862\" class=\"plotly-graph-div\" style=\"height:525px; width:100%;\"></div>            <script type=\"text/javascript\">                require([\"plotly\"], function(Plotly) {                    window.PLOTLYENV=window.PLOTLYENV || {};                                    if (document.getElementById(\"ecd0d305-d739-4fdd-9aa6-9500cf4b9862\")) {                    Plotly.newPlot(                        \"ecd0d305-d739-4fdd-9aa6-9500cf4b9862\",                        [{\"line\":{\"color\":\"red\"},\"mode\":\"lines\",\"name\":\"Quantile Information\",\"x\":[0.01,0.0198989898989899,0.029797979797979796,0.039696969696969696,0.049595959595959596,0.059494949494949496,0.06939393939393938,0.07929292929292929,0.08919191919191918,0.09909090909090908,0.10898989898989898,0.11888888888888888,0.12878787878787878,0.1386868686868687,0.1485858585858586,0.15848484848484848,0.16838383838383839,0.1782828282828283,0.18818181818181817,0.19808080808080808,0.207979797979798,0.21787878787878787,0.22777777777777777,0.23767676767676768,0.24757575757575756,0.25747474747474747,0.2673737373737374,0.2772727272727273,0.2871717171717172,0.29707070707070704,0.30696969696969695,0.31686868686868686,0.32676767676767676,0.33666666666666667,0.3465656565656566,0.3564646464646465,0.36636363636363634,0.37626262626262624,0.38616161616161615,0.39606060606060606,0.40595959595959596,0.41585858585858587,0.4257575757575757,0.43565656565656563,0.44555555555555554,0.45545454545454545,0.46535353535353535,0.47525252525252526,0.4851515151515151,0.495050505050505,0.5049494949494949,0.5148484848484849,0.5247474747474747,0.5346464646464646,0.5445454545454546,0.5544444444444444,0.5643434343434344,0.5742424242424242,0.5841414141414141,0.594040404040404,0.6039393939393939,0.6138383838383838,0.6237373737373737,0.6336363636363637,0.6435353535353535,0.6534343434343434,0.6633333333333333,0.6732323232323232,0.6831313131313131,0.693030303030303,0.702929292929293,0.7128282828282828,0.7227272727272727,0.7326262626262626,0.7425252525252525,0.7524242424242424,0.7623232323232323,0.7722222222222221,0.7821212121212121,0.792020202020202,0.8019191919191919,0.8118181818181818,0.8217171717171717,0.8316161616161616,0.8415151515151514,0.8514141414141414,0.8613131313131313,0.8712121212121212,0.8811111111111111,0.891010101010101,0.9009090909090909,0.9108080808080807,0.9207070707070707,0.9306060606060605,0.9405050505050505,0.9504040404040404,0.9603030303030302,0.9702020202020202,0.98010101010101,0.99],\"y\":[-0.026303018113285948,-0.016973530705665762,-0.01962095992262869,-0.003654524905048806,-0.029594608661630106,-0.0019550988478096443,-0.007300705362215387,-0.003324730726552483,-0.006915399051282245,-0.009093646236663755,0.01245851874199766,0.026545543133582816,0.04397013425381613,0.04564149078485036,0.04470844934586782,0.04993999472314459,0.05098274463158936,0.060452057518836755,0.07226437976070743,0.07471969808226286,0.07977697193375388,0.08639327077217496,0.08885447251506418,0.09301735130501598,0.09631975264465209,0.09912982366863354,0.10392097255946797,0.11380029351019227,0.11289603807713305,0.12049263921946612,0.12322489326532582,0.12054118324161645,0.11982654669266168,0.1158595888737744,0.12560304349689028,0.12658136909497636,0.12865538194841752,0.12781058266099016,0.1256364354610787,0.1254613577140474,0.12984967924990878,0.13215967938659656,0.13046363149906892,0.13233257306691254,0.13360143703203792,0.12969505522711883,0.12998445391805027,0.13281084545669658,0.13136633310753654,0.1257698137881516,0.12342940536896009,0.12721620497504127,0.11721465473759389,0.12215560910173055,0.11467964308057299,0.11307560958113091,0.11441670031271126,0.11135656744807271,0.1129535225875298,0.11683205568727559,0.11945235915383146,0.11850931254504082,0.12260548906262175,0.1255841028552464,0.12850533703132377,0.13111662813604386,0.13475043722703145,0.13553303211188322,0.13876036785626822,0.1374719522437109,0.13833966850343316,0.1385745313260004,0.13767800016347154,0.13735973927261214,0.13620693029627817,0.1360859306511416,0.13469639081710394,0.13148501242590838,0.1318171703054517,0.14083768543388153,0.1416720417419346,0.14771392745357304,0.15577538133323876,0.15615394357611112,0.1499005868195975,0.15523721108787858,0.14890917617478627,0.15244547025072008,0.17403491015103567,0.16858126647953497,0.1723242422006237,0.1773357506031248,0.1648943533225209,0.18403345836209128,0.19125328125350616,0.18401143889585314,0.1848609013753586,0.20413045620973325,0.23267583921105794,0.2743218576217612],\"type\":\"scatter\",\"customdata\":[[0.01,0.6948,-0.026303018113285948,-0.11848743583908705,0.08162305914648194,\"False\",0.10792607725976788,0.0921844177258011],[0.0198989898989899,0.6988,-0.016973530705665762,-0.09155965193488934,0.06957883913628113,\"False\",0.08655236984194689,0.07458612122922358],[0.029797979797979796,0.5336,-0.01962095992262869,-0.0917504448565547,0.051335459170190445,\"False\",0.07095641909281913,0.07212948493392601],[0.039696969696969696,0.9554,-0.003654524905048806,-0.07227131329884301,0.06804544101358775,\"False\",0.07169996591863656,0.0686167883937942],[0.049595959595959596,0.3536,-0.029594608661630106,-0.08230885107707402,0.036693804281118916,\"False\",0.06628841294274902,0.05271424241544391],[0.059494949494949496,0.9418,-0.0019550988478096443,-0.06307491812855733,0.049334527116889584,\"False\",0.05128962596469923,0.06111981928074768],[0.06939393939393938,0.782,-0.007300705362215387,-0.05498856516034299,0.04131241541360086,\"False\",0.04861312077581625,0.047687859798127605],[0.07929292929292929,0.8892,-0.003324730726552483,-0.06506110406251578,0.05193524542186537,\"False\",0.05525997614841785,0.061736373335963296],[0.08919191919191918,0.7084,-0.006915399051282245,-0.05287887265962137,0.037016285732443734,\"False\",0.04393168478372598,0.04596347360833913],[0.09909090909090908,0.8764,-0.009093646236663755,-0.0532920463246083,0.05036069091768734,\"False\",0.0594543371543511,0.044198400087944546],[0.10898989898989898,0.5652,0.01245851874199766,-0.03190557183778897,0.05669670365979052,\"False\",0.04423818491779286,0.04436409057978663],[0.11888888888888888,0.313,0.026545543133582816,-0.02270987859800391,0.07894334497274806,\"False\",0.052397801839165245,0.04925542173158673],[0.12878787878787878,0.0712,0.04397013425381613,-0.003618449169494269,0.08854452769286697,\"False\",0.04457439343905084,0.0475885834233104],[0.1386868686868687,0.026,0.04564149078485036,0.005720612534626162,0.08429536849607389,\"True\",0.03865387771122353,0.039920878250224195],[0.1485858585858586,0.0192,0.04470844934586782,0.007023434117305417,0.08801708536150604,\"True\",0.043308636015638224,0.0376850152285624],[0.15848484848484848,0.021,0.04993999472314459,0.007549136567776909,0.09072509830240473,\"True\",0.04078510357926014,0.04239085815536768],[0.16838383838383839,0.0114,0.05098274463158936,0.011403084882719721,0.09650360331686858,\"True\",0.04552085868527922,0.039579659748869636],[0.1782828282828283,0.0036,0.060452057518836755,0.021303942607016603,0.1053552129468392,\"True\",0.04490315542800244,0.03914811491182015],[0.18818181818181817,0.0022,0.07226437976070743,0.025776345273135055,0.11538116434953713,\"True\",0.0431167845888297,0.046488034487572376],[0.19808080808080808,0.0004,0.07471969808226286,0.03467356260930955,0.11162908168511161,\"True\",0.03690938360284875,0.04004613547295331],[0.207979797979798,0.0,0.07977697193375388,0.038593490226945734,0.1180452814545136,\"True\",0.038268309520759713,0.04118348170680815],[0.21787878787878787,0.0002,0.08639327077217496,0.04349368570960448,0.12601905629973517,\"True\",0.039625785527560214,0.04289958506257048],[0.22777777777777777,0.0,0.08885447251506418,0.04558906844296197,0.12945706092000797,\"True\",0.040602588404943796,0.043265404072102207],[0.23767676767676768,0.0,0.09301735130501598,0.050931741301253664,0.13228128302148903,\"True\",0.03926393171647305,0.04208561000376232],[0.24757575757575756,0.0,0.09631975264465209,0.0548580236201362,0.13640525927832906,\"True\",0.040085506633676965,0.04146172902451589],[0.25747474747474747,0.0,0.09912982366863354,0.057594714116893805,0.14025249952988128,\"True\",0.04112267586124774,0.04153510955173974],[0.2673737373737374,0.0,0.10392097255946797,0.06796198074717466,0.1423368562961013,\"True\",0.03841588373663332,0.03595899181229331],[0.2772727272727273,0.0,0.11380029351019227,0.07083542648697395,0.15225184152763216,\"True\",0.038451548017439885,0.04296486702321832],[0.2871717171717172,0.0,0.11289603807713305,0.0785314409843496,0.15558951436701493,\"True\",0.042693476289881876,0.03436459709278346],[0.29707070707070704,0.0,0.12049263921946612,0.07966298149871813,0.16256549519829738,\"True\",0.04207285597883126,0.040829657720747994],[0.30696969696969695,0.0,0.12322489326532582,0.08214704342943423,0.16263030240253962,\"True\",0.0394054091372138,0.04107784983589159],[0.31686868686868686,0.0,0.12054118324161645,0.08374258549392682,0.15858972544065053,\"True\",0.038048542199034086,0.03679859774768962],[0.32676767676767676,0.0,0.11982654669266168,0.0780854935371368,0.15856738234274997,\"True\",0.03874083565008829,0.041741053155524885],[0.33666666666666667,0.0,0.1158595888737744,0.08540743061046235,0.15478509779999605,\"True\",0.03892550892622165,0.030452158263312046],[0.3465656565656566,0.0,0.12560304349689028,0.08725505584229584,0.15657465575677607,\"True\",0.03097161225988579,0.038347987654594434],[0.3564646464646465,0.0,0.12658136909497636,0.09220521962801759,0.16187943885664144,\"True\",0.03529806976166508,0.03437614946695877],[0.36636363636363634,0.0,0.12865538194841752,0.09246819630275149,0.1631719600018407,\"True\",0.034516578053423175,0.03618718564566603],[0.37626262626262624,0.0,0.12781058266099016,0.09121839657538604,0.16177080631465826,\"True\",0.033960223653668103,0.03659218608560412],[0.38616161616161615,0.0,0.1256364354610787,0.08936701056647599,0.1617982306400865,\"True\",0.036161795179007805,0.036269424894602706],[0.39606060606060606,0.0,0.1254613577140474,0.091490580324345,0.16129379079322806,\"True\",0.03583243307918066,0.0339707773897024],[0.40595959595959596,0.0,0.12984967924990878,0.09278120531579068,0.1655217253713626,\"True\",0.035672046121453804,0.03706847393411811],[0.41585858585858587,0.0,0.13215967938659656,0.09517213565207347,0.16618853809972764,\"True\",0.03402885871313108,0.03698754373452309],[0.4257575757575757,0.0,0.13046363149906892,0.09270174120176013,0.16897862083819504,\"True\",0.038514989339126116,0.037761890297308795],[0.43565656565656563,0.0,0.13233257306691254,0.09358385906638898,0.16712154390446832,\"True\",0.03478897083755578,0.03874871400052356],[0.44555555555555554,0.0,0.13360143703203792,0.09679012428798582,0.1678665083438774,\"True\",0.03426507131183948,0.036811312744052097],[0.45545454545454545,0.0,0.12969505522711883,0.09731713929992428,0.16532884030066183,\"True\",0.035633785073543006,0.03237791592719455],[0.46535353535353535,0.0,0.12998445391805027,0.09717492697838048,0.16648499163337685,\"True\",0.036500537715326575,0.03280952693966979],[0.47525252525252526,0.0,0.13281084545669658,0.09568154173985846,0.16901075631087614,\"True\",0.03619991085417956,0.03712930371683812],[0.4851515151515151,0.0,0.13136633310753654,0.09292462421317903,0.166154839882682,\"True\",0.03478850677514547,0.03844170889435751],[0.495050505050505,0.0,0.1257698137881516,0.09234421119032646,0.16234059949039056,\"True\",0.036570785702238956,0.03342560259782515],[0.5049494949494949,0.0,0.12342940536896009,0.09147455402188542,0.15898606039485327,\"True\",0.03555665502589318,0.03195485134707467],[0.5148484848484849,0.0,0.12721620497504127,0.08691278295000152,0.1589735470550451,\"True\",0.03175734208000383,0.04030342202503975],[0.5247474747474747,0.0,0.11721465473759389,0.08455421417438343,0.15972433692951998,\"True\",0.04250968219192609,0.03266044056321046],[0.5346464646464646,0.0,0.12215560910173055,0.08184287594921756,0.1544775011452511,\"True\",0.03232189204352055,0.04031273315251299],[0.5445454545454546,0.0,0.11467964308057299,0.07804345165186445,0.15681537579098911,\"True\",0.042135732710416124,0.03663619142870854],[0.5544444444444444,0.0,0.11307560958113091,0.0758669494520613,0.15314906492600056,\"True\",0.04007345534486964,0.03720866012906962],[0.5643434343434344,0.0,0.11441670031271126,0.07739877566264193,0.14733613228977613,\"True\",0.03291943197706487,0.037017924650069325],[0.5742424242424242,0.0,0.11135656744807271,0.07848031225005962,0.14538089949153524,\"True\",0.03402433204346253,0.032876255198013085],[0.5841414141414141,0.0,0.1129535225875298,0.07956363084111756,0.14602389730561532,\"True\",0.03307037471808552,0.03338989174641224],[0.594040404040404,0.0,0.11683205568727559,0.07823070110252596,0.15415761507648795,\"True\",0.037325559389212365,0.03860135458474963],[0.6039393939393939,0.0,0.11945235915383146,0.08144695579585916,0.15584290446843987,\"True\",0.03639054531460842,0.0380054033579723],[0.6138383838383838,0.0,0.11850931254504082,0.0837160946887397,0.15755387548247715,\"True\",0.03904456293743633,0.03479321785630113],[0.6237373737373737,0.0,0.12260548906262175,0.08405574657700134,0.16152390991471083,\"True\",0.038918420852089075,0.03854974248562042],[0.6336363636363637,0.0,0.1255841028552464,0.08685968763228932,0.16268820655438126,\"True\",0.03710410369913486,0.03872441522295708],[0.6435353535353535,0.0,0.12850533703132377,0.09100324278225531,0.16538579466321401,\"True\",0.03688045763189024,0.03750209424906846],[0.6534343434343434,0.0,0.13111662813604386,0.09406400036893418,0.17111636979443523,\"True\",0.039999741658391375,0.03705262776710967],[0.6633333333333333,0.0,0.13475043722703145,0.09521666249796569,0.17131128754528105,\"True\",0.0365608503182496,0.03953377472906576],[0.6732323232323232,0.0,0.13553303211188322,0.09774854863160361,0.1740731334718288,\"True\",0.03854010135994557,0.037784483480279615],[0.6831313131313131,0.0,0.13876036785626822,0.09905249841734974,0.17569449683042077,\"True\",0.03693412897415255,0.03970786943891848],[0.693030303030303,0.0,0.1374719522437109,0.10454857423942347,0.17283839637071935,\"True\",0.035366444127008456,0.03292337800428742],[0.702929292929293,0.0,0.13833966850343316,0.10178432625181952,0.174854511741785,\"True\",0.03651484323835186,0.03655534225161364],[0.7128282828282828,0.0,0.1385745313260004,0.09866846197818946,0.17408750660806543,\"True\",0.03551297528206504,0.039906069347810935],[0.7227272727272727,0.0,0.13767800016347154,0.0999802001931761,0.17462251795596498,\"True\",0.03694451779249344,0.03769779997029543],[0.7326262626262626,0.0,0.13735973927261214,0.10295312390285288,0.17526766357617837,\"True\",0.03790792430356624,0.03440661536975925],[0.7425252525252525,0.0,0.13620693029627817,0.09856055196000359,0.17347212294004954,\"True\",0.03726519264377137,0.037646378336274586],[0.7524242424242424,0.0,0.1360859306511416,0.09445699164712262,0.17708490051600947,\"True\",0.04099896986486787,0.04162893900401898],[0.7623232323232323,0.0,0.13469639081710394,0.09166917626080731,0.17503474964340496,\"True\",0.04033835882630102,0.04302721455629663],[0.7722222222222221,0.0,0.13148501242590838,0.09196477034529095,0.17077226888652125,\"True\",0.039287256460612874,0.039520242080617426],[0.7821212121212121,0.0,0.1318171703054517,0.09535014632531968,0.1737973058466599,\"True\",0.04198013554120819,0.03646702398013202],[0.792020202020202,0.0,0.14083768543388153,0.09926436927575533,0.18116661546518786,\"True\",0.04032893003130633,0.041573316158126206],[0.8019191919191919,0.0,0.1416720417419346,0.10535710925532134,0.18271458824522593,\"True\",0.04104254650329134,0.03631493248661326],[0.8118181818181818,0.0,0.14771392745357304,0.1048406191830853,0.1907445864818292,\"True\",0.043030659028256174,0.04287330827048773],[0.8217171717171717,0.0,0.15577538133323876,0.10985331177939058,0.19523679898984667,\"True\",0.039461417656607906,0.045922069553848185],[0.8316161616161616,0.0,0.15615394357611112,0.11270178729566185,0.19580045518558212,\"True\",0.039646511609471,0.04345215628044927],[0.8415151515151514,0.0,0.1499005868195975,0.10788105170294134,0.1989587881340993,\"True\",0.04905820131450181,0.04201953511665617],[0.8514141414141414,0.0,0.15523721108787858,0.10678037041115564,0.1988128946171094,\"True\",0.04357568352923083,0.04845684067672294],[0.8613131313131313,0.0,0.14890917617478627,0.10860450754025691,0.19587980371247338,\"True\",0.046970627537687104,0.04030466863452936],[0.8712121212121212,0.0,0.15244547025072008,0.11236065581837705,0.2045158508659721,\"True\",0.052070380615252015,0.04008481443234303],[0.8811111111111111,0.0,0.17403491015103567,0.12513137603067323,0.21330506609722333,\"True\",0.03927015594618766,0.04890353412036244],[0.891010101010101,0.0,0.16858126647953497,0.12492944067494678,0.21458718659793463,\"True\",0.04600592011839966,0.04365182580458819],[0.9009090909090909,0.0,0.1723242422006237,0.1278678515144243,0.21554270498794992,\"True\",0.04321846278732622,0.04445639068619939],[0.9108080808080807,0.0,0.1773357506031248,0.12935800680331405,0.21791262052966592,\"True\",0.04057686992654114,0.047977743799810735],[0.9207070707070707,0.0,0.1648943533225209,0.12125048204992898,0.21578679915549748,\"True\",0.050892445832976585,0.04364387127259191],[0.9306060606060605,0.0,0.18403345836209128,0.1269099810824699,0.2329297796823071,\"True\",0.04889632132021582,0.05712347727962139],[0.9405050505050505,0.0,0.19125328125350616,0.1312299572651696,0.2503769570381735,\"True\",0.05912367578466732,0.06002332398833657],[0.9504040404040404,0.0,0.18401143889585314,0.12318420149318113,0.24412226317553642,\"True\",0.060110824279683284,0.06082723740267201],[0.9603030303030302,0.0,0.1848609013753586,0.11569956422619855,0.24523154525201327,\"True\",0.06037064387665467,0.06916133714916005],[0.9702020202020202,0.0,0.20413045620973325,0.1223060974567689,0.2740544732686706,\"True\",0.06992401705893736,0.08182435875296434],[0.98010101010101,0.0,0.23267583921105794,0.13828756415796167,0.31083985141978726,\"True\",0.07816401220872932,0.09438827505309627],[0.99,0.0,0.2743218576217612,0.17186957443144202,0.41386391931899924,\"True\",0.13954206169723804,0.10245228319031918]],\"hovertemplate\":\"Quantile: %{customdata[0]}<br>p_value: %{customdata[1]}<br>Significance: %{customdata[5]}<br>Difference: %{customdata[2]}<br>Lower Bound: %{customdata[3]}<br>Upper Bound: %{customdata[4]}\"},{\"line\":{\"width\":0},\"marker\":{\"color\":\"black\"},\"mode\":\"lines\",\"name\":\"Quantile Information\",\"showlegend\":false,\"x\":[0.01,0.0198989898989899,0.029797979797979796,0.039696969696969696,0.049595959595959596,0.059494949494949496,0.06939393939393938,0.07929292929292929,0.08919191919191918,0.09909090909090908,0.10898989898989898,0.11888888888888888,0.12878787878787878,0.1386868686868687,0.1485858585858586,0.15848484848484848,0.16838383838383839,0.1782828282828283,0.18818181818181817,0.19808080808080808,0.207979797979798,0.21787878787878787,0.22777777777777777,0.23767676767676768,0.24757575757575756,0.25747474747474747,0.2673737373737374,0.2772727272727273,0.2871717171717172,0.29707070707070704,0.30696969696969695,0.31686868686868686,0.32676767676767676,0.33666666666666667,0.3465656565656566,0.3564646464646465,0.36636363636363634,0.37626262626262624,0.38616161616161615,0.39606060606060606,0.40595959595959596,0.41585858585858587,0.4257575757575757,0.43565656565656563,0.44555555555555554,0.45545454545454545,0.46535353535353535,0.47525252525252526,0.4851515151515151,0.495050505050505,0.5049494949494949,0.5148484848484849,0.5247474747474747,0.5346464646464646,0.5445454545454546,0.5544444444444444,0.5643434343434344,0.5742424242424242,0.5841414141414141,0.594040404040404,0.6039393939393939,0.6138383838383838,0.6237373737373737,0.6336363636363637,0.6435353535353535,0.6534343434343434,0.6633333333333333,0.6732323232323232,0.6831313131313131,0.693030303030303,0.702929292929293,0.7128282828282828,0.7227272727272727,0.7326262626262626,0.7425252525252525,0.7524242424242424,0.7623232323232323,0.7722222222222221,0.7821212121212121,0.792020202020202,0.8019191919191919,0.8118181818181818,0.8217171717171717,0.8316161616161616,0.8415151515151514,0.8514141414141414,0.8613131313131313,0.8712121212121212,0.8811111111111111,0.891010101010101,0.9009090909090909,0.9108080808080807,0.9207070707070707,0.9306060606060605,0.9405050505050505,0.9504040404040404,0.9603030303030302,0.9702020202020202,0.98010101010101,0.99],\"y\":[0.08162305914648194,0.06957883913628113,0.051335459170190445,0.06804544101358775,0.036693804281118916,0.049334527116889584,0.04131241541360086,0.05193524542186537,0.037016285732443734,0.05036069091768734,0.05669670365979052,0.07894334497274806,0.08854452769286697,0.08429536849607389,0.08801708536150604,0.09072509830240473,0.09650360331686858,0.1053552129468392,0.11538116434953713,0.11162908168511161,0.1180452814545136,0.12601905629973517,0.12945706092000797,0.13228128302148903,0.13640525927832906,0.14025249952988128,0.1423368562961013,0.15225184152763216,0.15558951436701493,0.16256549519829738,0.16263030240253962,0.15858972544065053,0.15856738234274997,0.15478509779999605,0.15657465575677607,0.16187943885664144,0.1631719600018407,0.16177080631465826,0.1617982306400865,0.16129379079322806,0.1655217253713626,0.16618853809972764,0.16897862083819504,0.16712154390446832,0.1678665083438774,0.16532884030066183,0.16648499163337685,0.16901075631087614,0.166154839882682,0.16234059949039056,0.15898606039485327,0.1589735470550451,0.15972433692951998,0.1544775011452511,0.15681537579098911,0.15314906492600056,0.14733613228977613,0.14538089949153524,0.14602389730561532,0.15415761507648795,0.15584290446843987,0.15755387548247715,0.16152390991471083,0.16268820655438126,0.16538579466321401,0.17111636979443523,0.17131128754528105,0.1740731334718288,0.17569449683042077,0.17283839637071935,0.174854511741785,0.17408750660806543,0.17462251795596498,0.17526766357617837,0.17347212294004954,0.17708490051600947,0.17503474964340496,0.17077226888652125,0.1737973058466599,0.18116661546518786,0.18271458824522593,0.1907445864818292,0.19523679898984667,0.19580045518558212,0.1989587881340993,0.1988128946171094,0.19587980371247338,0.2045158508659721,0.21330506609722333,0.21458718659793463,0.21554270498794992,0.21791262052966592,0.21578679915549748,0.2329297796823071,0.2503769570381735,0.24412226317553642,0.24523154525201327,0.2740544732686706,0.31083985141978726,0.41386391931899924],\"type\":\"scatter\",\"customdata\":[[0.01,0.6948,-0.026303018113285948,-0.11848743583908705,0.08162305914648194,\"False\",0.10792607725976788,0.0921844177258011],[0.0198989898989899,0.6988,-0.016973530705665762,-0.09155965193488934,0.06957883913628113,\"False\",0.08655236984194689,0.07458612122922358],[0.029797979797979796,0.5336,-0.01962095992262869,-0.0917504448565547,0.051335459170190445,\"False\",0.07095641909281913,0.07212948493392601],[0.039696969696969696,0.9554,-0.003654524905048806,-0.07227131329884301,0.06804544101358775,\"False\",0.07169996591863656,0.0686167883937942],[0.049595959595959596,0.3536,-0.029594608661630106,-0.08230885107707402,0.036693804281118916,\"False\",0.06628841294274902,0.05271424241544391],[0.059494949494949496,0.9418,-0.0019550988478096443,-0.06307491812855733,0.049334527116889584,\"False\",0.05128962596469923,0.06111981928074768],[0.06939393939393938,0.782,-0.007300705362215387,-0.05498856516034299,0.04131241541360086,\"False\",0.04861312077581625,0.047687859798127605],[0.07929292929292929,0.8892,-0.003324730726552483,-0.06506110406251578,0.05193524542186537,\"False\",0.05525997614841785,0.061736373335963296],[0.08919191919191918,0.7084,-0.006915399051282245,-0.05287887265962137,0.037016285732443734,\"False\",0.04393168478372598,0.04596347360833913],[0.09909090909090908,0.8764,-0.009093646236663755,-0.0532920463246083,0.05036069091768734,\"False\",0.0594543371543511,0.044198400087944546],[0.10898989898989898,0.5652,0.01245851874199766,-0.03190557183778897,0.05669670365979052,\"False\",0.04423818491779286,0.04436409057978663],[0.11888888888888888,0.313,0.026545543133582816,-0.02270987859800391,0.07894334497274806,\"False\",0.052397801839165245,0.04925542173158673],[0.12878787878787878,0.0712,0.04397013425381613,-0.003618449169494269,0.08854452769286697,\"False\",0.04457439343905084,0.0475885834233104],[0.1386868686868687,0.026,0.04564149078485036,0.005720612534626162,0.08429536849607389,\"True\",0.03865387771122353,0.039920878250224195],[0.1485858585858586,0.0192,0.04470844934586782,0.007023434117305417,0.08801708536150604,\"True\",0.043308636015638224,0.0376850152285624],[0.15848484848484848,0.021,0.04993999472314459,0.007549136567776909,0.09072509830240473,\"True\",0.04078510357926014,0.04239085815536768],[0.16838383838383839,0.0114,0.05098274463158936,0.011403084882719721,0.09650360331686858,\"True\",0.04552085868527922,0.039579659748869636],[0.1782828282828283,0.0036,0.060452057518836755,0.021303942607016603,0.1053552129468392,\"True\",0.04490315542800244,0.03914811491182015],[0.18818181818181817,0.0022,0.07226437976070743,0.025776345273135055,0.11538116434953713,\"True\",0.0431167845888297,0.046488034487572376],[0.19808080808080808,0.0004,0.07471969808226286,0.03467356260930955,0.11162908168511161,\"True\",0.03690938360284875,0.04004613547295331],[0.207979797979798,0.0,0.07977697193375388,0.038593490226945734,0.1180452814545136,\"True\",0.038268309520759713,0.04118348170680815],[0.21787878787878787,0.0002,0.08639327077217496,0.04349368570960448,0.12601905629973517,\"True\",0.039625785527560214,0.04289958506257048],[0.22777777777777777,0.0,0.08885447251506418,0.04558906844296197,0.12945706092000797,\"True\",0.040602588404943796,0.043265404072102207],[0.23767676767676768,0.0,0.09301735130501598,0.050931741301253664,0.13228128302148903,\"True\",0.03926393171647305,0.04208561000376232],[0.24757575757575756,0.0,0.09631975264465209,0.0548580236201362,0.13640525927832906,\"True\",0.040085506633676965,0.04146172902451589],[0.25747474747474747,0.0,0.09912982366863354,0.057594714116893805,0.14025249952988128,\"True\",0.04112267586124774,0.04153510955173974],[0.2673737373737374,0.0,0.10392097255946797,0.06796198074717466,0.1423368562961013,\"True\",0.03841588373663332,0.03595899181229331],[0.2772727272727273,0.0,0.11380029351019227,0.07083542648697395,0.15225184152763216,\"True\",0.038451548017439885,0.04296486702321832],[0.2871717171717172,0.0,0.11289603807713305,0.0785314409843496,0.15558951436701493,\"True\",0.042693476289881876,0.03436459709278346],[0.29707070707070704,0.0,0.12049263921946612,0.07966298149871813,0.16256549519829738,\"True\",0.04207285597883126,0.040829657720747994],[0.30696969696969695,0.0,0.12322489326532582,0.08214704342943423,0.16263030240253962,\"True\",0.0394054091372138,0.04107784983589159],[0.31686868686868686,0.0,0.12054118324161645,0.08374258549392682,0.15858972544065053,\"True\",0.038048542199034086,0.03679859774768962],[0.32676767676767676,0.0,0.11982654669266168,0.0780854935371368,0.15856738234274997,\"True\",0.03874083565008829,0.041741053155524885],[0.33666666666666667,0.0,0.1158595888737744,0.08540743061046235,0.15478509779999605,\"True\",0.03892550892622165,0.030452158263312046],[0.3465656565656566,0.0,0.12560304349689028,0.08725505584229584,0.15657465575677607,\"True\",0.03097161225988579,0.038347987654594434],[0.3564646464646465,0.0,0.12658136909497636,0.09220521962801759,0.16187943885664144,\"True\",0.03529806976166508,0.03437614946695877],[0.36636363636363634,0.0,0.12865538194841752,0.09246819630275149,0.1631719600018407,\"True\",0.034516578053423175,0.03618718564566603],[0.37626262626262624,0.0,0.12781058266099016,0.09121839657538604,0.16177080631465826,\"True\",0.033960223653668103,0.03659218608560412],[0.38616161616161615,0.0,0.1256364354610787,0.08936701056647599,0.1617982306400865,\"True\",0.036161795179007805,0.036269424894602706],[0.39606060606060606,0.0,0.1254613577140474,0.091490580324345,0.16129379079322806,\"True\",0.03583243307918066,0.0339707773897024],[0.40595959595959596,0.0,0.12984967924990878,0.09278120531579068,0.1655217253713626,\"True\",0.035672046121453804,0.03706847393411811],[0.41585858585858587,0.0,0.13215967938659656,0.09517213565207347,0.16618853809972764,\"True\",0.03402885871313108,0.03698754373452309],[0.4257575757575757,0.0,0.13046363149906892,0.09270174120176013,0.16897862083819504,\"True\",0.038514989339126116,0.037761890297308795],[0.43565656565656563,0.0,0.13233257306691254,0.09358385906638898,0.16712154390446832,\"True\",0.03478897083755578,0.03874871400052356],[0.44555555555555554,0.0,0.13360143703203792,0.09679012428798582,0.1678665083438774,\"True\",0.03426507131183948,0.036811312744052097],[0.45545454545454545,0.0,0.12969505522711883,0.09731713929992428,0.16532884030066183,\"True\",0.035633785073543006,0.03237791592719455],[0.46535353535353535,0.0,0.12998445391805027,0.09717492697838048,0.16648499163337685,\"True\",0.036500537715326575,0.03280952693966979],[0.47525252525252526,0.0,0.13281084545669658,0.09568154173985846,0.16901075631087614,\"True\",0.03619991085417956,0.03712930371683812],[0.4851515151515151,0.0,0.13136633310753654,0.09292462421317903,0.166154839882682,\"True\",0.03478850677514547,0.03844170889435751],[0.495050505050505,0.0,0.1257698137881516,0.09234421119032646,0.16234059949039056,\"True\",0.036570785702238956,0.03342560259782515],[0.5049494949494949,0.0,0.12342940536896009,0.09147455402188542,0.15898606039485327,\"True\",0.03555665502589318,0.03195485134707467],[0.5148484848484849,0.0,0.12721620497504127,0.08691278295000152,0.1589735470550451,\"True\",0.03175734208000383,0.04030342202503975],[0.5247474747474747,0.0,0.11721465473759389,0.08455421417438343,0.15972433692951998,\"True\",0.04250968219192609,0.03266044056321046],[0.5346464646464646,0.0,0.12215560910173055,0.08184287594921756,0.1544775011452511,\"True\",0.03232189204352055,0.04031273315251299],[0.5445454545454546,0.0,0.11467964308057299,0.07804345165186445,0.15681537579098911,\"True\",0.042135732710416124,0.03663619142870854],[0.5544444444444444,0.0,0.11307560958113091,0.0758669494520613,0.15314906492600056,\"True\",0.04007345534486964,0.03720866012906962],[0.5643434343434344,0.0,0.11441670031271126,0.07739877566264193,0.14733613228977613,\"True\",0.03291943197706487,0.037017924650069325],[0.5742424242424242,0.0,0.11135656744807271,0.07848031225005962,0.14538089949153524,\"True\",0.03402433204346253,0.032876255198013085],[0.5841414141414141,0.0,0.1129535225875298,0.07956363084111756,0.14602389730561532,\"True\",0.03307037471808552,0.03338989174641224],[0.594040404040404,0.0,0.11683205568727559,0.07823070110252596,0.15415761507648795,\"True\",0.037325559389212365,0.03860135458474963],[0.6039393939393939,0.0,0.11945235915383146,0.08144695579585916,0.15584290446843987,\"True\",0.03639054531460842,0.0380054033579723],[0.6138383838383838,0.0,0.11850931254504082,0.0837160946887397,0.15755387548247715,\"True\",0.03904456293743633,0.03479321785630113],[0.6237373737373737,0.0,0.12260548906262175,0.08405574657700134,0.16152390991471083,\"True\",0.038918420852089075,0.03854974248562042],[0.6336363636363637,0.0,0.1255841028552464,0.08685968763228932,0.16268820655438126,\"True\",0.03710410369913486,0.03872441522295708],[0.6435353535353535,0.0,0.12850533703132377,0.09100324278225531,0.16538579466321401,\"True\",0.03688045763189024,0.03750209424906846],[0.6534343434343434,0.0,0.13111662813604386,0.09406400036893418,0.17111636979443523,\"True\",0.039999741658391375,0.03705262776710967],[0.6633333333333333,0.0,0.13475043722703145,0.09521666249796569,0.17131128754528105,\"True\",0.0365608503182496,0.03953377472906576],[0.6732323232323232,0.0,0.13553303211188322,0.09774854863160361,0.1740731334718288,\"True\",0.03854010135994557,0.037784483480279615],[0.6831313131313131,0.0,0.13876036785626822,0.09905249841734974,0.17569449683042077,\"True\",0.03693412897415255,0.03970786943891848],[0.693030303030303,0.0,0.1374719522437109,0.10454857423942347,0.17283839637071935,\"True\",0.035366444127008456,0.03292337800428742],[0.702929292929293,0.0,0.13833966850343316,0.10178432625181952,0.174854511741785,\"True\",0.03651484323835186,0.03655534225161364],[0.7128282828282828,0.0,0.1385745313260004,0.09866846197818946,0.17408750660806543,\"True\",0.03551297528206504,0.039906069347810935],[0.7227272727272727,0.0,0.13767800016347154,0.0999802001931761,0.17462251795596498,\"True\",0.03694451779249344,0.03769779997029543],[0.7326262626262626,0.0,0.13735973927261214,0.10295312390285288,0.17526766357617837,\"True\",0.03790792430356624,0.03440661536975925],[0.7425252525252525,0.0,0.13620693029627817,0.09856055196000359,0.17347212294004954,\"True\",0.03726519264377137,0.037646378336274586],[0.7524242424242424,0.0,0.1360859306511416,0.09445699164712262,0.17708490051600947,\"True\",0.04099896986486787,0.04162893900401898],[0.7623232323232323,0.0,0.13469639081710394,0.09166917626080731,0.17503474964340496,\"True\",0.04033835882630102,0.04302721455629663],[0.7722222222222221,0.0,0.13148501242590838,0.09196477034529095,0.17077226888652125,\"True\",0.039287256460612874,0.039520242080617426],[0.7821212121212121,0.0,0.1318171703054517,0.09535014632531968,0.1737973058466599,\"True\",0.04198013554120819,0.03646702398013202],[0.792020202020202,0.0,0.14083768543388153,0.09926436927575533,0.18116661546518786,\"True\",0.04032893003130633,0.041573316158126206],[0.8019191919191919,0.0,0.1416720417419346,0.10535710925532134,0.18271458824522593,\"True\",0.04104254650329134,0.03631493248661326],[0.8118181818181818,0.0,0.14771392745357304,0.1048406191830853,0.1907445864818292,\"True\",0.043030659028256174,0.04287330827048773],[0.8217171717171717,0.0,0.15577538133323876,0.10985331177939058,0.19523679898984667,\"True\",0.039461417656607906,0.045922069553848185],[0.8316161616161616,0.0,0.15615394357611112,0.11270178729566185,0.19580045518558212,\"True\",0.039646511609471,0.04345215628044927],[0.8415151515151514,0.0,0.1499005868195975,0.10788105170294134,0.1989587881340993,\"True\",0.04905820131450181,0.04201953511665617],[0.8514141414141414,0.0,0.15523721108787858,0.10678037041115564,0.1988128946171094,\"True\",0.04357568352923083,0.04845684067672294],[0.8613131313131313,0.0,0.14890917617478627,0.10860450754025691,0.19587980371247338,\"True\",0.046970627537687104,0.04030466863452936],[0.8712121212121212,0.0,0.15244547025072008,0.11236065581837705,0.2045158508659721,\"True\",0.052070380615252015,0.04008481443234303],[0.8811111111111111,0.0,0.17403491015103567,0.12513137603067323,0.21330506609722333,\"True\",0.03927015594618766,0.04890353412036244],[0.891010101010101,0.0,0.16858126647953497,0.12492944067494678,0.21458718659793463,\"True\",0.04600592011839966,0.04365182580458819],[0.9009090909090909,0.0,0.1723242422006237,0.1278678515144243,0.21554270498794992,\"True\",0.04321846278732622,0.04445639068619939],[0.9108080808080807,0.0,0.1773357506031248,0.12935800680331405,0.21791262052966592,\"True\",0.04057686992654114,0.047977743799810735],[0.9207070707070707,0.0,0.1648943533225209,0.12125048204992898,0.21578679915549748,\"True\",0.050892445832976585,0.04364387127259191],[0.9306060606060605,0.0,0.18403345836209128,0.1269099810824699,0.2329297796823071,\"True\",0.04889632132021582,0.05712347727962139],[0.9405050505050505,0.0,0.19125328125350616,0.1312299572651696,0.2503769570381735,\"True\",0.05912367578466732,0.06002332398833657],[0.9504040404040404,0.0,0.18401143889585314,0.12318420149318113,0.24412226317553642,\"True\",0.060110824279683284,0.06082723740267201],[0.9603030303030302,0.0,0.1848609013753586,0.11569956422619855,0.24523154525201327,\"True\",0.06037064387665467,0.06916133714916005],[0.9702020202020202,0.0,0.20413045620973325,0.1223060974567689,0.2740544732686706,\"True\",0.06992401705893736,0.08182435875296434],[0.98010101010101,0.0,0.23267583921105794,0.13828756415796167,0.31083985141978726,\"True\",0.07816401220872932,0.09438827505309627],[0.99,0.0,0.2743218576217612,0.17186957443144202,0.41386391931899924,\"True\",0.13954206169723804,0.10245228319031918]],\"hovertemplate\":\"Quantile: %{customdata[0]}<br>p_value: %{customdata[1]}<br>Significance: %{customdata[5]}<br>Difference: %{customdata[2]}<br>Lower Bound: %{customdata[3]}<br>Upper Bound: %{customdata[4]}\"},{\"fill\":\"tonexty\",\"fillcolor\":\"rgba(68, 68, 68, 0.3)\",\"line\":{\"width\":0},\"marker\":{\"color\":\"black\"},\"mode\":\"lines\",\"name\":\"Quantile Information\",\"showlegend\":false,\"x\":[0.01,0.0198989898989899,0.029797979797979796,0.039696969696969696,0.049595959595959596,0.059494949494949496,0.06939393939393938,0.07929292929292929,0.08919191919191918,0.09909090909090908,0.10898989898989898,0.11888888888888888,0.12878787878787878,0.1386868686868687,0.1485858585858586,0.15848484848484848,0.16838383838383839,0.1782828282828283,0.18818181818181817,0.19808080808080808,0.207979797979798,0.21787878787878787,0.22777777777777777,0.23767676767676768,0.24757575757575756,0.25747474747474747,0.2673737373737374,0.2772727272727273,0.2871717171717172,0.29707070707070704,0.30696969696969695,0.31686868686868686,0.32676767676767676,0.33666666666666667,0.3465656565656566,0.3564646464646465,0.36636363636363634,0.37626262626262624,0.38616161616161615,0.39606060606060606,0.40595959595959596,0.41585858585858587,0.4257575757575757,0.43565656565656563,0.44555555555555554,0.45545454545454545,0.46535353535353535,0.47525252525252526,0.4851515151515151,0.495050505050505,0.5049494949494949,0.5148484848484849,0.5247474747474747,0.5346464646464646,0.5445454545454546,0.5544444444444444,0.5643434343434344,0.5742424242424242,0.5841414141414141,0.594040404040404,0.6039393939393939,0.6138383838383838,0.6237373737373737,0.6336363636363637,0.6435353535353535,0.6534343434343434,0.6633333333333333,0.6732323232323232,0.6831313131313131,0.693030303030303,0.702929292929293,0.7128282828282828,0.7227272727272727,0.7326262626262626,0.7425252525252525,0.7524242424242424,0.7623232323232323,0.7722222222222221,0.7821212121212121,0.792020202020202,0.8019191919191919,0.8118181818181818,0.8217171717171717,0.8316161616161616,0.8415151515151514,0.8514141414141414,0.8613131313131313,0.8712121212121212,0.8811111111111111,0.891010101010101,0.9009090909090909,0.9108080808080807,0.9207070707070707,0.9306060606060605,0.9405050505050505,0.9504040404040404,0.9603030303030302,0.9702020202020202,0.98010101010101,0.99],\"y\":[-0.11848743583908705,-0.09155965193488934,-0.0917504448565547,-0.07227131329884301,-0.08230885107707402,-0.06307491812855733,-0.05498856516034299,-0.06506110406251578,-0.05287887265962137,-0.0532920463246083,-0.03190557183778897,-0.02270987859800391,-0.003618449169494269,0.005720612534626162,0.007023434117305417,0.007549136567776909,0.011403084882719721,0.021303942607016603,0.025776345273135055,0.03467356260930955,0.038593490226945734,0.04349368570960448,0.04558906844296197,0.050931741301253664,0.0548580236201362,0.057594714116893805,0.06796198074717466,0.07083542648697395,0.0785314409843496,0.07966298149871813,0.08214704342943423,0.08374258549392682,0.0780854935371368,0.08540743061046235,0.08725505584229584,0.09220521962801759,0.09246819630275149,0.09121839657538604,0.08936701056647599,0.091490580324345,0.09278120531579068,0.09517213565207347,0.09270174120176013,0.09358385906638898,0.09679012428798582,0.09731713929992428,0.09717492697838048,0.09568154173985846,0.09292462421317903,0.09234421119032646,0.09147455402188542,0.08691278295000152,0.08455421417438343,0.08184287594921756,0.07804345165186445,0.0758669494520613,0.07739877566264193,0.07848031225005962,0.07956363084111756,0.07823070110252596,0.08144695579585916,0.0837160946887397,0.08405574657700134,0.08685968763228932,0.09100324278225531,0.09406400036893418,0.09521666249796569,0.09774854863160361,0.09905249841734974,0.10454857423942347,0.10178432625181952,0.09866846197818946,0.0999802001931761,0.10295312390285288,0.09856055196000359,0.09445699164712262,0.09166917626080731,0.09196477034529095,0.09535014632531968,0.09926436927575533,0.10535710925532134,0.1048406191830853,0.10985331177939058,0.11270178729566185,0.10788105170294134,0.10678037041115564,0.10860450754025691,0.11236065581837705,0.12513137603067323,0.12492944067494678,0.1278678515144243,0.12935800680331405,0.12125048204992898,0.1269099810824699,0.1312299572651696,0.12318420149318113,0.11569956422619855,0.1223060974567689,0.13828756415796167,0.17186957443144202],\"type\":\"scatter\",\"customdata\":[[0.01,0.6948,-0.026303018113285948,-0.11848743583908705,0.08162305914648194,\"False\",0.10792607725976788,0.0921844177258011],[0.0198989898989899,0.6988,-0.016973530705665762,-0.09155965193488934,0.06957883913628113,\"False\",0.08655236984194689,0.07458612122922358],[0.029797979797979796,0.5336,-0.01962095992262869,-0.0917504448565547,0.051335459170190445,\"False\",0.07095641909281913,0.07212948493392601],[0.039696969696969696,0.9554,-0.003654524905048806,-0.07227131329884301,0.06804544101358775,\"False\",0.07169996591863656,0.0686167883937942],[0.049595959595959596,0.3536,-0.029594608661630106,-0.08230885107707402,0.036693804281118916,\"False\",0.06628841294274902,0.05271424241544391],[0.059494949494949496,0.9418,-0.0019550988478096443,-0.06307491812855733,0.049334527116889584,\"False\",0.05128962596469923,0.06111981928074768],[0.06939393939393938,0.782,-0.007300705362215387,-0.05498856516034299,0.04131241541360086,\"False\",0.04861312077581625,0.047687859798127605],[0.07929292929292929,0.8892,-0.003324730726552483,-0.06506110406251578,0.05193524542186537,\"False\",0.05525997614841785,0.061736373335963296],[0.08919191919191918,0.7084,-0.006915399051282245,-0.05287887265962137,0.037016285732443734,\"False\",0.04393168478372598,0.04596347360833913],[0.09909090909090908,0.8764,-0.009093646236663755,-0.0532920463246083,0.05036069091768734,\"False\",0.0594543371543511,0.044198400087944546],[0.10898989898989898,0.5652,0.01245851874199766,-0.03190557183778897,0.05669670365979052,\"False\",0.04423818491779286,0.04436409057978663],[0.11888888888888888,0.313,0.026545543133582816,-0.02270987859800391,0.07894334497274806,\"False\",0.052397801839165245,0.04925542173158673],[0.12878787878787878,0.0712,0.04397013425381613,-0.003618449169494269,0.08854452769286697,\"False\",0.04457439343905084,0.0475885834233104],[0.1386868686868687,0.026,0.04564149078485036,0.005720612534626162,0.08429536849607389,\"True\",0.03865387771122353,0.039920878250224195],[0.1485858585858586,0.0192,0.04470844934586782,0.007023434117305417,0.08801708536150604,\"True\",0.043308636015638224,0.0376850152285624],[0.15848484848484848,0.021,0.04993999472314459,0.007549136567776909,0.09072509830240473,\"True\",0.04078510357926014,0.04239085815536768],[0.16838383838383839,0.0114,0.05098274463158936,0.011403084882719721,0.09650360331686858,\"True\",0.04552085868527922,0.039579659748869636],[0.1782828282828283,0.0036,0.060452057518836755,0.021303942607016603,0.1053552129468392,\"True\",0.04490315542800244,0.03914811491182015],[0.18818181818181817,0.0022,0.07226437976070743,0.025776345273135055,0.11538116434953713,\"True\",0.0431167845888297,0.046488034487572376],[0.19808080808080808,0.0004,0.07471969808226286,0.03467356260930955,0.11162908168511161,\"True\",0.03690938360284875,0.04004613547295331],[0.207979797979798,0.0,0.07977697193375388,0.038593490226945734,0.1180452814545136,\"True\",0.038268309520759713,0.04118348170680815],[0.21787878787878787,0.0002,0.08639327077217496,0.04349368570960448,0.12601905629973517,\"True\",0.039625785527560214,0.04289958506257048],[0.22777777777777777,0.0,0.08885447251506418,0.04558906844296197,0.12945706092000797,\"True\",0.040602588404943796,0.043265404072102207],[0.23767676767676768,0.0,0.09301735130501598,0.050931741301253664,0.13228128302148903,\"True\",0.03926393171647305,0.04208561000376232],[0.24757575757575756,0.0,0.09631975264465209,0.0548580236201362,0.13640525927832906,\"True\",0.040085506633676965,0.04146172902451589],[0.25747474747474747,0.0,0.09912982366863354,0.057594714116893805,0.14025249952988128,\"True\",0.04112267586124774,0.04153510955173974],[0.2673737373737374,0.0,0.10392097255946797,0.06796198074717466,0.1423368562961013,\"True\",0.03841588373663332,0.03595899181229331],[0.2772727272727273,0.0,0.11380029351019227,0.07083542648697395,0.15225184152763216,\"True\",0.038451548017439885,0.04296486702321832],[0.2871717171717172,0.0,0.11289603807713305,0.0785314409843496,0.15558951436701493,\"True\",0.042693476289881876,0.03436459709278346],[0.29707070707070704,0.0,0.12049263921946612,0.07966298149871813,0.16256549519829738,\"True\",0.04207285597883126,0.040829657720747994],[0.30696969696969695,0.0,0.12322489326532582,0.08214704342943423,0.16263030240253962,\"True\",0.0394054091372138,0.04107784983589159],[0.31686868686868686,0.0,0.12054118324161645,0.08374258549392682,0.15858972544065053,\"True\",0.038048542199034086,0.03679859774768962],[0.32676767676767676,0.0,0.11982654669266168,0.0780854935371368,0.15856738234274997,\"True\",0.03874083565008829,0.041741053155524885],[0.33666666666666667,0.0,0.1158595888737744,0.08540743061046235,0.15478509779999605,\"True\",0.03892550892622165,0.030452158263312046],[0.3465656565656566,0.0,0.12560304349689028,0.08725505584229584,0.15657465575677607,\"True\",0.03097161225988579,0.038347987654594434],[0.3564646464646465,0.0,0.12658136909497636,0.09220521962801759,0.16187943885664144,\"True\",0.03529806976166508,0.03437614946695877],[0.36636363636363634,0.0,0.12865538194841752,0.09246819630275149,0.1631719600018407,\"True\",0.034516578053423175,0.03618718564566603],[0.37626262626262624,0.0,0.12781058266099016,0.09121839657538604,0.16177080631465826,\"True\",0.033960223653668103,0.03659218608560412],[0.38616161616161615,0.0,0.1256364354610787,0.08936701056647599,0.1617982306400865,\"True\",0.036161795179007805,0.036269424894602706],[0.39606060606060606,0.0,0.1254613577140474,0.091490580324345,0.16129379079322806,\"True\",0.03583243307918066,0.0339707773897024],[0.40595959595959596,0.0,0.12984967924990878,0.09278120531579068,0.1655217253713626,\"True\",0.035672046121453804,0.03706847393411811],[0.41585858585858587,0.0,0.13215967938659656,0.09517213565207347,0.16618853809972764,\"True\",0.03402885871313108,0.03698754373452309],[0.4257575757575757,0.0,0.13046363149906892,0.09270174120176013,0.16897862083819504,\"True\",0.038514989339126116,0.037761890297308795],[0.43565656565656563,0.0,0.13233257306691254,0.09358385906638898,0.16712154390446832,\"True\",0.03478897083755578,0.03874871400052356],[0.44555555555555554,0.0,0.13360143703203792,0.09679012428798582,0.1678665083438774,\"True\",0.03426507131183948,0.036811312744052097],[0.45545454545454545,0.0,0.12969505522711883,0.09731713929992428,0.16532884030066183,\"True\",0.035633785073543006,0.03237791592719455],[0.46535353535353535,0.0,0.12998445391805027,0.09717492697838048,0.16648499163337685,\"True\",0.036500537715326575,0.03280952693966979],[0.47525252525252526,0.0,0.13281084545669658,0.09568154173985846,0.16901075631087614,\"True\",0.03619991085417956,0.03712930371683812],[0.4851515151515151,0.0,0.13136633310753654,0.09292462421317903,0.166154839882682,\"True\",0.03478850677514547,0.03844170889435751],[0.495050505050505,0.0,0.1257698137881516,0.09234421119032646,0.16234059949039056,\"True\",0.036570785702238956,0.03342560259782515],[0.5049494949494949,0.0,0.12342940536896009,0.09147455402188542,0.15898606039485327,\"True\",0.03555665502589318,0.03195485134707467],[0.5148484848484849,0.0,0.12721620497504127,0.08691278295000152,0.1589735470550451,\"True\",0.03175734208000383,0.04030342202503975],[0.5247474747474747,0.0,0.11721465473759389,0.08455421417438343,0.15972433692951998,\"True\",0.04250968219192609,0.03266044056321046],[0.5346464646464646,0.0,0.12215560910173055,0.08184287594921756,0.1544775011452511,\"True\",0.03232189204352055,0.04031273315251299],[0.5445454545454546,0.0,0.11467964308057299,0.07804345165186445,0.15681537579098911,\"True\",0.042135732710416124,0.03663619142870854],[0.5544444444444444,0.0,0.11307560958113091,0.0758669494520613,0.15314906492600056,\"True\",0.04007345534486964,0.03720866012906962],[0.5643434343434344,0.0,0.11441670031271126,0.07739877566264193,0.14733613228977613,\"True\",0.03291943197706487,0.037017924650069325],[0.5742424242424242,0.0,0.11135656744807271,0.07848031225005962,0.14538089949153524,\"True\",0.03402433204346253,0.032876255198013085],[0.5841414141414141,0.0,0.1129535225875298,0.07956363084111756,0.14602389730561532,\"True\",0.03307037471808552,0.03338989174641224],[0.594040404040404,0.0,0.11683205568727559,0.07823070110252596,0.15415761507648795,\"True\",0.037325559389212365,0.03860135458474963],[0.6039393939393939,0.0,0.11945235915383146,0.08144695579585916,0.15584290446843987,\"True\",0.03639054531460842,0.0380054033579723],[0.6138383838383838,0.0,0.11850931254504082,0.0837160946887397,0.15755387548247715,\"True\",0.03904456293743633,0.03479321785630113],[0.6237373737373737,0.0,0.12260548906262175,0.08405574657700134,0.16152390991471083,\"True\",0.038918420852089075,0.03854974248562042],[0.6336363636363637,0.0,0.1255841028552464,0.08685968763228932,0.16268820655438126,\"True\",0.03710410369913486,0.03872441522295708],[0.6435353535353535,0.0,0.12850533703132377,0.09100324278225531,0.16538579466321401,\"True\",0.03688045763189024,0.03750209424906846],[0.6534343434343434,0.0,0.13111662813604386,0.09406400036893418,0.17111636979443523,\"True\",0.039999741658391375,0.03705262776710967],[0.6633333333333333,0.0,0.13475043722703145,0.09521666249796569,0.17131128754528105,\"True\",0.0365608503182496,0.03953377472906576],[0.6732323232323232,0.0,0.13553303211188322,0.09774854863160361,0.1740731334718288,\"True\",0.03854010135994557,0.037784483480279615],[0.6831313131313131,0.0,0.13876036785626822,0.09905249841734974,0.17569449683042077,\"True\",0.03693412897415255,0.03970786943891848],[0.693030303030303,0.0,0.1374719522437109,0.10454857423942347,0.17283839637071935,\"True\",0.035366444127008456,0.03292337800428742],[0.702929292929293,0.0,0.13833966850343316,0.10178432625181952,0.174854511741785,\"True\",0.03651484323835186,0.03655534225161364],[0.7128282828282828,0.0,0.1385745313260004,0.09866846197818946,0.17408750660806543,\"True\",0.03551297528206504,0.039906069347810935],[0.7227272727272727,0.0,0.13767800016347154,0.0999802001931761,0.17462251795596498,\"True\",0.03694451779249344,0.03769779997029543],[0.7326262626262626,0.0,0.13735973927261214,0.10295312390285288,0.17526766357617837,\"True\",0.03790792430356624,0.03440661536975925],[0.7425252525252525,0.0,0.13620693029627817,0.09856055196000359,0.17347212294004954,\"True\",0.03726519264377137,0.037646378336274586],[0.7524242424242424,0.0,0.1360859306511416,0.09445699164712262,0.17708490051600947,\"True\",0.04099896986486787,0.04162893900401898],[0.7623232323232323,0.0,0.13469639081710394,0.09166917626080731,0.17503474964340496,\"True\",0.04033835882630102,0.04302721455629663],[0.7722222222222221,0.0,0.13148501242590838,0.09196477034529095,0.17077226888652125,\"True\",0.039287256460612874,0.039520242080617426],[0.7821212121212121,0.0,0.1318171703054517,0.09535014632531968,0.1737973058466599,\"True\",0.04198013554120819,0.03646702398013202],[0.792020202020202,0.0,0.14083768543388153,0.09926436927575533,0.18116661546518786,\"True\",0.04032893003130633,0.041573316158126206],[0.8019191919191919,0.0,0.1416720417419346,0.10535710925532134,0.18271458824522593,\"True\",0.04104254650329134,0.03631493248661326],[0.8118181818181818,0.0,0.14771392745357304,0.1048406191830853,0.1907445864818292,\"True\",0.043030659028256174,0.04287330827048773],[0.8217171717171717,0.0,0.15577538133323876,0.10985331177939058,0.19523679898984667,\"True\",0.039461417656607906,0.045922069553848185],[0.8316161616161616,0.0,0.15615394357611112,0.11270178729566185,0.19580045518558212,\"True\",0.039646511609471,0.04345215628044927],[0.8415151515151514,0.0,0.1499005868195975,0.10788105170294134,0.1989587881340993,\"True\",0.04905820131450181,0.04201953511665617],[0.8514141414141414,0.0,0.15523721108787858,0.10678037041115564,0.1988128946171094,\"True\",0.04357568352923083,0.04845684067672294],[0.8613131313131313,0.0,0.14890917617478627,0.10860450754025691,0.19587980371247338,\"True\",0.046970627537687104,0.04030466863452936],[0.8712121212121212,0.0,0.15244547025072008,0.11236065581837705,0.2045158508659721,\"True\",0.052070380615252015,0.04008481443234303],[0.8811111111111111,0.0,0.17403491015103567,0.12513137603067323,0.21330506609722333,\"True\",0.03927015594618766,0.04890353412036244],[0.891010101010101,0.0,0.16858126647953497,0.12492944067494678,0.21458718659793463,\"True\",0.04600592011839966,0.04365182580458819],[0.9009090909090909,0.0,0.1723242422006237,0.1278678515144243,0.21554270498794992,\"True\",0.04321846278732622,0.04445639068619939],[0.9108080808080807,0.0,0.1773357506031248,0.12935800680331405,0.21791262052966592,\"True\",0.04057686992654114,0.047977743799810735],[0.9207070707070707,0.0,0.1648943533225209,0.12125048204992898,0.21578679915549748,\"True\",0.050892445832976585,0.04364387127259191],[0.9306060606060605,0.0,0.18403345836209128,0.1269099810824699,0.2329297796823071,\"True\",0.04889632132021582,0.05712347727962139],[0.9405050505050505,0.0,0.19125328125350616,0.1312299572651696,0.2503769570381735,\"True\",0.05912367578466732,0.06002332398833657],[0.9504040404040404,0.0,0.18401143889585314,0.12318420149318113,0.24412226317553642,\"True\",0.060110824279683284,0.06082723740267201],[0.9603030303030302,0.0,0.1848609013753586,0.11569956422619855,0.24523154525201327,\"True\",0.06037064387665467,0.06916133714916005],[0.9702020202020202,0.0,0.20413045620973325,0.1223060974567689,0.2740544732686706,\"True\",0.06992401705893736,0.08182435875296434],[0.98010101010101,0.0,0.23267583921105794,0.13828756415796167,0.31083985141978726,\"True\",0.07816401220872932,0.09438827505309627],[0.99,0.0,0.2743218576217612,0.17186957443144202,0.41386391931899924,\"True\",0.13954206169723804,0.10245228319031918]],\"hovertemplate\":\"Quantile: %{customdata[0]}<br>p_value: %{customdata[1]}<br>Significance: %{customdata[5]}<br>Difference: %{customdata[2]}<br>Lower Bound: %{customdata[3]}<br>Upper Bound: %{customdata[4]}\"}],                        {\"template\":{\"data\":{\"histogram2dcontour\":[{\"type\":\"histogram2dcontour\",\"colorbar\":{\"outlinewidth\":0,\"ticks\":\"\"},\"colorscale\":[[0.0,\"#0d0887\"],[0.1111111111111111,\"#46039f\"],[0.2222222222222222,\"#7201a8\"],[0.3333333333333333,\"#9c179e\"],[0.4444444444444444,\"#bd3786\"],[0.5555555555555556,\"#d8576b\"],[0.6666666666666666,\"#ed7953\"],[0.7777777777777778,\"#fb9f3a\"],[0.8888888888888888,\"#fdca26\"],[1.0,\"#f0f921\"]]}],\"choropleth\":[{\"type\":\"choropleth\",\"colorbar\":{\"outlinewidth\":0,\"ticks\":\"\"}}],\"histogram2d\":[{\"type\":\"histogram2d\",\"colorbar\":{\"outlinewidth\":0,\"ticks\":\"\"},\"colorscale\":[[0.0,\"#0d0887\"],[0.1111111111111111,\"#46039f\"],[0.2222222222222222,\"#7201a8\"],[0.3333333333333333,\"#9c179e\"],[0.4444444444444444,\"#bd3786\"],[0.5555555555555556,\"#d8576b\"],[0.6666666666666666,\"#ed7953\"],[0.7777777777777778,\"#fb9f3a\"],[0.8888888888888888,\"#fdca26\"],[1.0,\"#f0f921\"]]}],\"heatmap\":[{\"type\":\"heatmap\",\"colorbar\":{\"outlinewidth\":0,\"ticks\":\"\"},\"colorscale\":[[0.0,\"#0d0887\"],[0.1111111111111111,\"#46039f\"],[0.2222222222222222,\"#7201a8\"],[0.3333333333333333,\"#9c179e\"],[0.4444444444444444,\"#bd3786\"],[0.5555555555555556,\"#d8576b\"],[0.6666666666666666,\"#ed7953\"],[0.7777777777777778,\"#fb9f3a\"],[0.8888888888888888,\"#fdca26\"],[1.0,\"#f0f921\"]]}],\"heatmapgl\":[{\"type\":\"heatmapgl\",\"colorbar\":{\"outlinewidth\":0,\"ticks\":\"\"},\"colorscale\":[[0.0,\"#0d0887\"],[0.1111111111111111,\"#46039f\"],[0.2222222222222222,\"#7201a8\"],[0.3333333333333333,\"#9c179e\"],[0.4444444444444444,\"#bd3786\"],[0.5555555555555556,\"#d8576b\"],[0.6666666666666666,\"#ed7953\"],[0.7777777777777778,\"#fb9f3a\"],[0.8888888888888888,\"#fdca26\"],[1.0,\"#f0f921\"]]}],\"contourcarpet\":[{\"type\":\"contourcarpet\",\"colorbar\":{\"outlinewidth\":0,\"ticks\":\"\"}}],\"contour\":[{\"type\":\"contour\",\"colorbar\":{\"outlinewidth\":0,\"ticks\":\"\"},\"colorscale\":[[0.0,\"#0d0887\"],[0.1111111111111111,\"#46039f\"],[0.2222222222222222,\"#7201a8\"],[0.3333333333333333,\"#9c179e\"],[0.4444444444444444,\"#bd3786\"],[0.5555555555555556,\"#d8576b\"],[0.6666666666666666,\"#ed7953\"],[0.7777777777777778,\"#fb9f3a\"],[0.8888888888888888,\"#fdca26\"],[1.0,\"#f0f921\"]]}],\"surface\":[{\"type\":\"surface\",\"colorbar\":{\"outlinewidth\":0,\"ticks\":\"\"},\"colorscale\":[[0.0,\"#0d0887\"],[0.1111111111111111,\"#46039f\"],[0.2222222222222222,\"#7201a8\"],[0.3333333333333333,\"#9c179e\"],[0.4444444444444444,\"#bd3786\"],[0.5555555555555556,\"#d8576b\"],[0.6666666666666666,\"#ed7953\"],[0.7777777777777778,\"#fb9f3a\"],[0.8888888888888888,\"#fdca26\"],[1.0,\"#f0f921\"]]}],\"mesh3d\":[{\"type\":\"mesh3d\",\"colorbar\":{\"outlinewidth\":0,\"ticks\":\"\"}}],\"scatter\":[{\"fillpattern\":{\"fillmode\":\"overlay\",\"size\":10,\"solidity\":0.2},\"type\":\"scatter\"}],\"parcoords\":[{\"type\":\"parcoords\",\"line\":{\"colorbar\":{\"outlinewidth\":0,\"ticks\":\"\"}}}],\"scatterpolargl\":[{\"type\":\"scatterpolargl\",\"marker\":{\"colorbar\":{\"outlinewidth\":0,\"ticks\":\"\"}}}],\"bar\":[{\"error_x\":{\"color\":\"#2a3f5f\"},\"error_y\":{\"color\":\"#2a3f5f\"},\"marker\":{\"line\":{\"color\":\"#E5ECF6\",\"width\":0.5},\"pattern\":{\"fillmode\":\"overlay\",\"size\":10,\"solidity\":0.2}},\"type\":\"bar\"}],\"scattergeo\":[{\"type\":\"scattergeo\",\"marker\":{\"colorbar\":{\"outlinewidth\":0,\"ticks\":\"\"}}}],\"scatterpolar\":[{\"type\":\"scatterpolar\",\"marker\":{\"colorbar\":{\"outlinewidth\":0,\"ticks\":\"\"}}}],\"histogram\":[{\"marker\":{\"pattern\":{\"fillmode\":\"overlay\",\"size\":10,\"solidity\":0.2}},\"type\":\"histogram\"}],\"scattergl\":[{\"type\":\"scattergl\",\"marker\":{\"colorbar\":{\"outlinewidth\":0,\"ticks\":\"\"}}}],\"scatter3d\":[{\"type\":\"scatter3d\",\"line\":{\"colorbar\":{\"outlinewidth\":0,\"ticks\":\"\"}},\"marker\":{\"colorbar\":{\"outlinewidth\":0,\"ticks\":\"\"}}}],\"scattermapbox\":[{\"type\":\"scattermapbox\",\"marker\":{\"colorbar\":{\"outlinewidth\":0,\"ticks\":\"\"}}}],\"scatterternary\":[{\"type\":\"scatterternary\",\"marker\":{\"colorbar\":{\"outlinewidth\":0,\"ticks\":\"\"}}}],\"scattercarpet\":[{\"type\":\"scattercarpet\",\"marker\":{\"colorbar\":{\"outlinewidth\":0,\"ticks\":\"\"}}}],\"carpet\":[{\"aaxis\":{\"endlinecolor\":\"#2a3f5f\",\"gridcolor\":\"white\",\"linecolor\":\"white\",\"minorgridcolor\":\"white\",\"startlinecolor\":\"#2a3f5f\"},\"baxis\":{\"endlinecolor\":\"#2a3f5f\",\"gridcolor\":\"white\",\"linecolor\":\"white\",\"minorgridcolor\":\"white\",\"startlinecolor\":\"#2a3f5f\"},\"type\":\"carpet\"}],\"table\":[{\"cells\":{\"fill\":{\"color\":\"#EBF0F8\"},\"line\":{\"color\":\"white\"}},\"header\":{\"fill\":{\"color\":\"#C8D4E3\"},\"line\":{\"color\":\"white\"}},\"type\":\"table\"}],\"barpolar\":[{\"marker\":{\"line\":{\"color\":\"#E5ECF6\",\"width\":0.5},\"pattern\":{\"fillmode\":\"overlay\",\"size\":10,\"solidity\":0.2}},\"type\":\"barpolar\"}],\"pie\":[{\"automargin\":true,\"type\":\"pie\"}]},\"layout\":{\"autotypenumbers\":\"strict\",\"colorway\":[\"#636efa\",\"#EF553B\",\"#00cc96\",\"#ab63fa\",\"#FFA15A\",\"#19d3f3\",\"#FF6692\",\"#B6E880\",\"#FF97FF\",\"#FECB52\"],\"font\":{\"color\":\"#2a3f5f\"},\"hovermode\":\"closest\",\"hoverlabel\":{\"align\":\"left\"},\"paper_bgcolor\":\"white\",\"plot_bgcolor\":\"#E5ECF6\",\"polar\":{\"bgcolor\":\"#E5ECF6\",\"angularaxis\":{\"gridcolor\":\"white\",\"linecolor\":\"white\",\"ticks\":\"\"},\"radialaxis\":{\"gridcolor\":\"white\",\"linecolor\":\"white\",\"ticks\":\"\"}},\"ternary\":{\"bgcolor\":\"#E5ECF6\",\"aaxis\":{\"gridcolor\":\"white\",\"linecolor\":\"white\",\"ticks\":\"\"},\"baxis\":{\"gridcolor\":\"white\",\"linecolor\":\"white\",\"ticks\":\"\"},\"caxis\":{\"gridcolor\":\"white\",\"linecolor\":\"white\",\"ticks\":\"\"}},\"coloraxis\":{\"colorbar\":{\"outlinewidth\":0,\"ticks\":\"\"}},\"colorscale\":{\"sequential\":[[0.0,\"#0d0887\"],[0.1111111111111111,\"#46039f\"],[0.2222222222222222,\"#7201a8\"],[0.3333333333333333,\"#9c179e\"],[0.4444444444444444,\"#bd3786\"],[0.5555555555555556,\"#d8576b\"],[0.6666666666666666,\"#ed7953\"],[0.7777777777777778,\"#fb9f3a\"],[0.8888888888888888,\"#fdca26\"],[1.0,\"#f0f921\"]],\"sequentialminus\":[[0.0,\"#0d0887\"],[0.1111111111111111,\"#46039f\"],[0.2222222222222222,\"#7201a8\"],[0.3333333333333333,\"#9c179e\"],[0.4444444444444444,\"#bd3786\"],[0.5555555555555556,\"#d8576b\"],[0.6666666666666666,\"#ed7953\"],[0.7777777777777778,\"#fb9f3a\"],[0.8888888888888888,\"#fdca26\"],[1.0,\"#f0f921\"]],\"diverging\":[[0,\"#8e0152\"],[0.1,\"#c51b7d\"],[0.2,\"#de77ae\"],[0.3,\"#f1b6da\"],[0.4,\"#fde0ef\"],[0.5,\"#f7f7f7\"],[0.6,\"#e6f5d0\"],[0.7,\"#b8e186\"],[0.8,\"#7fbc41\"],[0.9,\"#4d9221\"],[1,\"#276419\"]]},\"xaxis\":{\"gridcolor\":\"white\",\"linecolor\":\"white\",\"ticks\":\"\",\"title\":{\"standoff\":15},\"zerolinecolor\":\"white\",\"automargin\":true,\"zerolinewidth\":2},\"yaxis\":{\"gridcolor\":\"white\",\"linecolor\":\"white\",\"ticks\":\"\",\"title\":{\"standoff\":15},\"zerolinecolor\":\"white\",\"automargin\":true,\"zerolinewidth\":2},\"scene\":{\"xaxis\":{\"backgroundcolor\":\"#E5ECF6\",\"gridcolor\":\"white\",\"linecolor\":\"white\",\"showbackground\":true,\"ticks\":\"\",\"zerolinecolor\":\"white\",\"gridwidth\":2},\"yaxis\":{\"backgroundcolor\":\"#E5ECF6\",\"gridcolor\":\"white\",\"linecolor\":\"white\",\"showbackground\":true,\"ticks\":\"\",\"zerolinecolor\":\"white\",\"gridwidth\":2},\"zaxis\":{\"backgroundcolor\":\"#E5ECF6\",\"gridcolor\":\"white\",\"linecolor\":\"white\",\"showbackground\":true,\"ticks\":\"\",\"zerolinecolor\":\"white\",\"gridwidth\":2}},\"shapedefaults\":{\"line\":{\"color\":\"#2a3f5f\"}},\"annotationdefaults\":{\"arrowcolor\":\"#2a3f5f\",\"arrowhead\":0,\"arrowwidth\":1},\"geo\":{\"bgcolor\":\"white\",\"landcolor\":\"#E5ECF6\",\"subunitcolor\":\"white\",\"showland\":true,\"showlakes\":true,\"lakecolor\":\"white\"},\"title\":{\"x\":0.05},\"mapbox\":{\"style\":\"light\"}}},\"shapes\":[{\"line\":{\"color\":\"black\",\"dash\":\"dash\",\"width\":3},\"type\":\"line\",\"x0\":0,\"x1\":1,\"xref\":\"x domain\",\"y0\":0,\"y1\":0,\"yref\":\"y\"}]},                        {\"responsive\": true}                    ).then(function(){\n                            \nvar gd = document.getElementById('ecd0d305-d739-4fdd-9aa6-9500cf4b9862');\nvar x = new MutationObserver(function (mutations, observer) {{\n        var display = window.getComputedStyle(gd).display;\n        if (!display || display === 'none') {{\n            console.log([gd, 'removed!']);\n            Plotly.purge(gd);\n            observer.disconnect();\n        }}\n}});\n\n// Listen for the removal of the full notebook cells\nvar notebookContainer = gd.closest('#notebook-container');\nif (notebookContainer) {{\n    x.observe(notebookContainer, {childList: true});\n}}\n\n// Listen for the clearing of the current output cell\nvar outputEl = gd.closest('.output');\nif (outputEl) {{\n    x.observe(outputEl, {childList: true});\n}}\n\n                        })                };                });            </script>        </div>"
     },
     "metadata": {},
     "output_type": "display_data"
    }
   ],
   "source": [
    "quantile_bootstrap_plot(sample_1, sample_2, n_step=100)"
   ],
   "metadata": {
    "collapsed": false,
    "ExecuteTime": {
     "end_time": "2023-07-09T12:42:27.942700Z",
     "start_time": "2023-07-09T12:42:27.279467Z"
    }
   }
  },
  {
   "cell_type": "markdown",
   "source": [],
   "metadata": {
    "collapsed": false
   }
  },
  {
   "cell_type": "markdown",
   "metadata": {},
   "source": [
    "# Experiment 2"
   ]
  },
  {
   "cell_type": "markdown",
   "metadata": {},
   "source": [
    "Let's model the A/B test experiment with lift in the test sample"
   ]
  },
  {
   "cell_type": "code",
   "execution_count": 22,
   "metadata": {
    "ExecuteTime": {
     "end_time": "2023-07-09T12:42:27.952780Z",
     "start_time": "2023-07-09T12:42:27.705117Z"
    }
   },
   "outputs": [],
   "source": [
    "# score in test are 10% greater than control (per record)\n",
    "# control has 5x the number of records as treatment\n",
    "\n",
    "lift = 1.1\n",
    "control = np.random.binomial(100, p=0.2 * lift, size=1000) * 1.0\n",
    "treatment = np.random.binomial(100, p=0.2, size=5000) * 1.0\n",
    "data_df = pd.concat([pd.Series(treatment), pd.Series(control)], axis=1).rename(columns={0: 'treatment', 1: 'control'})"
   ]
  },
  {
   "cell_type": "code",
   "execution_count": 23,
   "metadata": {
    "ExecuteTime": {
     "end_time": "2023-07-09T12:42:27.958102Z",
     "start_time": "2023-07-09T12:42:27.724821Z"
    }
   },
   "outputs": [
    {
     "data": {
      "text/plain": "<Axes: ylabel='Count'>"
     },
     "execution_count": 23,
     "metadata": {},
     "output_type": "execute_result"
    },
    {
     "data": {
      "text/plain": "<Figure size 640x480 with 1 Axes>",
      "image/png": "[encoded data removed]"
     },
     "metadata": {},
     "output_type": "display_data"
    }
   ],
   "source": [
    "binwidth, bins = estimate_bin_params(treatment)\n",
    "sns.histplot(data_df, binwidth=binwidth, bins=bins, kde=True)"
   ]
  },
  {
   "cell_type": "code",
   "execution_count": 24,
   "metadata": {
    "ExecuteTime": {
     "end_time": "2023-07-09T12:42:28.565586Z",
     "start_time": "2023-07-09T12:42:27.779708Z"
    }
   },
   "outputs": [
    {
     "data": {
      "text/plain": "<Figure size 640x480 with 1 Axes>",
      "image/png": "[encoded data removed]"
     },
     "metadata": {},
     "output_type": "display_data"
    },
    {
     "data": {
      "text/plain": "(0.0, -1.92976862, array([-2.210005, -1.6478  ]))"
     },
     "execution_count": 24,
     "metadata": {},
     "output_type": "execute_result"
    }
   ],
   "source": [
    "p_value, bootstrap_difference_mean, bootstrap_confidence_interval, bootstrap_difference_distribution = bootstrap(\n",
    "    control, treatment, plot=True)\n",
    "p_value, bootstrap_difference_mean, bootstrap_confidence_interval"
   ]
  },
  {
   "cell_type": "code",
   "execution_count": 25,
   "metadata": {
    "ExecuteTime": {
     "end_time": "2023-07-09T12:42:28.581433Z",
     "start_time": "2023-07-09T12:42:28.415575Z"
    }
   },
   "outputs": [
    {
     "data": {
      "text/plain": "<IPython.core.display.Markdown object>",
      "text/markdown": "<div class=\"alert alert-block alert-success\">Difference are significant($p$_$value$ < 0.05)</div>"
     },
     "metadata": {},
     "output_type": "display_data"
    }
   ],
   "source": [
    "display_markdown_cell_by_significance(p_value)"
   ]
  },
  {
   "cell_type": "code",
   "execution_count": 26,
   "metadata": {
    "ExecuteTime": {
     "end_time": "2023-07-09T12:42:29.051645Z",
     "start_time": "2023-07-09T12:42:28.421281Z"
    }
   },
   "outputs": [
    {
     "data": {
      "text/plain": "<Figure size 640x480 with 1 Axes>",
      "image/png": "[encoded data removed]"
     },
     "metadata": {},
     "output_type": "display_data"
    },
    {
     "data": {
      "text/plain": "(0.0, -9.624405101607604, array([-11.05496678,  -8.20107869]))"
     },
     "execution_count": 26,
     "metadata": {},
     "output_type": "execute_result"
    }
   ],
   "source": [
    "p_value, bootstrap_difference_mean, bootstrap_confidence_interval, bootstrap_difference_distribution = bootstrap(\n",
    "    control,\n",
    "    treatment,\n",
    "    statistic=percent_change_of_mean,\n",
    "    plot=True)\n",
    "p_value, bootstrap_difference_mean, bootstrap_confidence_interval"
   ]
  },
  {
   "cell_type": "code",
   "execution_count": 27,
   "outputs": [
    {
     "data": {
      "text/plain": "<IPython.core.display.Markdown object>",
      "text/markdown": "<div class=\"alert alert-block alert-success\">Difference are significant($p$_$value$ < 0.05)</div>"
     },
     "metadata": {},
     "output_type": "display_data"
    }
   ],
   "source": [
    "display_markdown_cell_by_significance(p_value)"
   ],
   "metadata": {
    "collapsed": false,
    "ExecuteTime": {
     "end_time": "2023-07-09T12:42:29.067943Z",
     "start_time": "2023-07-09T12:42:29.051099Z"
    }
   }
  },
  {
   "cell_type": "markdown",
   "metadata": {},
   "source": [
    "# Experiment 3"
   ]
  },
  {
   "cell_type": "code",
   "execution_count": 28,
   "metadata": {
    "ExecuteTime": {
     "end_time": "2023-07-09T12:42:29.302620Z",
     "start_time": "2023-07-09T12:42:29.055406Z"
    }
   },
   "outputs": [],
   "source": [
    "ctr_data = pd.read_csv('./data/ctr_data.csv')"
   ]
  },
  {
   "cell_type": "code",
   "execution_count": 29,
   "metadata": {
    "ExecuteTime": {
     "end_time": "2023-07-09T12:42:29.344816Z",
     "start_time": "2023-07-09T12:42:29.285542Z"
    }
   },
   "outputs": [
    {
     "name": "stdout",
     "output_type": "stream",
     "text": [
      "<class 'pandas.core.frame.DataFrame'>\n",
      "RangeIndex: 237609 entries, 0 to 237608\n",
      "Data columns (total 7 columns):\n",
      " #   Column           Non-Null Count   Dtype \n",
      "---  ------           --------------   ----- \n",
      " 0   impression_id    237609 non-null  object\n",
      " 1   impression_time  237609 non-null  object\n",
      " 2   user_id          237609 non-null  int64 \n",
      " 3   app_code         237609 non-null  int64 \n",
      " 4   os_version       237609 non-null  object\n",
      " 5   is_4G            237609 non-null  int64 \n",
      " 6   is_click         237609 non-null  int64 \n",
      "dtypes: int64(4), object(3)\n",
      "memory usage: 12.7+ MB\n"
     ]
    }
   ],
   "source": [
    "ctr_data.info()"
   ]
  },
  {
   "cell_type": "code",
   "execution_count": 30,
   "metadata": {
    "ExecuteTime": {
     "end_time": "2023-07-09T12:42:29.366396Z",
     "start_time": "2023-07-09T12:42:29.341280Z"
    }
   },
   "outputs": [
    {
     "data": {
      "text/plain": "                      impression_id      impression_time  user_id  app_code  \\\n0  c4ca4238a0b923820dcc509a6f75849b  2018-11-15 00:00:00    87862       422   \n1  45c48cce2e2d7fbdea1afc51c7c6ad26  2018-11-15 00:01:00    63410       467   \n2  70efdf2ec9b086079795c442636b55fb  2018-11-15 00:02:00    71748       259   \n3  8e296a067a37563370ded05f5a3bf3ec  2018-11-15 00:02:00    69209       244   \n4  182be0c5cdcd5072bb1864cdee4d3d6e  2018-11-15 00:02:00    62873       473   \n\n     os_version  is_4G  is_click  \n0           old      0         0  \n1        latest      1         1  \n2  intermediate      1         0  \n3        latest      1         0  \n4        latest      0         0  ",
      "text/html": "<div>\n<style scoped>\n    .dataframe tbody tr th:only-of-type {\n        vertical-align: middle;\n    }\n\n    .dataframe tbody tr th {\n        vertical-align: top;\n    }\n\n    .dataframe thead th {\n        text-align: right;\n    }\n</style>\n<table border=\"1\" class=\"dataframe\">\n  <thead>\n    <tr style=\"text-align: right;\">\n      <th></th>\n      <th>impression_id</th>\n      <th>impression_time</th>\n      <th>user_id</th>\n      <th>app_code</th>\n      <th>os_version</th>\n      <th>is_4G</th>\n      <th>is_click</th>\n    </tr>\n  </thead>\n  <tbody>\n    <tr>\n      <th>0</th>\n      <td>c4ca4238a0b923820dcc509a6f75849b</td>\n      <td>2018-11-15 00:00:00</td>\n      <td>87862</td>\n      <td>422</td>\n      <td>old</td>\n      <td>0</td>\n      <td>0</td>\n    </tr>\n    <tr>\n      <th>1</th>\n      <td>45c48cce2e2d7fbdea1afc51c7c6ad26</td>\n      <td>2018-11-15 00:01:00</td>\n      <td>63410</td>\n      <td>467</td>\n      <td>latest</td>\n      <td>1</td>\n      <td>1</td>\n    </tr>\n    <tr>\n      <th>2</th>\n      <td>70efdf2ec9b086079795c442636b55fb</td>\n      <td>2018-11-15 00:02:00</td>\n      <td>71748</td>\n      <td>259</td>\n      <td>intermediate</td>\n      <td>1</td>\n      <td>0</td>\n    </tr>\n    <tr>\n      <th>3</th>\n      <td>8e296a067a37563370ded05f5a3bf3ec</td>\n      <td>2018-11-15 00:02:00</td>\n      <td>69209</td>\n      <td>244</td>\n      <td>latest</td>\n      <td>1</td>\n      <td>0</td>\n    </tr>\n    <tr>\n      <th>4</th>\n      <td>182be0c5cdcd5072bb1864cdee4d3d6e</td>\n      <td>2018-11-15 00:02:00</td>\n      <td>62873</td>\n      <td>473</td>\n      <td>latest</td>\n      <td>0</td>\n      <td>0</td>\n    </tr>\n  </tbody>\n</table>\n</div>"
     },
     "execution_count": 30,
     "metadata": {},
     "output_type": "execute_result"
    }
   ],
   "source": [
    "ctr_data.head()"
   ]
  },
  {
   "cell_type": "code",
   "execution_count": 31,
   "metadata": {
    "ExecuteTime": {
     "end_time": "2023-07-09T12:42:29.454956Z",
     "start_time": "2023-07-09T12:42:29.365418Z"
    }
   },
   "outputs": [
    {
     "data": {
      "text/plain": "   user_id  clicks  views\n0        0       0      1\n1        2       0      4\n2        3       0      1\n3        5       0      2\n4        6       0      1",
      "text/html": "<div>\n<style scoped>\n    .dataframe tbody tr th:only-of-type {\n        vertical-align: middle;\n    }\n\n    .dataframe tbody tr th {\n        vertical-align: top;\n    }\n\n    .dataframe thead th {\n        text-align: right;\n    }\n</style>\n<table border=\"1\" class=\"dataframe\">\n  <thead>\n    <tr style=\"text-align: right;\">\n      <th></th>\n      <th>user_id</th>\n      <th>clicks</th>\n      <th>views</th>\n    </tr>\n  </thead>\n  <tbody>\n    <tr>\n      <th>0</th>\n      <td>0</td>\n      <td>0</td>\n      <td>1</td>\n    </tr>\n    <tr>\n      <th>1</th>\n      <td>2</td>\n      <td>0</td>\n      <td>4</td>\n    </tr>\n    <tr>\n      <th>2</th>\n      <td>3</td>\n      <td>0</td>\n      <td>1</td>\n    </tr>\n    <tr>\n      <th>3</th>\n      <td>5</td>\n      <td>0</td>\n      <td>2</td>\n    </tr>\n    <tr>\n      <th>4</th>\n      <td>6</td>\n      <td>0</td>\n      <td>1</td>\n    </tr>\n  </tbody>\n</table>\n</div>"
     },
     "execution_count": 31,
     "metadata": {},
     "output_type": "execute_result"
    }
   ],
   "source": [
    "user_level_ctr = ctr_data.groupby('user_id', as_index=False).agg({'is_click': ['sum', 'count']})\n",
    "user_level_ctr.columns = ['user_id', 'clicks', 'views']\n",
    "user_level_ctr.head()"
   ]
  },
  {
   "cell_type": "code",
   "execution_count": 32,
   "metadata": {
    "ExecuteTime": {
     "end_time": "2023-07-09T12:42:29.921811Z",
     "start_time": "2023-07-09T12:42:29.410831Z"
    }
   },
   "outputs": [
    {
     "data": {
      "text/plain": "<Figure size 1200x500 with 2 Axes>",
      "image/png": "[encoded data removed]"
     },
     "metadata": {},
     "output_type": "display_data"
    }
   ],
   "source": [
    "fig, axes = plt.subplots(1, 2, figsize=(12, 5))\n",
    "axes[0].set_title('Clicks Distribution')\n",
    "sns.histplot(ax=axes[0], data=user_level_ctr['clicks'], binwidth=1)\n",
    "axes[1].set_title('Views Distribution')\n",
    "sns.histplot(ax=axes[1], data=user_level_ctr['views'], binwidth=3)\n",
    "plt.show()"
   ]
  },
  {
   "cell_type": "code",
   "execution_count": 33,
   "metadata": {
    "ExecuteTime": {
     "end_time": "2023-07-09T12:42:29.922939Z",
     "start_time": "2023-07-09T12:42:29.748821Z"
    }
   },
   "outputs": [],
   "source": [
    "user_level_ctr.drop(index=0, inplace=True)\n",
    "control_group_data = user_level_ctr.sample(n=user_level_ctr.shape[0] // 2, random_state=42)\n",
    "treatment_group_data = user_level_ctr.drop(index=control_group_data.user_id.index)\n",
    "control_group_data['group_label'] = 'control'\n",
    "treatment_group_data['group_label'] = 'treatment'"
   ]
  },
  {
   "cell_type": "code",
   "execution_count": 34,
   "metadata": {
    "ExecuteTime": {
     "end_time": "2023-07-09T12:42:29.923275Z",
     "start_time": "2023-07-09T12:42:29.751754Z"
    }
   },
   "outputs": [
    {
     "data": {
      "text/plain": "   user_id  clicks  views group_label\n1        2       0      4     control\n2        3       0      1     control\n3        5       0      2   treatment\n4        6       0      1     control\n5        8       0      1     control",
      "text/html": "<div>\n<style scoped>\n    .dataframe tbody tr th:only-of-type {\n        vertical-align: middle;\n    }\n\n    .dataframe tbody tr th {\n        vertical-align: top;\n    }\n\n    .dataframe thead th {\n        text-align: right;\n    }\n</style>\n<table border=\"1\" class=\"dataframe\">\n  <thead>\n    <tr style=\"text-align: right;\">\n      <th></th>\n      <th>user_id</th>\n      <th>clicks</th>\n      <th>views</th>\n      <th>group_label</th>\n    </tr>\n  </thead>\n  <tbody>\n    <tr>\n      <th>1</th>\n      <td>2</td>\n      <td>0</td>\n      <td>4</td>\n      <td>control</td>\n    </tr>\n    <tr>\n      <th>2</th>\n      <td>3</td>\n      <td>0</td>\n      <td>1</td>\n      <td>control</td>\n    </tr>\n    <tr>\n      <th>3</th>\n      <td>5</td>\n      <td>0</td>\n      <td>2</td>\n      <td>treatment</td>\n    </tr>\n    <tr>\n      <th>4</th>\n      <td>6</td>\n      <td>0</td>\n      <td>1</td>\n      <td>control</td>\n    </tr>\n    <tr>\n      <th>5</th>\n      <td>8</td>\n      <td>0</td>\n      <td>1</td>\n      <td>control</td>\n    </tr>\n  </tbody>\n</table>\n</div>"
     },
     "execution_count": 34,
     "metadata": {},
     "output_type": "execute_result"
    }
   ],
   "source": [
    "user_level_ctr = pd.concat([control_group_data, treatment_group_data]).sort_values('user_id')\n",
    "user_level_ctr.head()"
   ]
  },
  {
   "cell_type": "code",
   "execution_count": 35,
   "metadata": {
    "ExecuteTime": {
     "end_time": "2023-07-09T12:42:29.923548Z",
     "start_time": "2023-07-09T12:42:29.752278Z"
    }
   },
   "outputs": [
    {
     "data": {
      "text/plain": "          control  treatment\n                            \nclick        5384       5478\nno_click   113337     113409",
      "text/html": "<div>\n<style scoped>\n    .dataframe tbody tr th:only-of-type {\n        vertical-align: middle;\n    }\n\n    .dataframe tbody tr th {\n        vertical-align: top;\n    }\n\n    .dataframe thead th {\n        text-align: right;\n    }\n</style>\n<table border=\"1\" class=\"dataframe\">\n  <thead>\n    <tr style=\"text-align: right;\">\n      <th></th>\n      <th>control</th>\n      <th>treatment</th>\n    </tr>\n    <tr>\n      <th></th>\n      <th></th>\n      <th></th>\n    </tr>\n  </thead>\n  <tbody>\n    <tr>\n      <th>click</th>\n      <td>5384</td>\n      <td>5478</td>\n    </tr>\n    <tr>\n      <th>no_click</th>\n      <td>113337</td>\n      <td>113409</td>\n    </tr>\n  </tbody>\n</table>\n</div>"
     },
     "execution_count": 35,
     "metadata": {},
     "output_type": "execute_result"
    }
   ],
   "source": [
    "contingency_table = user_level_ctr.copy()\n",
    "contingency_table['views'] = contingency_table['views'] - contingency_table['clicks']\n",
    "contingency_table.rename(columns={'clicks': 'click', 'views': 'no_click'}, inplace=True)\n",
    "contingency_table = pd.melt(contingency_table, id_vars=['user_id', 'group_label'], value_vars=['click', 'no_click'],\n",
    "                            var_name='is_click', value_name='count')\n",
    "contingency_table = contingency_table.pivot_table(index='is_click', columns='group_label', values='count',\n",
    "                                                  aggfunc='sum')\n",
    "contingency_table.columns.name, contingency_table.index.name = '', ''\n",
    "contingency_table"
   ]
  },
  {
   "cell_type": "code",
   "execution_count": 36,
   "metadata": {
    "ExecuteTime": {
     "end_time": "2023-07-09T12:42:29.923678Z",
     "start_time": "2023-07-09T12:42:29.752488Z"
    }
   },
   "outputs": [],
   "source": [
    "global_ctr_control = control_group_data['clicks'].sum() / control_group_data['views'].sum()\n",
    "global_ctr_treatment = treatment_group_data['clicks'].sum() / treatment_group_data['views'].sum()"
   ]
  },
  {
   "cell_type": "code",
   "execution_count": 37,
   "metadata": {
    "ExecuteTime": {
     "end_time": "2023-07-09T12:42:29.924306Z",
     "start_time": "2023-07-09T12:42:29.754098Z"
    }
   },
   "outputs": [
    {
     "name": "stdout",
     "output_type": "stream",
     "text": [
      "Control group global CTR: 4.54%\n",
      "Treatment group global CTR: 4.61%\n"
     ]
    }
   ],
   "source": [
    "print('Control group global CTR: {:.2%}'.format(global_ctr_control))\n",
    "print('Treatment group global CTR: {:.2%}'.format(global_ctr_treatment))"
   ]
  },
  {
   "cell_type": "code",
   "execution_count": 38,
   "metadata": {
    "ExecuteTime": {
     "end_time": "2023-07-09T12:42:50.008973Z",
     "start_time": "2023-07-09T12:42:29.755121Z"
    }
   },
   "outputs": [
    {
     "data": {
      "text/plain": "<Figure size 640x480 with 1 Axes>",
      "image/png": "[encoded data removed]"
     },
     "metadata": {},
     "output_type": "display_data"
    },
    {
     "data": {
      "text/plain": "(0.5078, 0.0007275545596949099, array([-0.00153833,  0.00292088]))"
     },
     "execution_count": 38,
     "metadata": {},
     "output_type": "execute_result"
    }
   ],
   "source": [
    "p_value, bootstrap_difference_mean, bootstrap_confidence_interval, bootstrap_difference_distribution = ctr_bootstrap(\n",
    "    control_group_data, treatment_group_data, plot=True)\n",
    "p_value, bootstrap_difference_mean, bootstrap_confidence_interval"
   ]
  },
  {
   "cell_type": "code",
   "execution_count": 39,
   "metadata": {
    "ExecuteTime": {
     "end_time": "2023-07-09T12:42:50.014641Z",
     "start_time": "2023-07-09T12:42:50.001475Z"
    }
   },
   "outputs": [
    {
     "data": {
      "text/plain": "<IPython.core.display.Markdown object>",
      "text/markdown": "<div class=\"alert alert-block alert-danger\">Difference are non-significant($p$_$value$ > 0.05)</div>"
     },
     "metadata": {},
     "output_type": "display_data"
    }
   ],
   "source": [
    "display_markdown_cell_by_significance(p_value)"
   ]
  },
  {
   "cell_type": "code",
   "execution_count": 40,
   "metadata": {
    "ExecuteTime": {
     "end_time": "2023-07-09T12:42:50.017025Z",
     "start_time": "2023-07-09T12:42:50.014082Z"
    }
   },
   "outputs": [
    {
     "data": {
      "text/plain": "0.5078"
     },
     "execution_count": 40,
     "metadata": {},
     "output_type": "execute_result"
    }
   ],
   "source": [
    "p_value"
   ]
  },
  {
   "cell_type": "code",
   "execution_count": 41,
   "outputs": [],
   "source": [
    "ctrs_1 = (control_group_data.clicks / control_group_data.views).values\n",
    "weights_1 = control_group_data.views.values\n",
    "ctrs_2 = (treatment_group_data.clicks / treatment_group_data.views).values\n",
    "weights_2 = treatment_group_data.views.values"
   ],
   "metadata": {
    "collapsed": false,
    "ExecuteTime": {
     "end_time": "2023-07-09T12:42:50.022200Z",
     "start_time": "2023-07-09T12:42:50.015978Z"
    }
   }
  },
  {
   "cell_type": "code",
   "execution_count": 42,
   "outputs": [
    {
     "data": {
      "text/plain": "0.532"
     },
     "execution_count": 42,
     "metadata": {},
     "output_type": "execute_result"
    }
   ],
   "source": [
    "p_value = ctr_poisson_bootstrap(ctrs_1, weights_1, ctrs_2, weights_2)\n",
    "p_value"
   ],
   "metadata": {
    "collapsed": false,
    "ExecuteTime": {
     "end_time": "2023-07-09T12:43:12.037316Z",
     "start_time": "2023-07-09T12:42:50.018836Z"
    }
   }
  }
 ],
 "metadata": {
  "kernelspec": {
   "display_name": "Python 3 (ipykernel)",
   "language": "python",
   "name": "python3"
  },
  "language_info": {
   "codemirror_mode": {
    "name": "ipython",
    "version": 3
   },
   "file_extension": ".py",
   "mimetype": "text/x-python",
   "name": "python",
   "nbconvert_exporter": "python",
   "pygments_lexer": "ipython3",
   "version": "3.11.3"
  }
 },
 "nbformat": 4,
 "nbformat_minor": 4
}
